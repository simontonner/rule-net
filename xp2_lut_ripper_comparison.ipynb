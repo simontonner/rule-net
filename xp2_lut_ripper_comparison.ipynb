{
 "cells": [
  {
   "cell_type": "code",
   "id": "initial_id",
   "metadata": {
    "collapsed": true,
    "ExecuteTime": {
     "end_time": "2025-09-17T16:02:27.360317Z",
     "start_time": "2025-09-17T16:02:27.355156Z"
    }
   },
   "source": [
    "import pandas as pd\n",
    "\n",
    "from architecture.classifier import DeepBinaryClassifier\n",
    "from architecture.nodes.ripper import make_ripper_node"
   ],
   "outputs": [],
   "execution_count": 9
  },
  {
   "metadata": {
    "ExecuteTime": {
     "end_time": "2025-09-17T16:02:30.173440Z",
     "start_time": "2025-09-17T16:02:30.061877Z"
    }
   },
   "cell_type": "code",
   "source": [
    "train_df = pd.read_csv(\"./data/mnist/mnist_train.csv\")\n",
    "test_df = pd.read_csv(\"./data/mnist/mnist_test.csv\")\n",
    "\n",
    "input_values_train = train_df.drop(columns=\"label\").to_numpy(bool)\n",
    "target_values_train = train_df[\"label\"].to_numpy(bool)\n",
    "\n",
    "input_values_test = test_df.drop(columns=\"label\").to_numpy(bool)\n",
    "target_values_test = test_df[\"label\"].to_numpy(bool)\n",
    "\n",
    "print(\"Dataset shapes:\")\n",
    "print(f\"TRAIN | input: {input_values_train.shape}, target: {target_values_train.shape}, pos. frac.: {target_values_train.mean():.3f}\")\n",
    "print(f\"TEST  | input: {input_values_test.shape}, target: {target_values_test.shape}, pos. frac.: {target_values_test.mean():.3f}\")"
   ],
   "id": "ecd155be475a5023",
   "outputs": [
    {
     "name": "stdout",
     "output_type": "stream",
     "text": [
      "Dataset shapes:\n",
      "TRAIN | input: (10000, 196), target: (10000,), pos. frac.: 0.486\n",
      "TEST  | input: (1500, 196), target: (1500,), pos. frac.: 0.497\n"
     ]
    }
   ],
   "execution_count": 10
  },
  {
   "metadata": {
    "ExecuteTime": {
     "end_time": "2025-09-17T16:02:40.904737Z",
     "start_time": "2025-09-17T16:02:31.909351Z"
    }
   },
   "cell_type": "code",
   "source": [
    "layer_node_counts = [8] * 3 + [1]\n",
    "config = dict(layer_node_counts=layer_node_counts, layer_bit_counts=[4]*len(layer_node_counts), seed=42)\n",
    "\n",
    "net = DeepBinaryClassifier(**config, node_factory=make_ripper_node, jobs=8)\n",
    "%time net.fit(input_values_train, target_values_train)\n",
    "\n",
    "pred_values_test = net.predict(input_values_test)\n",
    "accuracies_test = (pred_values_test == target_values_test).mean(axis=0)\n",
    "print(\"Accuracy:\", accuracies_test)"
   ],
   "id": "f08417ab6abf1ed",
   "outputs": [
    {
     "name": "stdout",
     "output_type": "stream",
     "text": [
      "CPU times: user 48 ms, sys: 118 ms, total: 166 ms\n",
      "Wall time: 8.99 s\n",
      "Accuracy: 0.6253333333333333\n"
     ]
    }
   ],
   "execution_count": 11
  }
 ],
 "metadata": {
  "kernelspec": {
   "display_name": "Python 3",
   "language": "python",
   "name": "python3"
  },
  "language_info": {
   "codemirror_mode": {
    "name": "ipython",
    "version": 2
   },
   "file_extension": ".py",
   "mimetype": "text/x-python",
   "name": "python",
   "nbconvert_exporter": "python",
   "pygments_lexer": "ipython2",
   "version": "2.7.6"
  }
 },
 "nbformat": 4,
 "nbformat_minor": 5
}
