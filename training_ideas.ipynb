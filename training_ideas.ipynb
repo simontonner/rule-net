{
 "cells": [
  {
   "metadata": {},
   "cell_type": "code",
   "outputs": [],
   "execution_count": null,
   "source": [
    "# ripper allows for some hyperparameter tuning, note this down in some document called sidenotes or sth.\n",
    "\n",
    "#ripper = lw.RIPPER(\n",
    "#    random_state=seed,\n",
    "#    prune_size=0.3,         # prune away rare, over‐specific rules\n",
    "#    dl_allowance=32,        # stop MDL growth earlier\n",
    "#    k=4,                    # explore multiple rule‐set candidates\n",
    "#    max_rules=12,           # cap total rules\n",
    "#    max_rule_conds=3,       # cap conditions per rule\n",
    "#    max_total_conds=36,\n",
    "#    verbosity=1\n",
    "#)"
   ],
   "id": "ccdbf978e1648e72"
  },
  {
   "metadata": {},
   "cell_type": "code",
   "outputs": [],
   "execution_count": null,
   "source": [
    "# ripper_net_training already includes a dataset 1a.csv. Maybe evaluate a ripper net with the following config:\n",
    "\n",
    "config = dict(\n",
    "    layer_node_counts=[32]*5 + [1],\n",
    "    layer_bit_counts=[6]*6,\n",
    "    seed=42\n",
    ")"
   ],
   "id": "3e6e40da92c0afe8"
  }
 ],
 "metadata": {
  "kernelspec": {
   "display_name": "Python 3",
   "language": "python",
   "name": "python3"
  },
  "language_info": {
   "codemirror_mode": {
    "name": "ipython",
    "version": 2
   },
   "file_extension": ".py",
   "mimetype": "text/x-python",
   "name": "python",
   "nbconvert_exporter": "python",
   "pygments_lexer": "ipython2",
   "version": "2.7.6"
  }
 },
 "nbformat": 4,
 "nbformat_minor": 5
}
