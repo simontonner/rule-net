{
 "cells": [
  {
   "cell_type": "code",
   "id": "initial_id",
   "metadata": {
    "collapsed": true,
    "ExecuteTime": {
     "end_time": "2025-09-17T18:39:46.755305Z",
     "start_time": "2025-09-17T18:39:46.146245Z"
    }
   },
   "source": [
    "import pandas as pd\n",
    "\n",
    "from architecture.classifier import DeepBinaryClassifier\n",
    "from architecture.nodes.lut import make_lut_node"
   ],
   "outputs": [],
   "execution_count": 1
  },
  {
   "metadata": {
    "ExecuteTime": {
     "end_time": "2025-09-17T18:39:48.873170Z",
     "start_time": "2025-09-17T18:39:48.769683Z"
    }
   },
   "cell_type": "code",
   "source": [
    "train_df = pd.read_csv(\"./data/mnist/mnist_train.csv\")\n",
    "test_df = pd.read_csv(\"./data/mnist/mnist_test.csv\")\n",
    "\n",
    "input_values_train = train_df.drop(columns=\"label\").to_numpy(bool)\n",
    "target_values_train = train_df[\"label\"].to_numpy(bool)\n",
    "\n",
    "input_values_test = test_df.drop(columns=\"label\").to_numpy(bool)\n",
    "target_values_test = test_df[\"label\"].to_numpy(bool)\n",
    "\n",
    "print(\"Dataset shapes:\")\n",
    "print(f\"TRAIN | input: {input_values_train.shape}, target: {target_values_train.shape}, pos. frac.: {target_values_train.mean():.3f}\")\n",
    "print(f\"TEST  | input: {input_values_test.shape}, target: {target_values_test.shape}, pos. frac.: {target_values_test.mean():.3f}\")"
   ],
   "id": "ecd155be475a5023",
   "outputs": [
    {
     "name": "stdout",
     "output_type": "stream",
     "text": [
      "Dataset shapes:\n",
      "TRAIN | input: (10000, 196), target: (10000,), pos. frac.: 0.486\n",
      "TEST  | input: (1500, 196), target: (1500,), pos. frac.: 0.497\n"
     ]
    }
   ],
   "execution_count": 2
  },
  {
   "metadata": {
    "ExecuteTime": {
     "end_time": "2025-09-17T18:29:48.741784Z",
     "start_time": "2025-09-17T18:29:48.726570Z"
    }
   },
   "cell_type": "code",
   "outputs": [
    {
     "name": "stdout",
     "output_type": "stream",
     "text": [
      "CPU times: user 7.79 ms, sys: 2.66 ms, total: 10.4 ms\n",
      "Wall time: 9.37 ms\n",
      "Accuracy: 0.644\n"
     ]
    }
   ],
   "execution_count": 6,
   "source": [
    "layer_node_counts = [8] * 3 + [1]\n",
    "config = dict(layer_node_counts=layer_node_counts, layer_bit_counts=[4]*len(layer_node_counts), seed=42)\n",
    "\n",
    "net = DeepBinaryClassifier(**config, node_factory=make_lut_node)\n",
    "%time net.fit(input_values_train, target_values_train)\n",
    "\n",
    "pred_values_test = net.predict(input_values_test)\n",
    "accuracies_test = (pred_values_test == target_values_test).mean(axis=0)\n",
    "print(\"Accuracy:\", accuracies_test)"
   ],
   "id": "f08417ab6abf1ed"
  }
 ],
 "metadata": {
  "kernelspec": {
   "display_name": "Python 3",
   "language": "python",
   "name": "python3"
  },
  "language_info": {
   "codemirror_mode": {
    "name": "ipython",
    "version": 2
   },
   "file_extension": ".py",
   "mimetype": "text/x-python",
   "name": "python",
   "nbconvert_exporter": "python",
   "pygments_lexer": "ipython2",
   "version": "2.7.6"
  }
 },
 "nbformat": 4,
 "nbformat_minor": 5
}
