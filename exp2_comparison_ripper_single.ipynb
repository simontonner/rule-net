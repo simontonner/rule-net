{
 "cells": [
  {
   "cell_type": "code",
   "id": "initial_id",
   "metadata": {
    "collapsed": true,
    "ExecuteTime": {
     "end_time": "2025-09-18T15:38:16.730196Z",
     "start_time": "2025-09-18T15:38:16.138939Z"
    }
   },
   "source": [
    "import time\n",
    "\n",
    "import numpy as np\n",
    "import pandas as pd\n",
    "\n",
    "from architecture.classifier import DeepBinaryClassifier\n",
    "from architecture.nodes.lut import make_lut_node\n",
    "from architecture.nodes.ripper import make_ripper_node"
   ],
   "outputs": [],
   "execution_count": 2
  },
  {
   "metadata": {
    "ExecuteTime": {
     "end_time": "2025-09-18T15:38:18.143345Z",
     "start_time": "2025-09-18T15:38:18.034913Z"
    }
   },
   "cell_type": "code",
   "source": [
    "train_df = pd.read_csv(\"./data/mnist/mnist_train.csv\")\n",
    "test_df = pd.read_csv(\"./data/mnist/mnist_test.csv\")\n",
    "\n",
    "input_values_train = train_df.drop(columns=\"label\").to_numpy(bool)\n",
    "target_values_train = train_df[\"label\"].to_numpy(bool)\n",
    "\n",
    "input_values_test = test_df.drop(columns=\"label\").to_numpy(bool)\n",
    "target_values_test = test_df[\"label\"].to_numpy(bool)\n",
    "\n",
    "print(\"Dataset shapes:\")\n",
    "print(f\"TRAIN | input: {input_values_train.shape}, target: {target_values_train.shape}, pos. frac.: {target_values_train.mean():.3f}\")\n",
    "print(f\"TEST  | input: {input_values_test.shape}, target: {target_values_test.shape}, pos. frac.: {target_values_test.mean():.3f}\")"
   ],
   "id": "ecd155be475a5023",
   "outputs": [
    {
     "name": "stdout",
     "output_type": "stream",
     "text": [
      "Dataset shapes:\n",
      "TRAIN | input: (10000, 196), target: (10000,), pos. frac.: 0.486\n",
      "TEST  | input: (1500, 196), target: (1500,), pos. frac.: 0.497\n"
     ]
    }
   ],
   "execution_count": 3
  }
 ],
 "metadata": {
  "kernelspec": {
   "display_name": "Python 3",
   "language": "python",
   "name": "python3"
  },
  "language_info": {
   "codemirror_mode": {
    "name": "ipython",
    "version": 2
   },
   "file_extension": ".py",
   "mimetype": "text/x-python",
   "name": "python",
   "nbconvert_exporter": "python",
   "pygments_lexer": "ipython2",
   "version": "2.7.6"
  }
 },
 "nbformat": 4,
 "nbformat_minor": 5
}
