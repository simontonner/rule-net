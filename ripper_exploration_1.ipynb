{
 "cells": [
  {
   "cell_type": "code",
   "id": "initial_id",
   "metadata": {
    "collapsed": true,
    "ExecuteTime": {
     "end_time": "2025-04-27T15:33:56.865016Z",
     "start_time": "2025-04-27T15:33:55.451463Z"
    }
   },
   "source": [
    "import matplotlib.pyplot as plt\n",
    "\n",
    "from ripper_lut_net import *\n",
    "from data.mnist import load_mnist_binary"
   ],
   "outputs": [],
   "execution_count": 1
  },
  {
   "cell_type": "code",
   "source": [
    "X_train, X_test, y_train, y_test = load_mnist_binary()\n",
    "\n",
    "fig, axs = plt.subplots(1, 10, figsize=(20, 2))\n",
    "for i in range(10):\n",
    "    axs[i].imshow(X_train[i].reshape(28, 28), cmap='gray')\n",
    "    axs[i].set_title(y_train[i])\n",
    "    axs[i].axis('off')"
   ],
   "metadata": {
    "collapsed": false,
    "ExecuteTime": {
     "end_time": "2025-04-27T15:34:02.841156Z",
     "start_time": "2025-04-27T15:33:59.105247Z"
    }
   },
   "id": "576dc10b9fcc4ec7",
   "outputs": [
    {
     "data": {
      "text/plain": [
       "<Figure size 2000x200 with 10 Axes>"
      ],
      "image/png": "[encoded data removed]"
     },
     "metadata": {},
     "output_type": "display_data"
    }
   ],
   "execution_count": 2
  },
  {
   "cell_type": "code",
   "source": [
    "%%time\n",
    "\n",
    "##### TRAINING A SIMPLE LUT NETWORK #####\n",
    "\n",
    "lut_bits = 4\n",
    "num_layers = 4\n",
    "\n",
    "lut_net = RipperLut(bits=[lut_bits] * (num_layers + 1), hidden_layers=[32] * num_layers, verbose=True, mode='lut')\n",
    "preds_train = lut_net.train(X_train, y_train)\n",
    "preds_test = lut_net.predict(X_test)\n",
    "print(f\"Accuracy on training set: {accuracy_score(preds_train, y_train):.2f}\")\n",
    "print(f\"Accuracy on test set: {accuracy_score(preds_test, y_test):.2f}\")"
   ],
   "metadata": {
    "collapsed": false,
    "ExecuteTime": {
     "end_time": "2025-04-27T15:34:10.113152Z",
     "start_time": "2025-04-27T15:34:04.883967Z"
    }
   },
   "id": "3ff1e9d10ff1e096",
   "outputs": [
    {
     "name": "stderr",
     "output_type": "stream",
     "text": [
      "100%|██████████| 4/4 [00:03<00:00,  1.27it/s]\n"
     ]
    },
    {
     "name": "stdout",
     "output_type": "stream",
     "text": [
      "Accuracy on training set: 0.76\n",
      "Accuracy on test set: 0.76\n",
      "CPU times: user 252 ms, sys: 550 ms, total: 802 ms\n",
      "Wall time: 5.23 s\n"
     ]
    }
   ],
   "execution_count": 3
  },
  {
   "cell_type": "code",
   "source": [
    "# investigate the shape of the .lut_arr_ attribute\n",
    "\n",
    "for layer in lut_net.lut_arr_:\n",
    "    print(layer.shape) # (number_of_luts, 2**lut_bits)"
   ],
   "metadata": {
    "collapsed": false,
    "ExecuteTime": {
     "end_time": "2025-04-27T15:34:19.105856Z",
     "start_time": "2025-04-27T15:34:19.103075Z"
    }
   },
   "id": "ea0a4c8470120733",
   "outputs": [
    {
     "name": "stdout",
     "output_type": "stream",
     "text": [
      "(32, 16)\n",
      "(32, 16)\n",
      "(32, 16)\n",
      "(32, 16)\n",
      "(16,)\n"
     ]
    }
   ],
   "execution_count": 4
  },
  {
   "cell_type": "code",
   "source": [
    "# We get the shape (number_of_luts, 2**lut_bits) for each layer. \n",
    "# This basically means, that he just stores the output column for each LUT.\n",
    "# Or more precisely, for each layer we have a list of only the output columns of the LUTs.\n",
    "# We will have to append the corresponding bit pattern to get a full LUT.\n",
    "\n",
    "def get_full_lut(out_col, get_dataframe=False):\n",
    "    num_bits = int(np.log2(len(out_col)))\n",
    "    in_cols = get_bit_pattern(num_bits)\n",
    "    full_lut = np.column_stack((in_cols, out_col))\n",
    "    \n",
    "    if get_dataframe:\n",
    "        col_names = [f\"bit{i}\" for i in range(num_bits)] + [\"out\"]\n",
    "        full_lut = pd.DataFrame(full_lut, columns=col_names)\n",
    "    \n",
    "    return full_lut\n",
    "\n",
    "# look at one lut\n",
    "lut_df = get_full_lut(lut_net.lut_arr_[0][0], get_dataframe=True)\n",
    "lut_df"
   ],
   "metadata": {
    "collapsed": false,
    "ExecuteTime": {
     "end_time": "2025-04-27T15:34:29.746733Z",
     "start_time": "2025-04-27T15:34:29.739526Z"
    }
   },
   "id": "7b31aa85438a916e",
   "outputs": [
    {
     "data": {
      "text/plain": [
       "     bit0   bit1   bit2   bit3    out\n",
       "0   False  False  False  False   True\n",
       "1   False  False  False   True   True\n",
       "2   False  False   True  False  False\n",
       "3   False  False   True   True   True\n",
       "4   False   True  False  False   True\n",
       "5   False   True  False   True   True\n",
       "6   False   True   True  False  False\n",
       "7   False   True   True   True   True\n",
       "8    True  False  False  False  False\n",
       "9    True  False  False   True  False\n",
       "10   True  False   True  False  False\n",
       "11   True  False   True   True  False\n",
       "12   True   True  False  False  False\n",
       "13   True   True  False   True   True\n",
       "14   True   True   True  False  False\n",
       "15   True   True   True   True  False"
      ],
      "text/html": [
       "<div>\n",
       "<style scoped>\n",
       "    .dataframe tbody tr th:only-of-type {\n",
       "        vertical-align: middle;\n",
       "    }\n",
       "\n",
       "    .dataframe tbody tr th {\n",
       "        vertical-align: top;\n",
       "    }\n",
       "\n",
       "    .dataframe thead th {\n",
       "        text-align: right;\n",
       "    }\n",
       "</style>\n",
       "<table border=\"1\" class=\"dataframe\">\n",
       "  <thead>\n",
       "    <tr style=\"text-align: right;\">\n",
       "      <th></th>\n",
       "      <th>bit0</th>\n",
       "      <th>bit1</th>\n",
       "      <th>bit2</th>\n",
       "      <th>bit3</th>\n",
       "      <th>out</th>\n",
       "    </tr>\n",
       "  </thead>\n",
       "  <tbody>\n",
       "    <tr>\n",
       "      <th>0</th>\n",
       "      <td>False</td>\n",
       "      <td>False</td>\n",
       "      <td>False</td>\n",
       "      <td>False</td>\n",
       "      <td>True</td>\n",
       "    </tr>\n",
       "    <tr>\n",
       "      <th>1</th>\n",
       "      <td>False</td>\n",
       "      <td>False</td>\n",
       "      <td>False</td>\n",
       "      <td>True</td>\n",
       "      <td>True</td>\n",
       "    </tr>\n",
       "    <tr>\n",
       "      <th>2</th>\n",
       "      <td>False</td>\n",
       "      <td>False</td>\n",
       "      <td>True</td>\n",
       "      <td>False</td>\n",
       "      <td>False</td>\n",
       "    </tr>\n",
       "    <tr>\n",
       "      <th>3</th>\n",
       "      <td>False</td>\n",
       "      <td>False</td>\n",
       "      <td>True</td>\n",
       "      <td>True</td>\n",
       "      <td>True</td>\n",
       "    </tr>\n",
       "    <tr>\n",
       "      <th>4</th>\n",
       "      <td>False</td>\n",
       "      <td>True</td>\n",
       "      <td>False</td>\n",
       "      <td>False</td>\n",
       "      <td>True</td>\n",
       "    </tr>\n",
       "    <tr>\n",
       "      <th>5</th>\n",
       "      <td>False</td>\n",
       "      <td>True</td>\n",
       "      <td>False</td>\n",
       "      <td>True</td>\n",
       "      <td>True</td>\n",
       "    </tr>\n",
       "    <tr>\n",
       "      <th>6</th>\n",
       "      <td>False</td>\n",
       "      <td>True</td>\n",
       "      <td>True</td>\n",
       "      <td>False</td>\n",
       "      <td>False</td>\n",
       "    </tr>\n",
       "    <tr>\n",
       "      <th>7</th>\n",
       "      <td>False</td>\n",
       "      <td>True</td>\n",
       "      <td>True</td>\n",
       "      <td>True</td>\n",
       "      <td>True</td>\n",
       "    </tr>\n",
       "    <tr>\n",
       "      <th>8</th>\n",
       "      <td>True</td>\n",
       "      <td>False</td>\n",
       "      <td>False</td>\n",
       "      <td>False</td>\n",
       "      <td>False</td>\n",
       "    </tr>\n",
       "    <tr>\n",
       "      <th>9</th>\n",
       "      <td>True</td>\n",
       "      <td>False</td>\n",
       "      <td>False</td>\n",
       "      <td>True</td>\n",
       "      <td>False</td>\n",
       "    </tr>\n",
       "    <tr>\n",
       "      <th>10</th>\n",
       "      <td>True</td>\n",
       "      <td>False</td>\n",
       "      <td>True</td>\n",
       "      <td>False</td>\n",
       "      <td>False</td>\n",
       "    </tr>\n",
       "    <tr>\n",
       "      <th>11</th>\n",
       "      <td>True</td>\n",
       "      <td>False</td>\n",
       "      <td>True</td>\n",
       "      <td>True</td>\n",
       "      <td>False</td>\n",
       "    </tr>\n",
       "    <tr>\n",
       "      <th>12</th>\n",
       "      <td>True</td>\n",
       "      <td>True</td>\n",
       "      <td>False</td>\n",
       "      <td>False</td>\n",
       "      <td>False</td>\n",
       "    </tr>\n",
       "    <tr>\n",
       "      <th>13</th>\n",
       "      <td>True</td>\n",
       "      <td>True</td>\n",
       "      <td>False</td>\n",
       "      <td>True</td>\n",
       "      <td>True</td>\n",
       "    </tr>\n",
       "    <tr>\n",
       "      <th>14</th>\n",
       "      <td>True</td>\n",
       "      <td>True</td>\n",
       "      <td>True</td>\n",
       "      <td>False</td>\n",
       "      <td>False</td>\n",
       "    </tr>\n",
       "    <tr>\n",
       "      <th>15</th>\n",
       "      <td>True</td>\n",
       "      <td>True</td>\n",
       "      <td>True</td>\n",
       "      <td>True</td>\n",
       "      <td>False</td>\n",
       "    </tr>\n",
       "  </tbody>\n",
       "</table>\n",
       "</div>"
      ]
     },
     "execution_count": 6,
     "metadata": {},
     "output_type": "execute_result"
    }
   ],
   "execution_count": 6
  },
  {
   "cell_type": "code",
   "source": [
    "#### Try to perform predictions with ripper\n",
    "\n",
    "input_bits_df = lut_df.drop('out', axis=1)\n",
    "output_df = lut_df['out']\n",
    "\n",
    "ripper_clf = lw.RIPPER()\n",
    "ripper_clf.fit(input_bits_df, output_df)\n",
    "\n",
    "ripper_preds = ripper_clf.predict(input_bits_df)\n",
    "\n",
    "comparison_df = lut_df.copy()\n",
    "comparison_df['ripper_out'] = ripper_preds\n",
    "comparison_df.rename(columns={'out': 'lut_out'}, inplace=True)\n",
    "\n",
    "print(ripper_clf.ruleset_)\n",
    "comparison_df"
   ],
   "metadata": {
    "collapsed": false,
    "ExecuteTime": {
     "end_time": "2025-04-27T15:34:32.573212Z",
     "start_time": "2025-04-27T15:34:32.554219Z"
    }
   },
   "id": "be7893b83846d50c",
   "outputs": [
    {
     "name": "stdout",
     "output_type": "stream",
     "text": [
      "[[bit2=False^bit0=False] V [bit3=True^bit0=False]]\n"
     ]
    },
    {
     "data": {
      "text/plain": [
       "     bit0   bit1   bit2   bit3  lut_out  ripper_out\n",
       "0   False  False  False  False     True        True\n",
       "1   False  False  False   True     True        True\n",
       "2   False  False   True  False    False       False\n",
       "3   False  False   True   True     True        True\n",
       "4   False   True  False  False     True        True\n",
       "5   False   True  False   True     True        True\n",
       "6   False   True   True  False    False       False\n",
       "7   False   True   True   True     True        True\n",
       "8    True  False  False  False    False       False\n",
       "9    True  False  False   True    False       False\n",
       "10   True  False   True  False    False       False\n",
       "11   True  False   True   True    False       False\n",
       "12   True   True  False  False    False       False\n",
       "13   True   True  False   True     True       False\n",
       "14   True   True   True  False    False       False\n",
       "15   True   True   True   True    False       False"
      ],
      "text/html": [
       "<div>\n",
       "<style scoped>\n",
       "    .dataframe tbody tr th:only-of-type {\n",
       "        vertical-align: middle;\n",
       "    }\n",
       "\n",
       "    .dataframe tbody tr th {\n",
       "        vertical-align: top;\n",
       "    }\n",
       "\n",
       "    .dataframe thead th {\n",
       "        text-align: right;\n",
       "    }\n",
       "</style>\n",
       "<table border=\"1\" class=\"dataframe\">\n",
       "  <thead>\n",
       "    <tr style=\"text-align: right;\">\n",
       "      <th></th>\n",
       "      <th>bit0</th>\n",
       "      <th>bit1</th>\n",
       "      <th>bit2</th>\n",
       "      <th>bit3</th>\n",
       "      <th>lut_out</th>\n",
       "      <th>ripper_out</th>\n",
       "    </tr>\n",
       "  </thead>\n",
       "  <tbody>\n",
       "    <tr>\n",
       "      <th>0</th>\n",
       "      <td>False</td>\n",
       "      <td>False</td>\n",
       "      <td>False</td>\n",
       "      <td>False</td>\n",
       "      <td>True</td>\n",
       "      <td>True</td>\n",
       "    </tr>\n",
       "    <tr>\n",
       "      <th>1</th>\n",
       "      <td>False</td>\n",
       "      <td>False</td>\n",
       "      <td>False</td>\n",
       "      <td>True</td>\n",
       "      <td>True</td>\n",
       "      <td>True</td>\n",
       "    </tr>\n",
       "    <tr>\n",
       "      <th>2</th>\n",
       "      <td>False</td>\n",
       "      <td>False</td>\n",
       "      <td>True</td>\n",
       "      <td>False</td>\n",
       "      <td>False</td>\n",
       "      <td>False</td>\n",
       "    </tr>\n",
       "    <tr>\n",
       "      <th>3</th>\n",
       "      <td>False</td>\n",
       "      <td>False</td>\n",
       "      <td>True</td>\n",
       "      <td>True</td>\n",
       "      <td>True</td>\n",
       "      <td>True</td>\n",
       "    </tr>\n",
       "    <tr>\n",
       "      <th>4</th>\n",
       "      <td>False</td>\n",
       "      <td>True</td>\n",
       "      <td>False</td>\n",
       "      <td>False</td>\n",
       "      <td>True</td>\n",
       "      <td>True</td>\n",
       "    </tr>\n",
       "    <tr>\n",
       "      <th>5</th>\n",
       "      <td>False</td>\n",
       "      <td>True</td>\n",
       "      <td>False</td>\n",
       "      <td>True</td>\n",
       "      <td>True</td>\n",
       "      <td>True</td>\n",
       "    </tr>\n",
       "    <tr>\n",
       "      <th>6</th>\n",
       "      <td>False</td>\n",
       "      <td>True</td>\n",
       "      <td>True</td>\n",
       "      <td>False</td>\n",
       "      <td>False</td>\n",
       "      <td>False</td>\n",
       "    </tr>\n",
       "    <tr>\n",
       "      <th>7</th>\n",
       "      <td>False</td>\n",
       "      <td>True</td>\n",
       "      <td>True</td>\n",
       "      <td>True</td>\n",
       "      <td>True</td>\n",
       "      <td>True</td>\n",
       "    </tr>\n",
       "    <tr>\n",
       "      <th>8</th>\n",
       "      <td>True</td>\n",
       "      <td>False</td>\n",
       "      <td>False</td>\n",
       "      <td>False</td>\n",
       "      <td>False</td>\n",
       "      <td>False</td>\n",
       "    </tr>\n",
       "    <tr>\n",
       "      <th>9</th>\n",
       "      <td>True</td>\n",
       "      <td>False</td>\n",
       "      <td>False</td>\n",
       "      <td>True</td>\n",
       "      <td>False</td>\n",
       "      <td>False</td>\n",
       "    </tr>\n",
       "    <tr>\n",
       "      <th>10</th>\n",
       "      <td>True</td>\n",
       "      <td>False</td>\n",
       "      <td>True</td>\n",
       "      <td>False</td>\n",
       "      <td>False</td>\n",
       "      <td>False</td>\n",
       "    </tr>\n",
       "    <tr>\n",
       "      <th>11</th>\n",
       "      <td>True</td>\n",
       "      <td>False</td>\n",
       "      <td>True</td>\n",
       "      <td>True</td>\n",
       "      <td>False</td>\n",
       "      <td>False</td>\n",
       "    </tr>\n",
       "    <tr>\n",
       "      <th>12</th>\n",
       "      <td>True</td>\n",
       "      <td>True</td>\n",
       "      <td>False</td>\n",
       "      <td>False</td>\n",
       "      <td>False</td>\n",
       "      <td>False</td>\n",
       "    </tr>\n",
       "    <tr>\n",
       "      <th>13</th>\n",
       "      <td>True</td>\n",
       "      <td>True</td>\n",
       "      <td>False</td>\n",
       "      <td>True</td>\n",
       "      <td>True</td>\n",
       "      <td>False</td>\n",
       "    </tr>\n",
       "    <tr>\n",
       "      <th>14</th>\n",
       "      <td>True</td>\n",
       "      <td>True</td>\n",
       "      <td>True</td>\n",
       "      <td>False</td>\n",
       "      <td>False</td>\n",
       "      <td>False</td>\n",
       "    </tr>\n",
       "    <tr>\n",
       "      <th>15</th>\n",
       "      <td>True</td>\n",
       "      <td>True</td>\n",
       "      <td>True</td>\n",
       "      <td>True</td>\n",
       "      <td>False</td>\n",
       "      <td>False</td>\n",
       "    </tr>\n",
       "  </tbody>\n",
       "</table>\n",
       "</div>"
      ]
     },
     "execution_count": 7,
     "metadata": {},
     "output_type": "execute_result"
    }
   ],
   "execution_count": 7
  },
  {
   "cell_type": "code",
   "source": [
    "#### EXPLORATION 1: Replacing each LUT with the RIPPER results\n",
    "\n",
    "# This approach cannot possibly result in an improved accuracy. I want to see it nonetheless.\n",
    "\n",
    "def get_ripper_preds(lut_out_col):\n",
    "    lut_df = get_full_lut(lut_out_col, get_dataframe=True)\n",
    "    input_bits_df = lut_df.drop('out', axis=1)\n",
    "    output_df = lut_df['out']\n",
    "\n",
    "    ripper_clf = lw.RIPPER()\n",
    "    ripper_clf.fit(input_bits_df, output_df)\n",
    "\n",
    "    ripper_preds = ripper_clf.predict(input_bits_df)\n",
    "    \n",
    "    del ripper_clf\n",
    "    \n",
    "    # ensuring that the output has the same shape and type as the input\n",
    "    return ripper_preds"
   ],
   "metadata": {
    "collapsed": false,
    "ExecuteTime": {
     "end_time": "2025-04-27T15:34:41.123116Z",
     "start_time": "2025-04-27T15:34:41.113088Z"
    }
   },
   "id": "7f8e209d50bc3c25",
   "outputs": [],
   "execution_count": 8
  },
  {
   "cell_type": "code",
   "source": [
    "lut_net_ripper = RipperLut(bits=[lut_bits] * (num_layers + 1), hidden_layers=[32] * num_layers, verbose=True, mode='lut')\n",
    "preds_train = lut_net_ripper.train(X_train, y_train)\n",
    "preds_test = lut_net_ripper.predict(X_test)\n",
    "print(f\"Accuracy on training set: {accuracy_score(preds_train, y_train):.2f}\")\n",
    "print(f\"Accuracy on test set: {accuracy_score(preds_test, y_test):.2f}\")"
   ],
   "metadata": {
    "collapsed": false,
    "ExecuteTime": {
     "end_time": "2025-04-27T15:34:48.984062Z",
     "start_time": "2025-04-27T15:34:43.807077Z"
    }
   },
   "id": "c5961c905bbb18ad",
   "outputs": [
    {
     "name": "stderr",
     "output_type": "stream",
     "text": [
      "100%|██████████| 4/4 [00:03<00:00,  1.30it/s]\n"
     ]
    },
    {
     "name": "stdout",
     "output_type": "stream",
     "text": [
      "Accuracy on training set: 0.76\n",
      "Accuracy on test set: 0.76\n"
     ]
    }
   ],
   "execution_count": 9
  },
  {
   "cell_type": "code",
   "source": [
    "# replace all the output columns of the LUTs with the RIPPER predictions\n",
    "\n",
    "for i, layer in enumerate(lut_net_ripper.lut_arr_):\n",
    "    # since the last layer is of dim (16,) not (32, 16), we have to make sure it has the right shape\n",
    "    if i == num_layers:\n",
    "        layer = [layer]\n",
    "    \n",
    "    for j, lut_out_col in enumerate(layer):\n",
    "        ripper_preds = get_ripper_preds(lut_out_col)\n",
    "        \n",
    "        if len(ripper_preds) == 1:\n",
    "            ripper_preds = ripper_preds[0]\n",
    "            \n",
    "        lut_net_ripper.lut_arr_[i][j] = ripper_preds"
   ],
   "metadata": {
    "collapsed": false,
    "ExecuteTime": {
     "end_time": "2025-04-27T15:35:07.363844Z",
     "start_time": "2025-04-27T15:35:06.471818Z"
    }
   },
   "id": "34bf20d0844e5823",
   "outputs": [],
   "execution_count": 10
  },
  {
   "cell_type": "code",
   "source": [
    "# calculate accuracy again\n",
    "preds_lut_net_ripper = lut_net_ripper.predict(X_test)\n",
    "print(f\"Accuracy on test set with RIPPER substitution: {accuracy_score(preds_lut_net_ripper, y_test):.2f}\")"
   ],
   "metadata": {
    "collapsed": false,
    "ExecuteTime": {
     "end_time": "2025-04-27T15:35:12.822596Z",
     "start_time": "2025-04-27T15:35:10.732381Z"
    }
   },
   "id": "e56374cdb8073e7b",
   "outputs": [
    {
     "name": "stdout",
     "output_type": "stream",
     "text": [
      "Accuracy on test set with RIPPER substitution: 0.52\n"
     ]
    }
   ],
   "execution_count": 11
  },
  {
   "cell_type": "code",
   "source": [
    "# check the shapes of the LUTs again\n",
    "for layer in lut_net_ripper.lut_arr_:\n",
    "    print(layer.shape)"
   ],
   "metadata": {
    "collapsed": false,
    "ExecuteTime": {
     "end_time": "2025-04-27T15:35:17.572013Z",
     "start_time": "2025-04-27T15:35:17.568354Z"
    }
   },
   "id": "5a109cefccc85aa5",
   "outputs": [
    {
     "name": "stdout",
     "output_type": "stream",
     "text": [
      "(32, 16)\n",
      "(32, 16)\n",
      "(32, 16)\n",
      "(32, 16)\n",
      "(16,)\n"
     ]
    }
   ],
   "execution_count": 12
  },
  {
   "cell_type": "markdown",
   "source": [
    "#### Some hindsight discussion\n",
    "\n",
    "**Why did I expect this to work?**\n",
    "> My idea was, that RIPPER would be capable of learning the exact same output column. I thought that RIPPER would find a subset of relevant columns and we could prune the back connections of the remaining ones.\n",
    "\n",
    "**Why did it not work?**\n",
    "> Of course RIPPER will not learn the same output. It needs to be trained on the dataset not a logic table.\n",
    "\n",
    "**Takeaways**\n",
    "> Although RIPPER is not suited for this usecase, the basic idea of finding the relevant columns and pruning the rest could be archieved with another algorithm. However, it is only useful for pruning. Since the output columns would remain the same, the accuracy would not improve.\n"
   ],
   "metadata": {
    "collapsed": false
   },
   "id": "b9a4db1ba77cbb08"
  },
  {
   "cell_type": "code",
   "outputs": [],
   "source": [
    "#### EXPERIMENT 2: RIPPER as drop in replacement for get_lut\n",
    "# The relevant code can be found in the file ripper_lut_net.py\n",
    "# REMARK: The code of this experiment is also based on the new ripper_lut_net.py but simply executed in 'lut' mode."
   ],
   "metadata": {
    "collapsed": false
   },
   "id": "5ab4f4009050e130",
   "execution_count": null
  }
 ],
 "metadata": {
  "kernelspec": {
   "display_name": "Python 3",
   "language": "python",
   "name": "python3"
  },
  "language_info": {
   "codemirror_mode": {
    "name": "ipython",
    "version": 2
   },
   "file_extension": ".py",
   "mimetype": "text/x-python",
   "name": "python",
   "nbconvert_exporter": "python",
   "pygments_lexer": "ipython2",
   "version": "2.7.6"
  }
 },
 "nbformat": 4,
 "nbformat_minor": 5
}
