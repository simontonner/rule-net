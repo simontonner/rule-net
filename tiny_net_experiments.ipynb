{
 "cells": [
  {
   "cell_type": "code",
   "id": "initial_id",
   "metadata": {
    "collapsed": true,
    "jupyter": {
     "outputs_hidden": true
    },
    "ExecuteTime": {
     "end_time": "2025-04-27T19:59:52.589455Z",
     "start_time": "2025-04-27T19:59:51.515378Z"
    }
   },
   "source": [
    "import matplotlib.pyplot as plt\n",
    "import numpy as np\n",
    "import pandas as pd\n",
    "import wittgenstein as lw\n",
    "import os\n",
    "\n",
    "from sklearn.model_selection import train_test_split\n",
    "\n",
    "from ripper_lut_net import *"
   ],
   "outputs": [],
   "execution_count": 1
  },
  {
   "cell_type": "code",
   "id": "a17f163a4597bbbb",
   "metadata": {
    "ExecuteTime": {
     "end_time": "2025-04-27T19:59:58.556772Z",
     "start_time": "2025-04-27T19:59:58.472135Z"
    }
   },
   "source": [
    "data_dir = \"data/100_bit_artificial\"\n",
    "dataset_file_path = os.path.join(data_dir, \"1a.csv\")\n",
    "\n",
    "dataset_df = pd.read_csv(dataset_file_path)\n",
    "print(f\"Dataset size: {dataset_df.shape}\")\n",
    "dataset_df.head(3)"
   ],
   "outputs": [
    {
     "name": "stdout",
     "output_type": "stream",
     "text": [
      "Dataset size: (10000, 101)\n"
     ]
    },
    {
     "data": {
      "text/plain": [
       "      a1     a2     a3     a4     a5     a6     a7     a8     a9   a10  ...  \\\n",
       "0  False   True  False   True   True  False   True  False  False  True  ...   \n",
       "1   True   True  False  False  False  False  False   True  False  True  ...   \n",
       "2   True  False   True   True   True   True  False   True   True  True  ...   \n",
       "\n",
       "     a92    a93    a94    a95   a96    a97   a98   a99   a100  class  \n",
       "0   True  False  False   True  True   True  True  True   True  False  \n",
       "1  False   True   True  False  True  False  True  True  False   True  \n",
       "2  False   True  False  False  True  False  True  True  False   True  \n",
       "\n",
       "[3 rows x 101 columns]"
      ],
      "text/html": [
       "<div>\n",
       "<style scoped>\n",
       "    .dataframe tbody tr th:only-of-type {\n",
       "        vertical-align: middle;\n",
       "    }\n",
       "\n",
       "    .dataframe tbody tr th {\n",
       "        vertical-align: top;\n",
       "    }\n",
       "\n",
       "    .dataframe thead th {\n",
       "        text-align: right;\n",
       "    }\n",
       "</style>\n",
       "<table border=\"1\" class=\"dataframe\">\n",
       "  <thead>\n",
       "    <tr style=\"text-align: right;\">\n",
       "      <th></th>\n",
       "      <th>a1</th>\n",
       "      <th>a2</th>\n",
       "      <th>a3</th>\n",
       "      <th>a4</th>\n",
       "      <th>a5</th>\n",
       "      <th>a6</th>\n",
       "      <th>a7</th>\n",
       "      <th>a8</th>\n",
       "      <th>a9</th>\n",
       "      <th>a10</th>\n",
       "      <th>...</th>\n",
       "      <th>a92</th>\n",
       "      <th>a93</th>\n",
       "      <th>a94</th>\n",
       "      <th>a95</th>\n",
       "      <th>a96</th>\n",
       "      <th>a97</th>\n",
       "      <th>a98</th>\n",
       "      <th>a99</th>\n",
       "      <th>a100</th>\n",
       "      <th>class</th>\n",
       "    </tr>\n",
       "  </thead>\n",
       "  <tbody>\n",
       "    <tr>\n",
       "      <th>0</th>\n",
       "      <td>False</td>\n",
       "      <td>True</td>\n",
       "      <td>False</td>\n",
       "      <td>True</td>\n",
       "      <td>True</td>\n",
       "      <td>False</td>\n",
       "      <td>True</td>\n",
       "      <td>False</td>\n",
       "      <td>False</td>\n",
       "      <td>True</td>\n",
       "      <td>...</td>\n",
       "      <td>True</td>\n",
       "      <td>False</td>\n",
       "      <td>False</td>\n",
       "      <td>True</td>\n",
       "      <td>True</td>\n",
       "      <td>True</td>\n",
       "      <td>True</td>\n",
       "      <td>True</td>\n",
       "      <td>True</td>\n",
       "      <td>False</td>\n",
       "    </tr>\n",
       "    <tr>\n",
       "      <th>1</th>\n",
       "      <td>True</td>\n",
       "      <td>True</td>\n",
       "      <td>False</td>\n",
       "      <td>False</td>\n",
       "      <td>False</td>\n",
       "      <td>False</td>\n",
       "      <td>False</td>\n",
       "      <td>True</td>\n",
       "      <td>False</td>\n",
       "      <td>True</td>\n",
       "      <td>...</td>\n",
       "      <td>False</td>\n",
       "      <td>True</td>\n",
       "      <td>True</td>\n",
       "      <td>False</td>\n",
       "      <td>True</td>\n",
       "      <td>False</td>\n",
       "      <td>True</td>\n",
       "      <td>True</td>\n",
       "      <td>False</td>\n",
       "      <td>True</td>\n",
       "    </tr>\n",
       "    <tr>\n",
       "      <th>2</th>\n",
       "      <td>True</td>\n",
       "      <td>False</td>\n",
       "      <td>True</td>\n",
       "      <td>True</td>\n",
       "      <td>True</td>\n",
       "      <td>True</td>\n",
       "      <td>False</td>\n",
       "      <td>True</td>\n",
       "      <td>True</td>\n",
       "      <td>True</td>\n",
       "      <td>...</td>\n",
       "      <td>False</td>\n",
       "      <td>True</td>\n",
       "      <td>False</td>\n",
       "      <td>False</td>\n",
       "      <td>True</td>\n",
       "      <td>False</td>\n",
       "      <td>True</td>\n",
       "      <td>True</td>\n",
       "      <td>False</td>\n",
       "      <td>True</td>\n",
       "    </tr>\n",
       "  </tbody>\n",
       "</table>\n",
       "<p>3 rows × 101 columns</p>\n",
       "</div>"
      ]
     },
     "execution_count": 2,
     "metadata": {},
     "output_type": "execute_result"
    }
   ],
   "execution_count": 2
  },
  {
   "cell_type": "code",
   "source": [
    "X = dataset_df.drop(columns=[\"class\"]).values\n",
    "y = dataset_df[\"class\"].values\n",
    "\n",
    "\n",
    "X_train, X_test, y_train, y_test = train_test_split(X, y, test_size=0.2, random_state=42)"
   ],
   "metadata": {
    "collapsed": false,
    "ExecuteTime": {
     "end_time": "2025-04-27T20:00:01.603298Z",
     "start_time": "2025-04-27T20:00:01.599033Z"
    }
   },
   "id": "c32a5d3b1ec9cfcd",
   "outputs": [],
   "execution_count": 3
  },
  {
   "cell_type": "code",
   "source": [
    "y.sum() / len(y)"
   ],
   "metadata": {
    "collapsed": false,
    "ExecuteTime": {
     "end_time": "2025-04-27T20:00:04.219209Z",
     "start_time": "2025-04-27T20:00:04.214563Z"
    }
   },
   "id": "a70d8bf5704b5e69",
   "outputs": [
    {
     "data": {
      "text/plain": [
       "0.5756"
      ]
     },
     "execution_count": 4,
     "metadata": {},
     "output_type": "execute_result"
    }
   ],
   "execution_count": 4
  },
  {
   "cell_type": "code",
   "source": [
    "%%time\n",
    "\n",
    "# testing vanilla RIPPER on full dataset\n",
    "\n",
    "vanilla_ripper = lw.RIPPER()\n",
    "vanilla_ripper.fit(X_train, y_train)\n",
    "vanilla_ripper_preds = vanilla_ripper.predict(X_test)\n",
    "print(f\"Accuracy on test set: {accuracy_score(vanilla_ripper_preds, y_test):.2f}\")"
   ],
   "metadata": {
    "collapsed": false,
    "ExecuteTime": {
     "end_time": "2025-04-27T20:00:12.823155Z",
     "start_time": "2025-04-27T20:00:08.473730Z"
    }
   },
   "id": "ee6112a762fed986",
   "outputs": [
    {
     "name": "stdout",
     "output_type": "stream",
     "text": [
      "Accuracy on test set: 0.99\n",
      "CPU times: user 4.27 s, sys: 47.1 ms, total: 4.32 s\n",
      "Wall time: 4.35 s\n"
     ]
    }
   ],
   "execution_count": 5
  },
  {
   "cell_type": "code",
   "source": [
    "vanilla_ripper.ruleset_"
   ],
   "metadata": {
    "collapsed": false,
    "ExecuteTime": {
     "end_time": "2025-04-27T20:00:16.540559Z",
     "start_time": "2025-04-27T20:00:16.537278Z"
    }
   },
   "id": "da36ba21349c949",
   "outputs": [
    {
     "data": {
      "text/plain": [
       "<Ruleset [[16=False^4=True^15=False] V [0=False^4=False^18=True] V [16=False^4=True^87=False] V [0=False^4=False^87=False] V [16=False^4=True^18=True] V [16=False^0=False^62=False] V [37=False^59=True^57=True^62=False] V [4=False^0=False^15=False] V [4=False^71=False^93=True^19=True^62=False] V [57=True^37=False^59=True^15=False] V [15=True^16=False^4=True^62=False] V [15=True^62=True^57=True^37=False^59=True^18=True] V [4=False^0=False^62=False] V [62=True^4=False^71=False^93=True^19=True^0=True^94=False] V [62=True^18=False^15=True^38=False^82=True^0=False^4=False] V [62=True^16=False^4=True^38=False^82=True] V [11=True^26=True^77=True^20=True^82=False] V [62=True^4=False^71=False^19=True^93=True^87=False] V [62=True^18=False^57=True^59=True^37=False^87=False] V [87=True^62=True^4=False^0=False^46=False^43=True^60=False] V [87=True^62=True^36=True^53=True^10=False^16=False^4=True] V [4=False^87=True^62=True^93=True^71=False^19=True^39=True] V [18=False^57=True^37=False^59=True^63=False^38=False^12=True]]>"
      ]
     },
     "execution_count": 6,
     "metadata": {},
     "output_type": "execute_result"
    }
   ],
   "execution_count": 6
  },
  {
   "cell_type": "code",
   "source": [
    "import re\n",
    "\n",
    "x = set()\n",
    "for rule in vanilla_ripper.ruleset_:\n",
    "    rule_string = str(rule)\n",
    "    \n",
    "    indices = re.findall(r'\\d+', rule_string)\n",
    "    \n",
    "    for index in indices:\n",
    "        x.add(index)\n",
    "    \n",
    "print(x)\n",
    "    \n",
    "len(x)\n",
    "    \n",
    "    "
   ],
   "metadata": {
    "collapsed": false,
    "ExecuteTime": {
     "end_time": "2025-04-27T20:00:19.812604Z",
     "start_time": "2025-04-27T20:00:19.809097Z"
    }
   },
   "id": "f142d8a39c9c443",
   "outputs": [
    {
     "name": "stdout",
     "output_type": "stream",
     "text": [
      "{'10', '63', '57', '53', '11', '43', '12', '26', '46', '15', '18', '94', '37', '87', '62', '59', '71', '0', '39', '60', '20', '4', '16', '93', '77', '19', '82', '38', '36'}\n"
     ]
    },
    {
     "data": {
      "text/plain": [
       "29"
      ]
     },
     "execution_count": 7,
     "metadata": {},
     "output_type": "execute_result"
    }
   ],
   "execution_count": 7
  },
  {
   "cell_type": "code",
   "id": "b3b6404629196ce2",
   "metadata": {
    "ExecuteTime": {
     "end_time": "2025-04-27T20:00:37.879908Z",
     "start_time": "2025-04-27T20:00:22.059643Z"
    }
   },
   "source": [
    "%%time\n",
    "\n",
    "# test it with a tiny network using the lut\n",
    "\n",
    "lut_bits = 10\n",
    "num_layers = 3\n",
    "num_luts = 16\n",
    "\n",
    "ripper_net = RipperLut(bits=[lut_bits] * (num_layers + 1), hidden_layers=[num_luts] * num_layers, verbose=True, mode='lut')\n",
    "preds_train = ripper_net.train(X_train, y_train)\n",
    "preds_test = ripper_net.predict(X_test)\n",
    "print(f\"Accuracy on training set: {accuracy_score(preds_train, y_train):.2f}\")\n",
    "print(f\"Accuracy on test set: {accuracy_score(preds_test, y_test):.2f}\")"
   ],
   "outputs": [
    {
     "name": "stderr",
     "output_type": "stream",
     "text": [
      "100%|██████████| 3/3 [00:12<00:00,  4.09s/it]\n"
     ]
    },
    {
     "name": "stdout",
     "output_type": "stream",
     "text": [
      "Accuracy on training set: 0.88\n",
      "Accuracy on test set: 0.54\n",
      "CPU times: user 527 ms, sys: 1.52 s, total: 2.05 s\n",
      "Wall time: 15.8 s\n"
     ]
    }
   ],
   "execution_count": 8
  },
  {
   "cell_type": "code",
   "source": [
    "%%time\n",
    "\n",
    "# test it with a tiny network using the lut\n",
    "\n",
    "lut_bits = 10\n",
    "num_layers = 3\n",
    "num_luts = 16\n",
    "\n",
    "ripper_net = RipperLut(bits=[lut_bits] * (num_layers + 1), hidden_layers=[num_luts] * num_layers, verbose=True, mode='ripper')\n",
    "preds_train = ripper_net.train(X_train, y_train)\n",
    "preds_test = ripper_net.predict(X_test)\n",
    "print(f\"Accuracy on training set: {accuracy_score(preds_train, y_train):.2f}\")\n",
    "print(f\"Accuracy on test set: {accuracy_score(preds_test, y_test):.2f}\")"
   ],
   "metadata": {
    "collapsed": false,
    "ExecuteTime": {
     "end_time": "2025-04-27T20:01:07.360514Z",
     "start_time": "2025-04-27T20:00:40.443986Z"
    }
   },
   "id": "2a68e53750dc5cd3",
   "outputs": [
    {
     "name": "stderr",
     "output_type": "stream",
     "text": [
      "100%|██████████| 3/3 [00:23<00:00,  7.73s/it]\n"
     ]
    },
    {
     "name": "stdout",
     "output_type": "stream",
     "text": [
      "Accuracy on training set: 0.75\n",
      "Accuracy on test set: 0.75\n",
      "CPU times: user 1 s, sys: 1.55 s, total: 2.55 s\n",
      "Wall time: 26.9 s\n"
     ]
    }
   ],
   "execution_count": 9
  },
  {
   "cell_type": "code",
   "id": "dff9e2f873fb4a5",
   "metadata": {
    "ExecuteTime": {
     "end_time": "2025-04-27T20:02:14.714634Z",
     "start_time": "2025-04-27T20:01:23.082432Z"
    }
   },
   "source": [
    "# experiment: accuracies over depth\n",
    "\n",
    "num_layers = 5\n",
    "num_layer_luts = 16\n",
    "nums_lut_bits = 10\n",
    "\n",
    "ripper_net = RipperLut(bits=[nums_lut_bits] * (num_layers + 1), hidden_layers=[num_layer_luts] * num_layers, verbose=True, mode='ripper')\n",
    "preds_train = ripper_net.train(X_train, y_train)\n",
    "preds, accs = ripper_net.get_accuracies_per_layer(X_train, y_train)\n",
    "\n",
    "mean_accs = [np.mean(acc) for acc in accs]\n",
    "std_accs = [np.std(acc) for acc in accs]\n",
    "\n",
    "# plot over layers with std\n",
    "plt.errorbar(range(num_layers + 1), mean_accs, yerr=std_accs, fmt='o')\n",
    "plt.title(f\"Accuracy over the 5 layers of the Net with {num_layer_luts} LUTs per layer\")\n",
    "plt.xlabel(\"Layer\")\n",
    "plt.ylabel(\"Accuracy\")"
   ],
   "outputs": [
    {
     "name": "stderr",
     "output_type": "stream",
     "text": [
      "100%|██████████| 5/5 [00:30<00:00,  6.11s/it]\n",
      "100%|██████████| 5/5 [00:20<00:00,  4.08s/it]\n"
     ]
    },
    {
     "data": {
      "text/plain": [
       "Text(0, 0.5, 'Accuracy')"
      ]
     },
     "execution_count": 10,
     "metadata": {},
     "output_type": "execute_result"
    },
    {
     "data": {
      "text/plain": [
       "<Figure size 640x480 with 1 Axes>"
      ],
      "image/png": "[encoded data removed]"
     },
     "metadata": {},
     "output_type": "display_data"
    }
   ],
   "execution_count": 10
  },
  {
   "cell_type": "code",
   "id": "14b65f629e9007cc",
   "metadata": {
    "ExecuteTime": {
     "end_time": "2025-04-27T20:04:32.323691Z",
     "start_time": "2025-04-27T20:03:29.796742Z"
    }
   },
   "source": [
    "# experiment: accuracies with changing number of LUTs per hidden layer\n",
    "\n",
    "num_layers = 3\n",
    "nums_layer_luts = [2, 4, 8, 16] #, 128, 256, 512, 1024, 2048, 4096]\n",
    "nums_lut_bits = 10\n",
    "\n",
    "train_accuracies = []\n",
    "test_accuracies = []\n",
    "for num_layer_luts in nums_layer_luts:\n",
    "    ripper_net = RipperLut(bits=[nums_lut_bits] * (num_layers + 1), hidden_layers=[num_layer_luts] * num_layers, verbose=False, mode='ripper')\n",
    "\n",
    "    preds_train = ripper_net.train(X_train, y_train)\n",
    "    preds_test = ripper_net.predict(X_test)\n",
    "\n",
    "    train_accuracy = accuracy_score(preds_train, y_train)\n",
    "    test_accuracy = accuracy_score(preds_test, y_test)\n",
    "\n",
    "    train_accuracies.append(train_accuracy)\n",
    "    test_accuracies.append(test_accuracy)\n",
    "\n",
    "    print(f\"{num_layer_luts} LUTs per layer: Accuracy on training set: {train_accuracy:.2f}\")\n",
    "    print(f\"{num_layer_luts} LUTs per layer: Accuracy on test set: {test_accuracy:.2f}\")\n",
    "    \n",
    "\n",
    "plt.plot(nums_layer_luts, train_accuracies, label=\"Train\")\n",
    "plt.plot(nums_layer_luts, test_accuracies, label=\"Test\")\n",
    "plt.title(\"Accuracy of 5-layer Net with 8-bit Ripper LUTs\\nand varying number of LUTs per layer\")\n",
    "plt.xlabel(\"Number of LUTs per layer\")\n",
    "plt.ylabel(\"Accuracy\")\n",
    "plt.show()"
   ],
   "outputs": [
    {
     "name": "stdout",
     "output_type": "stream",
     "text": [
      "2 LUTs per layer: Accuracy on training set: 0.63\n",
      "2 LUTs per layer: Accuracy on test set: 0.64\n",
      "4 LUTs per layer: Accuracy on training set: 0.49\n",
      "4 LUTs per layer: Accuracy on test set: 0.47\n",
      "8 LUTs per layer: Accuracy on training set: 0.78\n",
      "8 LUTs per layer: Accuracy on test set: 0.77\n",
      "16 LUTs per layer: Accuracy on training set: 0.68\n",
      "16 LUTs per layer: Accuracy on test set: 0.67\n"
     ]
    },
    {
     "data": {
      "text/plain": [
       "<Figure size 640x480 with 1 Axes>"
      ],
      "image/png": "[encoded data removed]"
     },
     "metadata": {},
     "output_type": "display_data"
    }
   ],
   "execution_count": 11
  },
  {
   "cell_type": "code",
   "id": "3a23ddea2ea3b64b",
   "metadata": {
    "is_executing": true,
    "jupyter": {
     "is_executing": true
    },
    "ExecuteTime": {
     "end_time": "2025-04-27T20:31:56.207188Z",
     "start_time": "2025-04-27T20:07:00.590451Z"
    }
   },
   "source": [
    "# experiment: accuracies with changing number of input bits per LUT\n",
    "\n",
    "num_layers = 3\n",
    "num_layer_luts = 8\n",
    "nums_lut_bits = [2, 4, 8, 16, 32, 64]\n",
    "\n",
    "train_accuracies = []\n",
    "test_accuracies = []\n",
    "for num_lut_bits in nums_lut_bits:\n",
    "    ripper_net = RipperLut(bits=[num_lut_bits] * (num_layers + 1), hidden_layers=[num_layer_luts] * num_layers, verbose=False, mode='ripper')\n",
    "\n",
    "    preds_train = ripper_net.train(X_train, y_train)\n",
    "    preds_test = ripper_net.predict(X_test)\n",
    "\n",
    "    train_accuracy = accuracy_score(preds_train, y_train)\n",
    "    test_accuracy = accuracy_score(preds_test, y_test)\n",
    "\n",
    "    train_accuracies.append(train_accuracy)\n",
    "    test_accuracies.append(test_accuracy)\n",
    "\n",
    "    print(f\"{num_lut_bits} bits per LUT: Accuracy on training set: {train_accuracy:.2f}\")\n",
    "    print(f\"{num_lut_bits} bits per LUT: Accuracy on test set: {test_accuracy:.2f}\")\n",
    "    \n",
    "    \n",
    "plt.plot(nums_lut_bits, train_accuracies, label=\"Train\")\n",
    "plt.plot(nums_lut_bits, test_accuracies, label=\"Test\")\n",
    "plt.title(\"Accuracy of 5-layer Net with 1024 Ripper LUTs per layer\\nand varying number of input bits per LUT\")\n",
    "plt.xlabel(\"Number of input bits per LUT\")\n",
    "plt.ylabel(\"Accuracy\")\n",
    "plt.show()"
   ],
   "outputs": [
    {
     "name": "stdout",
     "output_type": "stream",
     "text": [
      "2 bits per LUT: Accuracy on training set: 0.51\n",
      "2 bits per LUT: Accuracy on test set: 0.52\n",
      "4 bits per LUT: Accuracy on training set: 0.71\n",
      "4 bits per LUT: Accuracy on test set: 0.70\n",
      "8 bits per LUT: Accuracy on training set: 0.55\n",
      "8 bits per LUT: Accuracy on test set: 0.56\n"
     ]
    }
   ],
   "execution_count": null
  },
  {
   "cell_type": "markdown",
   "source": [],
   "metadata": {
    "collapsed": false
   },
   "id": "c001abaded126c7e"
  }
 ],
 "metadata": {
  "kernelspec": {
   "display_name": "Python 3 (ipykernel)",
   "language": "python",
   "name": "python3"
  },
  "language_info": {
   "codemirror_mode": {
    "name": "ipython",
    "version": 3
   },
   "file_extension": ".py",
   "mimetype": "text/x-python",
   "name": "python",
   "nbconvert_exporter": "python",
   "pygments_lexer": "ipython3",
   "version": "3.10.13"
  }
 },
 "nbformat": 4,
 "nbformat_minor": 5
}
