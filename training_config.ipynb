{
 "cells": [
  {
   "cell_type": "code",
   "id": "initial_id",
   "metadata": {
    "collapsed": true,
    "ExecuteTime": {
     "end_time": "2025-09-04T15:09:19.727629Z",
     "start_time": "2025-09-04T15:09:15.531123Z"
    }
   },
   "source": [
    "# 1) DATA IMPORT\n",
    "import pandas as pd\n",
    "import numpy as np\n",
    "from sklearn.model_selection import train_test_split\n",
    "\n",
    "df = pd.read_csv(\"./data/100_bit_artificial/1a.csv\")\n",
    "X = df.drop(columns=\"class\").to_numpy(bool)\n",
    "y = df[\"class\"].to_numpy(bool)\n",
    "\n",
    "X_train, X_test, y_train, y_test = train_test_split(\n",
    "    X, y, test_size=0.2, random_state=42, stratify=y\n",
    ")\n",
    "\n",
    "print(f\"X_train: {X_train.shape}, X_test: {X_test.shape}\")\n",
    "print(f\"y_train: {y_train.shape}, y_test: {y_test.shape}\")"
   ],
   "outputs": [
    {
     "name": "stdout",
     "output_type": "stream",
     "text": [
      "X_train: (8000, 100), X_test: (2000, 100)\n",
      "y_train: (8000,), y_test: (2000,)\n"
     ]
    }
   ],
   "execution_count": 1
  },
  {
   "metadata": {
    "ExecuteTime": {
     "end_time": "2025-09-04T15:10:04.133163Z",
     "start_time": "2025-09-04T15:09:32.118768Z"
    }
   },
   "cell_type": "code",
   "source": [
    "# 2) NETWORK TRAINING\n",
    "from sklearn.metrics import accuracy_score\n",
    "from architecture.deep_binary_classifier import DeepBinaryClassifier\n",
    "from architecture.ripper_node import make_ripper_node\n",
    "\n",
    "config = dict(\n",
    "    layer_node_counts=[32]*5 + [1],\n",
    "    layer_bit_counts=[6]*6,\n",
    "    seed=42\n",
    ")\n",
    "\n",
    "rip_net = DeepBinaryClassifier(**config, node_factory=make_ripper_node, jobs=8)\n",
    "_ = rip_net.fit(X_train, y_train)\n",
    "\n",
    "pred_test = rip_net.predict(X_test)\n",
    "acc_before = accuracy_score(y_test, pred_test)\n",
    "\n",
    "print(f\"Rule network accuracy (before pruning): {acc_before:.4f}\")"
   ],
   "id": "942f1ac7f1f299e5",
   "outputs": [
    {
     "name": "stdout",
     "output_type": "stream",
     "text": [
      "Rule network accuracy (before pruning): 0.8830\n"
     ]
    }
   ],
   "execution_count": 2
  },
  {
   "metadata": {
    "ExecuteTime": {
     "end_time": "2025-09-04T15:11:31.832020Z",
     "start_time": "2025-09-04T15:11:31.822151Z"
    }
   },
   "cell_type": "code",
   "source": [
    "# 4) PRUNING CODE CELL\n",
    "\n",
    "from typing import Iterable\n",
    "\n",
    "def prune_network(\n",
    "        net: DeepBinaryClassifier,\n",
    "        outputs_to_keep: Iterable[int] | None = None,\n",
    "        verbose: bool = True\n",
    ") -> None:\n",
    "    \"\"\"\n",
    "    In-place pruning:\n",
    "      - Walks the graph backwards from the final layer outputs_to_keep.\n",
    "      - Keeps only nodes that contribute to those outputs.\n",
    "      - Reindexes X_cols at each layer to reflect pruned indices.\n",
    "\n",
    "    Assumptions:\n",
    "      - net.layers is a list[list[BaseNode]]\n",
    "      - Each node's X_cols refers to indices within the *previous* layer's node list.\n",
    "      - Final prediction uses net.layers[-1] outputs; by default keep node 0 only.\n",
    "\n",
    "    Parameters\n",
    "    ----------\n",
    "    net : DeepBinaryClassifier\n",
    "    outputs_to_keep : iterable of ints or None\n",
    "        Which nodes in the final layer constitute the network's \"outputs\".\n",
    "        If None, defaults to {0}.\n",
    "    verbose : bool\n",
    "        If True, prints a compact summary.\n",
    "    \"\"\"\n",
    "    if not hasattr(net, \"layers\") or not net.layers:\n",
    "        raise RuntimeError(\"Cannot prune: the network has no layers. Did you call fit()?\")\n",
    "\n",
    "    n_layers = len(net.layers)\n",
    "    if outputs_to_keep is None:\n",
    "        outputs_to_keep = {0}\n",
    "    else:\n",
    "        outputs_to_keep = set(int(i) for i in outputs_to_keep)\n",
    "\n",
    "    # Validate outputs_to_keep\n",
    "    last_count = len(net.layers[-1])\n",
    "    for i in outputs_to_keep:\n",
    "        if i < 0 or i >= last_count:\n",
    "            raise IndexError(f\"outputs_to_keep index {i} out of range for final layer of size {last_count}\")\n",
    "\n",
    "    if verbose:\n",
    "        before = [len(L) for L in net.layers]\n",
    "        print(f\"Before pruning: {before}\")\n",
    "\n",
    "    # 1) Seed keep-sets with final layer outputs\n",
    "    keep: list[set[int]] = [set() for _ in range(n_layers)]\n",
    "    keep[-1] = set(outputs_to_keep)\n",
    "\n",
    "    # 2) Walk backwards: mark all dependencies in prior layers\n",
    "    for L in range(n_layers - 1, 0, -1):\n",
    "        prev_layer_size = len(net.layers[L - 1])\n",
    "        for j in keep[L]:\n",
    "            node = net.layers[L][j]\n",
    "            # X_cols indexes must be within [0, prev_layer_size)\n",
    "            for prev_idx in node.X_cols:\n",
    "                prev_i = int(prev_idx)\n",
    "                if prev_i < 0 or prev_i >= prev_layer_size:\n",
    "                    raise IndexError(\n",
    "                        f\"Layer {L} node {j} references invalid prev index {prev_i} \"\n",
    "                        f\"(prev layer size {prev_layer_size})\"\n",
    "                    )\n",
    "                keep[L - 1].add(prev_i)\n",
    "\n",
    "    # 3) For each layer, prune to survivors and build old->new index mapping\n",
    "    index_maps: list[dict[int, int]] = []\n",
    "    for L in range(n_layers):\n",
    "        survivors = sorted(keep[L])\n",
    "        # Edge case: if a layer ends up empty (shouldn’t happen if outputs_to_keep is valid), raise\n",
    "        if len(survivors) == 0:\n",
    "            raise RuntimeError(f\"Pruning resulted in empty layer {L}; cannot reindex network.\")\n",
    "        mapper = {old: new for new, old in enumerate(survivors)}\n",
    "        index_maps.append(mapper)\n",
    "\n",
    "        # Keep only survivor nodes, preserving order by new index\n",
    "        net.layers[L] = [net.layers[L][old_idx] for old_idx in survivors]\n",
    "\n",
    "    # 4) Reindex X_cols of layers 1..end using the maps of previous layers\n",
    "    for L in range(1, n_layers):\n",
    "        prev_map = index_maps[L - 1]\n",
    "        for node in net.layers[L]:\n",
    "            node.X_cols = np.array([prev_map[int(c)] for c in node.X_cols], dtype=int)\n",
    "\n",
    "    if verbose:\n",
    "        after = [len(L) for L in net.layers]\n",
    "        print(f\"After pruning:  {after}\")"
   ],
   "id": "6049989b6a319cc",
   "outputs": [],
   "execution_count": 4
  },
  {
   "metadata": {
    "ExecuteTime": {
     "end_time": "2025-09-04T15:11:34.787438Z",
     "start_time": "2025-09-04T15:11:34.778146Z"
    }
   },
   "cell_type": "code",
   "source": [
    "# 5) PRUNING EXECUTION\n",
    "\n",
    "# Optional: keep only the first output (index 0) from the final layer\n",
    "prune_network(rip_net, outputs_to_keep={0}, verbose=True)\n",
    "\n",
    "# Sanity check: accuracy should be identical\n",
    "from sklearn.metrics import accuracy_score\n",
    "\n",
    "pred_test_pruned = rip_net.predict(X_test)\n",
    "acc_after = accuracy_score(y_test, pred_test_pruned)\n",
    "\n",
    "print(f\"\\nAccuracy after pruning: {acc_after:.4f}\")\n",
    "if abs(acc_after - acc_before) < 1e-12:\n",
    "    print(\"✅ Accuracy preserved exactly.\")\n",
    "else:\n",
    "    print(\"⚠️ Accuracy changed — investigate dependencies and X_cols integrity.\")"
   ],
   "id": "f9fa5709192a15f",
   "outputs": [
    {
     "name": "stdout",
     "output_type": "stream",
     "text": [
      "Before pruning: [32, 32, 32, 32, 32, 1]\n",
      "After pruning:  [32, 31, 29, 16, 5, 1]\n",
      "\n",
      "Accuracy after pruning: 0.8830\n",
      "✅ Accuracy preserved exactly.\n"
     ]
    }
   ],
   "execution_count": 5
  },
  {
   "metadata": {
    "ExecuteTime": {
     "end_time": "2025-09-04T15:12:01.891859Z",
     "start_time": "2025-09-04T15:12:01.888427Z"
    }
   },
   "cell_type": "code",
   "source": [
    "# 6) ARCHITECTURE INSPECTION (AFTER PRUNING)\n",
    "\n",
    "describe_net(rip_net)\n",
    "\n",
    "# Optional: show a ruleset again from the (now-pruned) deepest layer node 0, if it exists\n",
    "try:\n",
    "    node = rip_net.layers[-1][0]\n",
    "    if hasattr(node, \"get_ruleset\"):\n",
    "        print(\"\\nFinal output node ruleset:\")\n",
    "        print(node.get_ruleset(disjunction_str=' V '))\n",
    "except Exception as e:\n",
    "    print(f\"(Ruleset preview skipped: {e})\")"
   ],
   "id": "67eb9ba72f2a35fa",
   "outputs": [
    {
     "name": "stdout",
     "output_type": "stream",
     "text": [
      "Layers (count per layer): [32, 31, 29, 16, 5, 1]\n",
      "\n",
      "Layer 0: 32 node(s)\n",
      "  Node 0: uses input indices -> [84, 86, 6, 82, 53]\n",
      "  Node 1: uses input indices -> [88, 94, 43, 33, 6, 67]\n",
      "  Node 2: uses input indices -> [4]\n",
      "\n",
      "Layer 1: 31 node(s)\n",
      "  Node 0: uses input indices -> [15, 3, 28, 26]\n",
      "  Node 1: uses input indices -> [2, 21, 20]\n",
      "  Node 2: uses input indices -> [15, 2, 9, 4, 28]\n",
      "\n",
      "Layer 2: 29 node(s)\n",
      "  Node 0: uses input indices -> [8, 21, 24, 13, 26, 0]\n",
      "  Node 1: uses input indices -> [8, 18, 24, 1, 28, 22]\n",
      "  Node 2: uses input indices -> [20, 27, 2, 30, 17, 3]\n",
      "\n",
      "Layer 3: 16 node(s)\n",
      "  Node 0: uses input indices -> [25, 28, 22, 16, 18, 27]\n",
      "  Node 1: uses input indices -> [25, 19, 13, 23, 18, 8]\n",
      "  Node 2: uses input indices -> [26, 16, 18, 21, 27]\n",
      "\n",
      "Layer 4: 5 node(s)\n",
      "  Node 0: uses input indices -> [12, 9, 8, 0]\n",
      "  Node 1: uses input indices -> [12, 14, 0, 13]\n",
      "  Node 2: uses input indices -> [11, 9, 3, 5, 1, 13]\n",
      "\n",
      "Layer 5: 1 node(s)\n",
      "  Node 0: uses input indices -> [2, 1, 4, 3, 0]\n",
      "\n",
      "Final output node ruleset:\n",
      "[x_11=True^x_10=True^x_23=True] V [x_11=True^x_10=True] V [x_11=True^x_14=True] V [x_23=True^x_4=True] V [x_23=True] V [x_10=True]\n"
     ]
    }
   ],
   "execution_count": 6
  }
 ],
 "metadata": {
  "kernelspec": {
   "display_name": "Python 3",
   "language": "python",
   "name": "python3"
  },
  "language_info": {
   "codemirror_mode": {
    "name": "ipython",
    "version": 2
   },
   "file_extension": ".py",
   "mimetype": "text/x-python",
   "name": "python",
   "nbconvert_exporter": "python",
   "pygments_lexer": "ipython2",
   "version": "2.7.6"
  }
 },
 "nbformat": 4,
 "nbformat_minor": 5
}
