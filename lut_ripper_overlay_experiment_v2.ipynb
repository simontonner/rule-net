{
 "cells": [
  {
   "cell_type": "markdown",
   "id": "af5e6a24",
   "metadata": {},
   "source": [
    "#### LUT→RIPPER Overlay | 100‑bit Artificial\n",
    "# Node‑wise Ruleset Refinement Without Replacing Nodes"
   ]
  },
  {
   "cell_type": "markdown",
   "id": "028ed020",
   "metadata": {},
   "source": [
    "### 0 · Imports"
   ]
  },
  {
   "cell_type": "code",
   "id": "1893b7dc",
   "metadata": {
    "ExecuteTime": {
     "end_time": "2025-05-02T12:53:17.022009Z",
     "start_time": "2025-05-02T12:53:16.002557Z"
    }
   },
   "source": [
    "import numpy as np, pandas as pd, matplotlib.pyplot as plt\n",
    "from pathlib import Path\n",
    "from sklearn.model_selection import train_test_split\n",
    "from sklearn.metrics import accuracy_score\n",
    "\n",
    "from architecture_goodie.deep_binary_classifier import DeepBinaryClassifier\n",
    "from architecture_goodie.lut_node              import make_lut_node\n",
    "from architecture_goodie.ripper_node           import make_ripper_node"
   ],
   "outputs": [],
   "execution_count": 1
  },
  {
   "cell_type": "markdown",
   "id": "f5f09641",
   "metadata": {},
   "source": [
    "### 1 · Load dataset"
   ]
  },
  {
   "cell_type": "code",
   "id": "a5b52e2f",
   "metadata": {
    "ExecuteTime": {
     "end_time": "2025-05-02T12:53:19.784637Z",
     "start_time": "2025-05-02T12:53:19.712679Z"
    }
   },
   "source": [
    "df = pd.read_csv('./data/100_bit_artificial/1a.csv')\n",
    "X = df.drop(columns='class').to_numpy(dtype=bool)\n",
    "y = df['class'].to_numpy(dtype=bool)\n",
    "\n",
    "X_train, X_test, y_train, y_test = train_test_split(\n",
    "    X, y, test_size=0.2, random_state=42, stratify=y\n",
    ")\n",
    "print(f'Dataset shape              : {df.shape}')\n",
    "print(f'Train/Test split           : {X_train.shape[0]} / {X_test.shape[0]}')\n",
    "print(f'Train label dist (T/F)     : {y_train.sum()} / {y_train.size - y_train.sum()}')"
   ],
   "outputs": [
    {
     "name": "stdout",
     "output_type": "stream",
     "text": [
      "Dataset shape              : (10000, 101)\n",
      "Train/Test split           : 8000 / 2000\n",
      "Train label dist (T/F)     : 4605 / 3395\n"
     ]
    }
   ],
   "execution_count": 2
  },
  {
   "cell_type": "markdown",
   "id": "df16ad62",
   "metadata": {},
   "source": [
    "### 2 · Train baseline LUT network"
   ]
  },
  {
   "cell_type": "code",
   "id": "7ccd3c8a",
   "metadata": {
    "ExecuteTime": {
     "end_time": "2025-05-02T12:53:23.146186Z",
     "start_time": "2025-05-02T12:53:22.901065Z"
    }
   },
   "source": [
    "layer_count, node_count, bit_count = 4, 32, 4\n",
    "\n",
    "lut_net = DeepBinaryClassifier(\n",
    "    nodes_per_layer   =[node_count]*layer_count,\n",
    "    bits_per_node     =[bit_count]*(layer_count+1),\n",
    "    node_factory      =make_lut_node,\n",
    "    rng               =42,\n",
    "    n_jobs            =1,\n",
    "    reuse_prev_width  =True,\n",
    ").fit(X_train, y_train)\n",
    "\n",
    "acc_lut = accuracy_score(y_test, lut_net.predict(X_test))\n",
    "print(f'Baseline LUT network accuracy: {acc_lut:.4f}')"
   ],
   "outputs": [
    {
     "name": "stdout",
     "output_type": "stream",
     "text": [
      "Baseline LUT network accuracy: 0.7445\n"
     ]
    }
   ],
   "execution_count": 3
  },
  {
   "cell_type": "markdown",
   "id": "34d877b4",
   "metadata": {},
   "source": [
    "### 3 · Inspect a single LUT node (first layer, first node)"
   ]
  },
  {
   "cell_type": "code",
   "id": "f54c1b17",
   "metadata": {
    "ExecuteTime": {
     "end_time": "2025-05-02T12:53:31.381418Z",
     "start_time": "2025-05-02T12:53:31.375750Z"
    }
   },
   "source": [
    "node = lut_net.layers[0][0]\n",
    "print('Columns           :', node.cols)\n",
    "print('Bits              :', node.bits)\n",
    "print('Raw LUT truth table (first 16 entries):', node.lut[:16])\n",
    "\n",
    "# node performance on training set\n",
    "from architecture_goodie.lut_node import truth_table_indices\n",
    "node_out_train = node.lut[truth_table_indices(X_train[:, node.cols])]\n",
    "print('Node→y train accuracy:', accuracy_score(y_train, node_out_train))"
   ],
   "outputs": [
    {
     "name": "stdout",
     "output_type": "stream",
     "text": [
      "Columns           : [ 8 77 65 43]\n",
      "Bits              : 4\n",
      "Raw LUT truth table (first 16 entries): [ True  True  True  True  True  True  True  True  True  True  True  True\n",
      "  True  True  True  True]\n",
      "Node→y train accuracy: 0.575625\n"
     ]
    }
   ],
   "execution_count": 4
  },
  {
   "cell_type": "markdown",
   "id": "90bd750b",
   "metadata": {},
   "source": [
    "### 4 · Learn a RIPPER ruleset for that node & overlay LUT"
   ]
  },
  {
   "cell_type": "code",
   "id": "146d37b3",
   "metadata": {
    "ExecuteTime": {
     "end_time": "2025-05-02T12:56:35.982706Z",
     "start_time": "2025-05-02T12:56:35.679002Z"
    }
   },
   "source": [
    "y_pm1 = y_train.astype(np.int8)*2 - 1\n",
    "X_bits = X_train[:, node.cols]\n",
    "rip_node = make_ripper_node(\n",
    "    X_bits, y_pm1, node.bits, node.cols,\n",
    "    rng = np.random.default_rng(0),\n",
    "    tie_break='random',\n",
    "    ripper_kwargs={'random_state':0}\n",
    ")\n",
    "print('RIPPER‑derived LUT (first 16):', rip_node.lut[:16])\n",
    "\n",
    "# compare difference\n",
    "diff = (rip_node.lut != node.lut).sum()\n",
    "print(f'LUT entries changed: {diff} / {len(node.lut)}')\n",
    "\n",
    "# overlay (inject) new LUT into existing node\n",
    "node.lut = rip_node.lut.copy()\n",
    "\n",
    "# re‑evaluate entire network with only this node patched\n",
    "acc_patch = accuracy_score(y_test, lut_net.predict(X_test))\n",
    "print(f'Accuracy after single‑node patch: {acc_patch:.4f}')"
   ],
   "outputs": [
    {
     "name": "stdout",
     "output_type": "stream",
     "text": [
      "RIPPER‑derived LUT (first 16): [False False False False  True  True  True  True False False False False\n",
      "  True  True  True  True]\n",
      "LUT entries changed: 8 / 16\n",
      "Accuracy after single‑node patch: 0.6450\n"
     ]
    }
   ],
   "execution_count": 5
  },
  {
   "cell_type": "markdown",
   "id": "bc32d275",
   "metadata": {},
   "source": [
    "### 5 · Iterate over **all** LUT nodes and overlay RIPPER LUTs"
   ]
  },
  {
   "cell_type": "code",
   "id": "0656951e",
   "metadata": {
    "ExecuteTime": {
     "end_time": "2025-05-02T12:57:31.256706Z",
     "start_time": "2025-05-02T12:56:43.117511Z"
    }
   },
   "source": [
    "def overlay_all_nodes_with_ripper(model, X_train, y_train):\n",
    "    y_pm1 = y_train.astype(np.int8)*2 - 1\n",
    "    raw   = X_train\n",
    "    pool  = raw\n",
    "    for layer_idx, layer in enumerate(model.layers):\n",
    "        pool = pool if (model.reuse_prev_width or layer_idx==0) else np.column_stack((raw, pool))\n",
    "        new_outputs = []\n",
    "        for node in layer:\n",
    "            X_bits = pool[:, node.cols]\n",
    "            rip_node = make_ripper_node(\n",
    "                X_bits, y_pm1, node.bits, node.cols,\n",
    "                rng = np.random.default_rng(0),\n",
    "                tie_break='random',\n",
    "                ripper_kwargs={'random_state':0}\n",
    "            )\n",
    "            node.lut = rip_node.lut.copy()\n",
    "            new_outputs.append(node(pool))\n",
    "        pool = np.column_stack(new_outputs)\n",
    "    return model\n",
    "\n",
    "lut_net_rip = overlay_all_nodes_with_ripper(lut_net, X_train, y_train)\n",
    "acc_overlay = accuracy_score(y_test, lut_net_rip.predict(X_test))\n",
    "print(f'Accuracy after overlaying ALL nodes: {acc_overlay:.4f}')"
   ],
   "outputs": [
    {
     "name": "stdout",
     "output_type": "stream",
     "text": [
      "Accuracy after overlaying ALL nodes: 0.8720\n"
     ]
    }
   ],
   "execution_count": 6
  },
  {
   "cell_type": "markdown",
   "id": "1c110059",
   "metadata": {},
   "source": [
    "### 6 · Accuracy comparison"
   ]
  },
  {
   "cell_type": "code",
   "id": "2e34150e",
   "metadata": {
    "ExecuteTime": {
     "end_time": "2025-05-02T12:58:24.862492Z",
     "start_time": "2025-05-02T12:58:24.854222Z"
    }
   },
   "source": [
    "pd.DataFrame({\n",
    "    'Model'    : ['Baseline LUT', 'One‑node patched', 'All nodes patched'],\n",
    "    'Accuracy' : [acc_lut, acc_patch, acc_overlay]\n",
    "})"
   ],
   "outputs": [
    {
     "data": {
      "text/plain": [
       "               Model  Accuracy\n",
       "0       Baseline LUT    0.7445\n",
       "1   One‑node patched    0.6450\n",
       "2  All nodes patched    0.8720"
      ],
      "text/html": [
       "<div>\n",
       "<style scoped>\n",
       "    .dataframe tbody tr th:only-of-type {\n",
       "        vertical-align: middle;\n",
       "    }\n",
       "\n",
       "    .dataframe tbody tr th {\n",
       "        vertical-align: top;\n",
       "    }\n",
       "\n",
       "    .dataframe thead th {\n",
       "        text-align: right;\n",
       "    }\n",
       "</style>\n",
       "<table border=\"1\" class=\"dataframe\">\n",
       "  <thead>\n",
       "    <tr style=\"text-align: right;\">\n",
       "      <th></th>\n",
       "      <th>Model</th>\n",
       "      <th>Accuracy</th>\n",
       "    </tr>\n",
       "  </thead>\n",
       "  <tbody>\n",
       "    <tr>\n",
       "      <th>0</th>\n",
       "      <td>Baseline LUT</td>\n",
       "      <td>0.7445</td>\n",
       "    </tr>\n",
       "    <tr>\n",
       "      <th>1</th>\n",
       "      <td>One‑node patched</td>\n",
       "      <td>0.6450</td>\n",
       "    </tr>\n",
       "    <tr>\n",
       "      <th>2</th>\n",
       "      <td>All nodes patched</td>\n",
       "      <td>0.8720</td>\n",
       "    </tr>\n",
       "  </tbody>\n",
       "</table>\n",
       "</div>"
      ]
     },
     "execution_count": 7,
     "metadata": {},
     "output_type": "execute_result"
    }
   ],
   "execution_count": 7
  },
  {
   "cell_type": "markdown",
   "id": "512eaa3c",
   "metadata": {},
   "source": [
    "### 7 · Discussion\n",
    "Feel free to analyse changed LUT tables, per-layer effects, or visualise rule complexity."
   ]
  }
 ],
 "metadata": {
  "kernelspec": {
   "name": "python3",
   "language": "python",
   "display_name": "Python 3 (ipykernel)"
  }
 },
 "nbformat": 4,
 "nbformat_minor": 5
}
