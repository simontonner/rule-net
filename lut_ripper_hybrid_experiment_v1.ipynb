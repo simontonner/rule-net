{
 "cells": [
  {
   "cell_type": "markdown",
   "id": "6206fecf",
   "metadata": {},
   "source": [
    "#### LUT→RIPPER Hybrid | Deep Boolean Networks\n",
    "# Node‑wise Ruleset Refinement Experiments"
   ]
  },
  {
   "cell_type": "markdown",
   "id": "6dfa1dc0",
   "metadata": {},
   "source": [
    "### 0 · Imports"
   ]
  },
  {
   "metadata": {},
   "cell_type": "markdown",
   "source": "",
   "id": "1f0006a1540620ee"
  },
  {
   "cell_type": "code",
   "id": "8e4e354e",
   "metadata": {
    "ExecuteTime": {
     "end_time": "2025-05-02T12:27:38.435431Z",
     "start_time": "2025-05-02T12:27:37.701365Z"
    }
   },
   "source": [
    "import numpy as np, pandas as pd\n",
    "from pathlib import Path\n",
    "from sklearn.model_selection import train_test_split\n",
    "from sklearn.metrics import accuracy_score, classification_report\n",
    "\n",
    "from architecture_goodie.deep_binary_classifier import DeepBinaryClassifier\n",
    "from architecture_goodie.lut_node      import make_lut_node\n",
    "from architecture_goodie.ripper_node   import make_ripper_node"
   ],
   "outputs": [],
   "execution_count": 1
  },
  {
   "cell_type": "markdown",
   "id": "cbb31014",
   "metadata": {},
   "source": [
    "### 1 · Load dataset"
   ]
  },
  {
   "cell_type": "code",
   "id": "e200a104",
   "metadata": {
    "ExecuteTime": {
     "end_time": "2025-05-02T12:27:42.247130Z",
     "start_time": "2025-05-02T12:27:42.178138Z"
    }
   },
   "source": [
    "data_path = Path('./data/100_bit_artificial/1a.csv')\n",
    "df = pd.read_csv(data_path)\n",
    "\n",
    "X = df.drop(columns='class').to_numpy(dtype=bool)\n",
    "y = df['class'].to_numpy(dtype=bool)\n",
    "\n",
    "X_train, X_test, y_train, y_test = train_test_split(\n",
    "    X, y, test_size=0.2, random_state=42, stratify=y\n",
    ")\n",
    "\n",
    "print(f'Dataset shape          : {df.shape}')\n",
    "print(f'Train/Test split       : {X_train.shape[0]} / {X_test.shape[0]}')\n",
    "print(f'Train label (True/False): {y_train.sum()} / {y_train.size - y_train.sum()}')"
   ],
   "outputs": [
    {
     "name": "stdout",
     "output_type": "stream",
     "text": [
      "Dataset shape          : (10000, 101)\n",
      "Train/Test split       : 8000 / 2000\n",
      "Train label (True/False): 4605 / 3395\n"
     ]
    }
   ],
   "execution_count": 2
  },
  {
   "cell_type": "markdown",
   "id": "6a5f93f9",
   "metadata": {},
   "source": [
    "### 2 · Network hyper‑parameters"
   ]
  },
  {
   "cell_type": "code",
   "id": "64d5a02b",
   "metadata": {
    "ExecuteTime": {
     "end_time": "2025-05-02T12:27:50.773982Z",
     "start_time": "2025-05-02T12:27:50.770764Z"
    }
   },
   "source": [
    "nodes_per_layer = [64, 32]            # adjust freely\n",
    "bits_per_node   = [5, 5, 7]           # last entry → final node\n",
    "\n",
    "common_kw = dict(\n",
    "    tie_break        = 'random',\n",
    "    reuse_prev_width = False,\n",
    "    rng              = 0,\n",
    "    n_jobs           = None\n",
    ")"
   ],
   "outputs": [],
   "execution_count": 3
  },
  {
   "cell_type": "markdown",
   "id": "cffb5f96",
   "metadata": {},
   "source": [
    "### 3 · Train baseline LUT network"
   ]
  },
  {
   "cell_type": "code",
   "id": "a096cc6a",
   "metadata": {
    "ExecuteTime": {
     "end_time": "2025-05-02T12:27:54.893860Z",
     "start_time": "2025-05-02T12:27:54.195707Z"
    }
   },
   "source": [
    "lut_net = DeepBinaryClassifier(\n",
    "    nodes_per_layer, bits_per_node,\n",
    "    node_factory  = make_lut_node,\n",
    "    **common_kw\n",
    ").fit(X_train, y_train)\n",
    "\n",
    "y_pred_base = lut_net.predict(X_test)\n",
    "acc_base    = accuracy_score(y_test, y_pred_base)\n",
    "print('Baseline LUT accuracy:', acc_base)"
   ],
   "outputs": [
    {
     "name": "stdout",
     "output_type": "stream",
     "text": [
      "Baseline LUT accuracy: 0.4825\n"
     ]
    }
   ],
   "execution_count": 4
  },
  {
   "cell_type": "markdown",
   "id": "c3a8b190",
   "metadata": {},
   "source": [
    "### 4 · Node‑wise RIPPER refinement"
   ]
  },
  {
   "cell_type": "code",
   "id": "16ceee75",
   "metadata": {
    "ExecuteTime": {
     "end_time": "2025-05-02T12:29:42.141339Z",
     "start_time": "2025-05-02T12:28:22.202579Z"
    }
   },
   "source": [
    "def refine_with_ripper(lut_model, X_train, y_train, ripper_kwargs=None):\n",
    "    '''Replace every LutNode in-place by a RipperNode trained on the same bit columns.'''\n",
    "    ripper_kwargs = ripper_kwargs or {}\n",
    "    y_pm1 = y_train.astype(np.int8)*2 - 1\n",
    "\n",
    "    raw     = X_train\n",
    "    current = raw\n",
    "\n",
    "    for layer_idx, layer in enumerate(lut_model.layers):\n",
    "        new_layer = []\n",
    "        pool = current if (lut_model.reuse_prev_width or layer_idx == 0) else np.column_stack((raw, current))\n",
    "        for node in layer:\n",
    "            cols = node.cols\n",
    "            bits = node.bits\n",
    "            X_bits = pool[:, cols]\n",
    "            rip_node = make_ripper_node(\n",
    "                X_bits, y_pm1, bits, cols,\n",
    "                rng = np.random.default_rng(0),\n",
    "                tie_break = 'random',\n",
    "                ripper_kwargs = ripper_kwargs\n",
    "            )\n",
    "            new_layer.append(rip_node)\n",
    "        lut_model.layers[layer_idx] = new_layer\n",
    "        current = np.column_stack([n(pool) for n in new_layer])\n",
    "    return lut_model\n",
    "\n",
    "hybrid_net = refine_with_ripper(lut_net, X_train, y_train, {'random_state':0})\n",
    "y_pred_hybrid = hybrid_net.predict(X_test)\n",
    "acc_hybrid    = accuracy_score(y_test, y_pred_hybrid)\n",
    "print('Hybrid accuracy (LUT→RIPPER):', acc_hybrid)"
   ],
   "outputs": [
    {
     "name": "stdout",
     "output_type": "stream",
     "text": [
      "Hybrid accuracy (LUT→RIPPER): 0.5085\n"
     ]
    }
   ],
   "execution_count": 5
  },
  {
   "cell_type": "markdown",
   "id": "b0b852ee",
   "metadata": {},
   "source": [
    "### 5 · Results"
   ]
  },
  {
   "cell_type": "code",
   "execution_count": null,
   "id": "39376dc6",
   "metadata": {},
   "outputs": [],
   "source": [
    "pd.DataFrame({\n",
    "    'Model'   : ['Baseline LUT', 'Hybrid LUT→RIPPER'],\n",
    "    'Accuracy': [acc_base, acc_hybrid]\n",
    "})"
   ]
  },
  {
   "cell_type": "markdown",
   "id": "86da9876",
   "metadata": {},
   "source": [
    "### 6 · Discussion\n",
    "Add your analysis, per‑layer stats, visualisations …"
   ]
  }
 ],
 "metadata": {
  "kernelspec": {
   "name": "python3",
   "language": "python",
   "display_name": "Python 3 (ipykernel)"
  }
 },
 "nbformat": 4,
 "nbformat_minor": 5
}
