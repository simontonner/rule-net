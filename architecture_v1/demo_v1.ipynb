{
 "cells": [
  {
   "cell_type": "code",
   "id": "6d5e21bc135d3f3f",
   "metadata": {
    "ExecuteTime": {
     "end_time": "2025-05-01T16:55:05.211846Z",
     "start_time": "2025-05-01T16:55:05.138874Z"
    }
   },
   "source": [
    "# %% Imports & dataset --------------------------------------------------\n",
    "import pandas as pd\n",
    "import numpy as np\n",
    "from sklearn.model_selection import train_test_split\n",
    "from sklearn.metrics import accuracy_score\n",
    "\n",
    "from architecture_v1.deep_binary_classifier import DeepBinaryClassifier\n",
    "from architecture_v1.lut_node import make_lut_node\n",
    "from architecture_v1.ripper_node import make_ripper_node\n",
    "\n",
    "# load your 100-bit artificial data\n",
    "df = pd.read_csv(\"./data/100_bit_artificial/1a.csv\")      # adjust file name if needed\n",
    "X = df.drop(columns=\"class\").to_numpy(bool)\n",
    "y = df[\"class\"].to_numpy(bool)\n",
    "\n",
    "X_train, X_test, y_train, y_test = train_test_split(\n",
    "    X, y, test_size=0.2, stratify=y, random_state=1\n",
    ")"
   ],
   "outputs": [],
   "execution_count": 5
  },
  {
   "metadata": {
    "ExecuteTime": {
     "end_time": "2025-05-01T16:55:07.954481Z",
     "start_time": "2025-05-01T16:55:07.951053Z"
    }
   },
   "cell_type": "code",
   "source": [
    "\n",
    "# %% Configuration shared by both models --------------------------------\n",
    "cfg = dict(\n",
    "    nodes_per_layer=[32]*5,      # ← matches your old notebook\n",
    "    bits_per_node=[6]*6,         # 5 hidden + 1 output\n",
    "    rng=42,\n",
    ")"
   ],
   "id": "e80ea331ac845c6c",
   "outputs": [],
   "execution_count": 6
  },
  {
   "metadata": {
    "ExecuteTime": {
     "end_time": "2025-05-01T16:55:24.434569Z",
     "start_time": "2025-05-01T16:55:24.381772Z"
    }
   },
   "cell_type": "code",
   "source": [
    "%time\n",
    "# %% Train / evaluate LUT network ---------------------------------------\n",
    "lut_net = DeepBinaryClassifier(**cfg, node_factory=make_lut_node, tie_break=\"random\")\n",
    "lut_net.fit(X_train, y_train)\n",
    "acc_lut = accuracy_score(y_test, lut_net.predict(X_test))\n",
    "print(f\"LUT network  accuracy: {acc_lut:.4f}\")"
   ],
   "id": "7daa35721026e961",
   "outputs": [
    {
     "name": "stdout",
     "output_type": "stream",
     "text": [
      "CPU times: user 1e+03 ns, sys: 1 µs, total: 2 µs\n",
      "Wall time: 3.1 µs\n",
      "LUT network  accuracy: 0.7300\n"
     ]
    }
   ],
   "execution_count": 9
  },
  {
   "metadata": {
    "collapsed": true,
    "ExecuteTime": {
     "end_time": "2025-05-01T16:39:45.820105Z",
     "start_time": "2025-05-01T16:38:22.481915Z"
    }
   },
   "cell_type": "code",
   "source": [
    "\n",
    "# %% Train / evaluate “Ripper” network ----------------------------------\n",
    "rip_net = DeepBinaryClassifier(**cfg, node_factory=make_ripper_node)\n",
    "rip_net.fit(X_train, y_train)\n",
    "acc_rip = accuracy_score(y_test, rip_net.predict(X_test))\n",
    "print(f\"Rule (tree) network accuracy: {acc_rip:.4f}\")\n"
   ],
   "id": "initial_id",
   "outputs": [
    {
     "ename": "KeyboardInterrupt",
     "evalue": "",
     "output_type": "error",
     "traceback": [
      "\u001B[0;31m---------------------------------------------------------------------------\u001B[0m",
      "\u001B[0;31mKeyboardInterrupt\u001B[0m                         Traceback (most recent call last)",
      "Cell \u001B[0;32mIn[4], line 3\u001B[0m\n\u001B[1;32m      1\u001B[0m \u001B[38;5;66;03m# %% Train / evaluate “Ripper” network ----------------------------------\u001B[39;00m\n\u001B[1;32m      2\u001B[0m rip_net \u001B[38;5;241m=\u001B[39m DeepBinaryClassifier(\u001B[38;5;241m*\u001B[39m\u001B[38;5;241m*\u001B[39mcfg, node_factory\u001B[38;5;241m=\u001B[39mmake_ripper_node)\n\u001B[0;32m----> 3\u001B[0m \u001B[43mrip_net\u001B[49m\u001B[38;5;241;43m.\u001B[39;49m\u001B[43mfit\u001B[49m\u001B[43m(\u001B[49m\u001B[43mX_train\u001B[49m\u001B[43m,\u001B[49m\u001B[43m \u001B[49m\u001B[43my_train\u001B[49m\u001B[43m)\u001B[49m\n\u001B[1;32m      4\u001B[0m acc_rip \u001B[38;5;241m=\u001B[39m accuracy_score(y_test, rip_net\u001B[38;5;241m.\u001B[39mpredict(X_test))\n\u001B[1;32m      5\u001B[0m \u001B[38;5;28mprint\u001B[39m(\u001B[38;5;124mf\u001B[39m\u001B[38;5;124m\"\u001B[39m\u001B[38;5;124mRule (tree) network accuracy: \u001B[39m\u001B[38;5;132;01m{\u001B[39;00macc_rip\u001B[38;5;132;01m:\u001B[39;00m\u001B[38;5;124m.4f\u001B[39m\u001B[38;5;132;01m}\u001B[39;00m\u001B[38;5;124m\"\u001B[39m)\n",
      "File \u001B[0;32m~/Desktop/practical-work-code/rule-net/architecture/deep_binary_classifier.py:80\u001B[0m, in \u001B[0;36mDeepBinaryClassifier.fit\u001B[0;34m(self, X, y)\u001B[0m\n\u001B[1;32m     73\u001B[0m pool_size \u001B[38;5;241m=\u001B[39m (\n\u001B[1;32m     74\u001B[0m     layer_out\u001B[38;5;241m.\u001B[39mshape[\u001B[38;5;241m1\u001B[39m]\n\u001B[1;32m     75\u001B[0m     \u001B[38;5;28;01mif\u001B[39;00m (\u001B[38;5;129;01mnot\u001B[39;00m \u001B[38;5;28mself\u001B[39m\u001B[38;5;241m.\u001B[39mreuse_prev_width \u001B[38;5;129;01mor\u001B[39;00m layer_idx \u001B[38;5;241m==\u001B[39m \u001B[38;5;241m0\u001B[39m)\n\u001B[1;32m     76\u001B[0m     \u001B[38;5;28;01melse\u001B[39;00m \u001B[38;5;28mself\u001B[39m\u001B[38;5;241m.\u001B[39mnodes_per_layer[layer_idx \u001B[38;5;241m-\u001B[39m \u001B[38;5;241m1\u001B[39m]\n\u001B[1;32m     77\u001B[0m )\n\u001B[1;32m     78\u001B[0m cols_arr \u001B[38;5;241m=\u001B[39m \u001B[38;5;28mself\u001B[39m\u001B[38;5;241m.\u001B[39mrng\u001B[38;5;241m.\u001B[39mchoice(pool_size, size\u001B[38;5;241m=\u001B[39m(width, bits), replace\u001B[38;5;241m=\u001B[39m\u001B[38;5;28;01mTrue\u001B[39;00m)\n\u001B[0;32m---> 80\u001B[0m nodes \u001B[38;5;241m=\u001B[39m [\n\u001B[1;32m     81\u001B[0m     \u001B[38;5;28mself\u001B[39m\u001B[38;5;241m.\u001B[39mnode_factory(\n\u001B[1;32m     82\u001B[0m         layer_out[:, cols], y_pm1, bits, cols, \u001B[38;5;28mself\u001B[39m\u001B[38;5;241m.\u001B[39mrng, \u001B[38;5;28mself\u001B[39m\u001B[38;5;241m.\u001B[39mtie_break\n\u001B[1;32m     83\u001B[0m     )\n\u001B[1;32m     84\u001B[0m     \u001B[38;5;28;01mfor\u001B[39;00m cols \u001B[38;5;129;01min\u001B[39;00m cols_arr\n\u001B[1;32m     85\u001B[0m ]\n\u001B[1;32m     86\u001B[0m \u001B[38;5;28mself\u001B[39m\u001B[38;5;241m.\u001B[39mlayers\u001B[38;5;241m.\u001B[39mappend(nodes)\n\u001B[1;32m     87\u001B[0m layer_out \u001B[38;5;241m=\u001B[39m np\u001B[38;5;241m.\u001B[39mcolumn_stack([n(layer_out) \u001B[38;5;28;01mfor\u001B[39;00m n \u001B[38;5;129;01min\u001B[39;00m nodes])\n",
      "File \u001B[0;32m~/Desktop/practical-work-code/rule-net/architecture/deep_binary_classifier.py:81\u001B[0m, in \u001B[0;36m<listcomp>\u001B[0;34m(.0)\u001B[0m\n\u001B[1;32m     73\u001B[0m pool_size \u001B[38;5;241m=\u001B[39m (\n\u001B[1;32m     74\u001B[0m     layer_out\u001B[38;5;241m.\u001B[39mshape[\u001B[38;5;241m1\u001B[39m]\n\u001B[1;32m     75\u001B[0m     \u001B[38;5;28;01mif\u001B[39;00m (\u001B[38;5;129;01mnot\u001B[39;00m \u001B[38;5;28mself\u001B[39m\u001B[38;5;241m.\u001B[39mreuse_prev_width \u001B[38;5;129;01mor\u001B[39;00m layer_idx \u001B[38;5;241m==\u001B[39m \u001B[38;5;241m0\u001B[39m)\n\u001B[1;32m     76\u001B[0m     \u001B[38;5;28;01melse\u001B[39;00m \u001B[38;5;28mself\u001B[39m\u001B[38;5;241m.\u001B[39mnodes_per_layer[layer_idx \u001B[38;5;241m-\u001B[39m \u001B[38;5;241m1\u001B[39m]\n\u001B[1;32m     77\u001B[0m )\n\u001B[1;32m     78\u001B[0m cols_arr \u001B[38;5;241m=\u001B[39m \u001B[38;5;28mself\u001B[39m\u001B[38;5;241m.\u001B[39mrng\u001B[38;5;241m.\u001B[39mchoice(pool_size, size\u001B[38;5;241m=\u001B[39m(width, bits), replace\u001B[38;5;241m=\u001B[39m\u001B[38;5;28;01mTrue\u001B[39;00m)\n\u001B[1;32m     80\u001B[0m nodes \u001B[38;5;241m=\u001B[39m [\n\u001B[0;32m---> 81\u001B[0m     \u001B[38;5;28;43mself\u001B[39;49m\u001B[38;5;241;43m.\u001B[39;49m\u001B[43mnode_factory\u001B[49m\u001B[43m(\u001B[49m\n\u001B[1;32m     82\u001B[0m \u001B[43m        \u001B[49m\u001B[43mlayer_out\u001B[49m\u001B[43m[\u001B[49m\u001B[43m:\u001B[49m\u001B[43m,\u001B[49m\u001B[43m \u001B[49m\u001B[43mcols\u001B[49m\u001B[43m]\u001B[49m\u001B[43m,\u001B[49m\u001B[43m \u001B[49m\u001B[43my_pm1\u001B[49m\u001B[43m,\u001B[49m\u001B[43m \u001B[49m\u001B[43mbits\u001B[49m\u001B[43m,\u001B[49m\u001B[43m \u001B[49m\u001B[43mcols\u001B[49m\u001B[43m,\u001B[49m\u001B[43m \u001B[49m\u001B[38;5;28;43mself\u001B[39;49m\u001B[38;5;241;43m.\u001B[39;49m\u001B[43mrng\u001B[49m\u001B[43m,\u001B[49m\u001B[43m \u001B[49m\u001B[38;5;28;43mself\u001B[39;49m\u001B[38;5;241;43m.\u001B[39;49m\u001B[43mtie_break\u001B[49m\n\u001B[1;32m     83\u001B[0m \u001B[43m    \u001B[49m\u001B[43m)\u001B[49m\n\u001B[1;32m     84\u001B[0m     \u001B[38;5;28;01mfor\u001B[39;00m cols \u001B[38;5;129;01min\u001B[39;00m cols_arr\n\u001B[1;32m     85\u001B[0m ]\n\u001B[1;32m     86\u001B[0m \u001B[38;5;28mself\u001B[39m\u001B[38;5;241m.\u001B[39mlayers\u001B[38;5;241m.\u001B[39mappend(nodes)\n\u001B[1;32m     87\u001B[0m layer_out \u001B[38;5;241m=\u001B[39m np\u001B[38;5;241m.\u001B[39mcolumn_stack([n(layer_out) \u001B[38;5;28;01mfor\u001B[39;00m n \u001B[38;5;129;01min\u001B[39;00m nodes])\n",
      "File \u001B[0;32m~/Desktop/practical-work-code/rule-net/architecture/ripper_node.py:74\u001B[0m, in \u001B[0;36mmake_ripper_node\u001B[0;34m(X_bits, y_pm1, bits, cols, *args, **kwargs)\u001B[0m\n\u001B[1;32m     68\u001B[0m \u001B[38;5;28;01mdef\u001B[39;00m \u001B[38;5;21mmake_ripper_node\u001B[39m(X_bits, y_pm1, bits, cols, \u001B[38;5;241m*\u001B[39margs, \u001B[38;5;241m*\u001B[39m\u001B[38;5;241m*\u001B[39mkwargs):\n\u001B[1;32m     69\u001B[0m \u001B[38;5;250m    \u001B[39m\u001B[38;5;124;03m\"\"\"\u001B[39;00m\n\u001B[1;32m     70\u001B[0m \u001B[38;5;124;03m    Factory matching DeepBinaryClassifier’s 6-arg convention\u001B[39;00m\n\u001B[1;32m     71\u001B[0m \u001B[38;5;124;03m    (X_bits, y_pm1, bits, cols, rng, tie_break, …).\u001B[39;00m\n\u001B[1;32m     72\u001B[0m \u001B[38;5;124;03m    The extra positional args are ignored; kwargs can carry ripper_kwargs.\u001B[39;00m\n\u001B[1;32m     73\u001B[0m \u001B[38;5;124;03m    \"\"\"\u001B[39;00m\n\u001B[0;32m---> 74\u001B[0m     \u001B[38;5;28;01mreturn\u001B[39;00m \u001B[43mRipperNode\u001B[49m\u001B[43m(\u001B[49m\u001B[43mX_bits\u001B[49m\u001B[43m,\u001B[49m\u001B[43m \u001B[49m\u001B[43my_pm1\u001B[49m\u001B[43m,\u001B[49m\u001B[43m \u001B[49m\u001B[43mbits\u001B[49m\u001B[43m,\u001B[49m\u001B[43m \u001B[49m\u001B[43mcols\u001B[49m\u001B[43m,\u001B[49m\u001B[43m \u001B[49m\u001B[38;5;241;43m*\u001B[39;49m\u001B[43margs\u001B[49m\u001B[43m,\u001B[49m\u001B[43m \u001B[49m\u001B[38;5;241;43m*\u001B[39;49m\u001B[38;5;241;43m*\u001B[39;49m\u001B[43mkwargs\u001B[49m\u001B[43m)\u001B[49m\n",
      "File \u001B[0;32m~/Desktop/practical-work-code/rule-net/architecture/ripper_node.py:45\u001B[0m, in \u001B[0;36mRipperNode.__init__\u001B[0;34m(self, X_bits, y_pm1, bits, cols, ripper_kwargs, *_ignored)\u001B[0m\n\u001B[1;32m     42\u001B[0m y_df \u001B[38;5;241m=\u001B[39m pd\u001B[38;5;241m.\u001B[39mDataFrame({\u001B[38;5;124m\"\u001B[39m\u001B[38;5;124moutput\u001B[39m\u001B[38;5;124m\"\u001B[39m: (y_pm1 \u001B[38;5;241m>\u001B[39m \u001B[38;5;241m0\u001B[39m)\u001B[38;5;241m.\u001B[39mastype(\u001B[38;5;28mbool\u001B[39m)})\n\u001B[1;32m     44\u001B[0m rip \u001B[38;5;241m=\u001B[39m lw\u001B[38;5;241m.\u001B[39mRIPPER(\u001B[38;5;241m*\u001B[39m\u001B[38;5;241m*\u001B[39m(ripper_kwargs \u001B[38;5;129;01mor\u001B[39;00m {}))\n\u001B[0;32m---> 45\u001B[0m \u001B[43mrip\u001B[49m\u001B[38;5;241;43m.\u001B[39;49m\u001B[43mfit\u001B[49m\u001B[43m(\u001B[49m\u001B[43mX_df\u001B[49m\u001B[43m,\u001B[49m\u001B[43m \u001B[49m\u001B[43my_df\u001B[49m\u001B[43m)\u001B[49m\n\u001B[1;32m     47\u001B[0m \u001B[38;5;66;03m# ---------- 2. Materialise the full truth-table once ----------\u001B[39;00m\n\u001B[1;32m     48\u001B[0m patterns \u001B[38;5;241m=\u001B[39m np\u001B[38;5;241m.\u001B[39marray(\n\u001B[1;32m     49\u001B[0m     \u001B[38;5;28mlist\u001B[39m(itertools\u001B[38;5;241m.\u001B[39mproduct([\u001B[38;5;28;01mFalse\u001B[39;00m, \u001B[38;5;28;01mTrue\u001B[39;00m], repeat\u001B[38;5;241m=\u001B[39mbits)), dtype\u001B[38;5;241m=\u001B[39m\u001B[38;5;28mbool\u001B[39m\n\u001B[1;32m     50\u001B[0m )\n",
      "File \u001B[0;32m~/miniforge3/envs/rule-net/lib/python3.10/site-packages/wittgenstein/ripper.py:266\u001B[0m, in \u001B[0;36mRIPPER.fit\u001B[0;34m(self, trainset, y, class_feat, pos_class, feature_names, initial_model, cn_optimize, **kwargs)\u001B[0m\n\u001B[1;32m    264\u001B[0m     \u001B[38;5;28mprint\u001B[39m(\u001B[38;5;124mf\u001B[39m\u001B[38;5;124m\"\u001B[39m\u001B[38;5;124moptimization run \u001B[39m\u001B[38;5;132;01m{\u001B[39;00m\u001B[38;5;28miter\u001B[39m\u001B[38;5;132;01m}\u001B[39;00m\u001B[38;5;124m of \u001B[39m\u001B[38;5;132;01m{\u001B[39;00m\u001B[38;5;28mself\u001B[39m\u001B[38;5;241m.\u001B[39mk\u001B[38;5;132;01m}\u001B[39;00m\u001B[38;5;124m\"\u001B[39m)\n\u001B[1;32m    265\u001B[0m \u001B[38;5;28;01mif\u001B[39;00m cn_optimize:\n\u001B[0;32m--> 266\u001B[0m     newset \u001B[38;5;241m=\u001B[39m \u001B[38;5;28;43mself\u001B[39;49m\u001B[38;5;241;43m.\u001B[39;49m\u001B[43m_optimize_ruleset_cn\u001B[49m\u001B[43m(\u001B[49m\n\u001B[1;32m    267\u001B[0m \u001B[43m        \u001B[49m\u001B[38;5;28;43mself\u001B[39;49m\u001B[38;5;241;43m.\u001B[39;49m\u001B[43mruleset_\u001B[49m\u001B[43m,\u001B[49m\n\u001B[1;32m    268\u001B[0m \u001B[43m        \u001B[49m\u001B[43mpos_idx\u001B[49m\u001B[43m,\u001B[49m\n\u001B[1;32m    269\u001B[0m \u001B[43m        \u001B[49m\u001B[43mneg_idx\u001B[49m\u001B[43m,\u001B[49m\n\u001B[1;32m    270\u001B[0m \u001B[43m        \u001B[49m\u001B[43mprune_size\u001B[49m\u001B[38;5;241;43m=\u001B[39;49m\u001B[38;5;28;43mself\u001B[39;49m\u001B[38;5;241;43m.\u001B[39;49m\u001B[43mprune_size\u001B[49m\u001B[43m,\u001B[49m\n\u001B[1;32m    271\u001B[0m \u001B[43m        \u001B[49m\u001B[43mrandom_state\u001B[49m\u001B[38;5;241;43m=\u001B[39;49m\u001B[43miter_random_state\u001B[49m\u001B[43m,\u001B[49m\n\u001B[1;32m    272\u001B[0m \u001B[43m    \u001B[49m\u001B[43m)\u001B[49m\n\u001B[1;32m    273\u001B[0m \u001B[38;5;28;01melse\u001B[39;00m:\n\u001B[1;32m    274\u001B[0m     newset \u001B[38;5;241m=\u001B[39m \u001B[38;5;28mself\u001B[39m\u001B[38;5;241m.\u001B[39m_optimize_ruleset(\n\u001B[1;32m    275\u001B[0m         \u001B[38;5;28mself\u001B[39m\u001B[38;5;241m.\u001B[39mruleset_,\n\u001B[1;32m    276\u001B[0m         pos_df,\n\u001B[0;32m   (...)\u001B[0m\n\u001B[1;32m    279\u001B[0m         random_state\u001B[38;5;241m=\u001B[39miter_random_state,\n\u001B[1;32m    280\u001B[0m     )\n",
      "File \u001B[0;32m~/miniforge3/envs/rule-net/lib/python3.10/site-packages/wittgenstein/ripper.py:998\u001B[0m, in \u001B[0;36mRIPPER._optimize_ruleset_cn\u001B[0;34m(self, ruleset, pos_idx, neg_idx, prune_size, max_rule_conds, random_state)\u001B[0m\n\u001B[1;32m    995\u001B[0m \u001B[38;5;28;01mif\u001B[39;00m \u001B[38;5;28mself\u001B[39m\u001B[38;5;241m.\u001B[39mverbosity \u001B[38;5;241m>\u001B[39m\u001B[38;5;241m=\u001B[39m \u001B[38;5;241m3\u001B[39m:\n\u001B[1;32m    996\u001B[0m     \u001B[38;5;28mprint\u001B[39m(\u001B[38;5;124mf\u001B[39m\u001B[38;5;124m\"\u001B[39m\u001B[38;5;124mcalculate potential dl for ds with revision \u001B[39m\u001B[38;5;132;01m{\u001B[39;00mpr_revision\u001B[38;5;132;01m}\u001B[39;00m\u001B[38;5;124m\"\u001B[39m)\n\u001B[1;32m    997\u001B[0m revision_dl \u001B[38;5;241m=\u001B[39m (\n\u001B[0;32m--> 998\u001B[0m     \u001B[43m_rs_total_bits_cn\u001B[49m\u001B[43m(\u001B[49m\n\u001B[1;32m    999\u001B[0m \u001B[43m        \u001B[49m\u001B[38;5;28;43mself\u001B[39;49m\u001B[38;5;241;43m.\u001B[39;49m\u001B[43mcn\u001B[49m\u001B[43m,\u001B[49m\n\u001B[1;32m   1000\u001B[0m \u001B[43m        \u001B[49m\u001B[43mrevision_ruleset\u001B[49m\u001B[43m,\u001B[49m\n\u001B[1;32m   1001\u001B[0m \u001B[43m        \u001B[49m\u001B[43moriginal_ruleset\u001B[49m\u001B[38;5;241;43m.\u001B[39;49m\u001B[43mpossible_conds\u001B[49m\u001B[43m,\u001B[49m\n\u001B[1;32m   1002\u001B[0m \u001B[43m        \u001B[49m\u001B[43mpos_idx\u001B[49m\u001B[43m,\u001B[49m\n\u001B[1;32m   1003\u001B[0m \u001B[43m        \u001B[49m\u001B[43mneg_idx\u001B[49m\u001B[43m,\u001B[49m\n\u001B[1;32m   1004\u001B[0m \u001B[43m        \u001B[49m\u001B[43mbestsubset_dl\u001B[49m\u001B[38;5;241;43m=\u001B[39;49m\u001B[38;5;28;43;01mFalse\u001B[39;49;00m\u001B[43m,\u001B[49m\n\u001B[1;32m   1005\u001B[0m \u001B[43m        \u001B[49m\u001B[43mret_bestsubset\u001B[49m\u001B[38;5;241;43m=\u001B[39;49m\u001B[38;5;28;43;01mFalse\u001B[39;49;00m\u001B[43m,\u001B[49m\n\u001B[1;32m   1006\u001B[0m \u001B[43m        \u001B[49m\u001B[43mverbosity\u001B[49m\u001B[38;5;241;43m=\u001B[39;49m\u001B[38;5;241;43m0\u001B[39;49m\u001B[43m,\u001B[49m\n\u001B[1;32m   1007\u001B[0m \u001B[43m    \u001B[49m\u001B[43m)\u001B[49m\n\u001B[1;32m   1008\u001B[0m     \u001B[38;5;28;01mif\u001B[39;00m pr_revision \u001B[38;5;241m!=\u001B[39m rule\n\u001B[1;32m   1009\u001B[0m     \u001B[38;5;28;01melse\u001B[39;00m original_dl\n\u001B[1;32m   1010\u001B[0m )\n\u001B[1;32m   1011\u001B[0m best_rule \u001B[38;5;241m=\u001B[39m [rule, pr_replacement, pr_revision][\n\u001B[1;32m   1012\u001B[0m     base_functions\u001B[38;5;241m.\u001B[39margmin([original_dl, replacement_dl, revision_dl])\n\u001B[1;32m   1013\u001B[0m ]\n\u001B[1;32m   1015\u001B[0m \u001B[38;5;28;01mif\u001B[39;00m \u001B[38;5;28mself\u001B[39m\u001B[38;5;241m.\u001B[39mverbosity \u001B[38;5;241m>\u001B[39m\u001B[38;5;241m=\u001B[39m \u001B[38;5;241m2\u001B[39m:\n",
      "File \u001B[0;32m~/miniforge3/envs/rule-net/lib/python3.10/site-packages/wittgenstein/ripper.py:1422\u001B[0m, in \u001B[0;36m_rs_total_bits_cn\u001B[0;34m(cn, ruleset, possible_conds, pos_idx, neg_idx, bestsubset_dl, ret_bestsubset, verbosity)\u001B[0m\n\u001B[1;32m   1420\u001B[0m \u001B[38;5;28;01mif\u001B[39;00m \u001B[38;5;129;01mnot\u001B[39;00m bestsubset_dl:\n\u001B[1;32m   1421\u001B[0m     theory_bits \u001B[38;5;241m=\u001B[39m _rs_theory_bits(ruleset, possible_conds, verbosity\u001B[38;5;241m=\u001B[39mverbosity)\n\u001B[0;32m-> 1422\u001B[0m     data_bits \u001B[38;5;241m=\u001B[39m \u001B[43m_exceptions_bits_cn\u001B[49m\u001B[43m(\u001B[49m\n\u001B[1;32m   1423\u001B[0m \u001B[43m        \u001B[49m\u001B[43mcn\u001B[49m\u001B[43m,\u001B[49m\u001B[43m \u001B[49m\u001B[43mruleset\u001B[49m\u001B[43m,\u001B[49m\u001B[43m \u001B[49m\u001B[43mpos_idx\u001B[49m\u001B[43m,\u001B[49m\u001B[43m \u001B[49m\u001B[43mneg_idx\u001B[49m\u001B[43m,\u001B[49m\u001B[43m \u001B[49m\u001B[43mverbosity\u001B[49m\u001B[38;5;241;43m=\u001B[39;49m\u001B[43mverbosity\u001B[49m\n\u001B[1;32m   1424\u001B[0m \u001B[43m    \u001B[49m\u001B[43m)\u001B[49m\n\u001B[1;32m   1425\u001B[0m     \u001B[38;5;28;01mif\u001B[39;00m verbosity \u001B[38;5;241m>\u001B[39m\u001B[38;5;241m=\u001B[39m \u001B[38;5;241m3\u001B[39m:\n\u001B[1;32m   1426\u001B[0m         \u001B[38;5;28mprint\u001B[39m(\u001B[38;5;124mf\u001B[39m\u001B[38;5;124m\"\u001B[39m\u001B[38;5;124mtotal ruleset bits | \u001B[39m\u001B[38;5;132;01m{\u001B[39;00mrnd(theory_bits\u001B[38;5;250m \u001B[39m\u001B[38;5;241m+\u001B[39m\u001B[38;5;250m \u001B[39mdata_bits)\u001B[38;5;132;01m}\u001B[39;00m\u001B[38;5;124m\"\u001B[39m)\n",
      "File \u001B[0;32m~/miniforge3/envs/rule-net/lib/python3.10/site-packages/wittgenstein/ripper.py:1269\u001B[0m, in \u001B[0;36m_exceptions_bits_cn\u001B[0;34m(cn, ruleset, pos_idx, neg_idx, verbosity)\u001B[0m\n\u001B[1;32m   1266\u001B[0m \u001B[38;5;66;03m# if type(ruleset) != Ruleset:\u001B[39;00m\n\u001B[1;32m   1267\u001B[0m \u001B[38;5;66;03m#    raise TypeError(f'to avoid double-counting, _exceptions_bits should calculate exceptions over entire set of rules with type Ruleset')\u001B[39;00m\n\u001B[1;32m   1268\u001B[0m N \u001B[38;5;241m=\u001B[39m \u001B[38;5;28mlen\u001B[39m(pos_idx) \u001B[38;5;241m+\u001B[39m \u001B[38;5;28mlen\u001B[39m(neg_idx)  \u001B[38;5;66;03m# Total number of examples\u001B[39;00m\n\u001B[0;32m-> 1269\u001B[0m pos_cov \u001B[38;5;241m=\u001B[39m \u001B[43mcn\u001B[49m\u001B[38;5;241;43m.\u001B[39;49m\u001B[43mruleset_covers\u001B[49m\u001B[43m(\u001B[49m\u001B[43mruleset\u001B[49m\u001B[43m,\u001B[49m\u001B[43m \u001B[49m\u001B[43msubset\u001B[49m\u001B[38;5;241;43m=\u001B[39;49m\u001B[43mpos_idx\u001B[49m\u001B[43m)\u001B[49m\n\u001B[1;32m   1270\u001B[0m neg_cov \u001B[38;5;241m=\u001B[39m cn\u001B[38;5;241m.\u001B[39mruleset_covers(ruleset, subset\u001B[38;5;241m=\u001B[39mneg_idx)\n\u001B[1;32m   1271\u001B[0m p \u001B[38;5;241m=\u001B[39m \u001B[38;5;28mlen\u001B[39m(pos_cov) \u001B[38;5;241m+\u001B[39m \u001B[38;5;28mlen\u001B[39m(\n\u001B[1;32m   1272\u001B[0m     neg_cov\n\u001B[1;32m   1273\u001B[0m )  \u001B[38;5;66;03m# Total number of examples classified as positive = total covered\u001B[39;00m\n",
      "File \u001B[0;32m~/miniforge3/envs/rule-net/lib/python3.10/site-packages/wittgenstein/catnap.py:92\u001B[0m, in \u001B[0;36mCatNap.ruleset_covers\u001B[0;34m(self, ruleset, subset)\u001B[0m\n\u001B[1;32m     80\u001B[0m     \u001B[38;5;28;01mreturn\u001B[39;00m \u001B[38;5;28mset\u001B[39m()\n\u001B[1;32m     81\u001B[0m \u001B[38;5;28;01melse\u001B[39;00m:\n\u001B[1;32m     82\u001B[0m     \u001B[38;5;28;01mreturn\u001B[39;00m (\n\u001B[1;32m     83\u001B[0m         \u001B[38;5;28mset\u001B[39m\u001B[38;5;241m.\u001B[39munion(\n\u001B[1;32m     84\u001B[0m             \u001B[38;5;241m*\u001B[39m[\n\u001B[1;32m     85\u001B[0m                 \u001B[38;5;28mset\u001B[39m\u001B[38;5;241m.\u001B[39mintersection(\n\u001B[1;32m     86\u001B[0m                     \u001B[38;5;241m*\u001B[39m[\u001B[38;5;28mself\u001B[39m\u001B[38;5;241m.\u001B[39mcond_maps\u001B[38;5;241m.\u001B[39mget(c, \u001B[38;5;28mset\u001B[39m()) \u001B[38;5;28;01mfor\u001B[39;00m c \u001B[38;5;129;01min\u001B[39;00m r\u001B[38;5;241m.\u001B[39mconds]\n\u001B[1;32m     87\u001B[0m                 )\n\u001B[1;32m     88\u001B[0m                 \u001B[38;5;28;01mfor\u001B[39;00m r \u001B[38;5;129;01min\u001B[39;00m ruleset\n\u001B[1;32m     89\u001B[0m             ]\n\u001B[1;32m     90\u001B[0m         )\n\u001B[1;32m     91\u001B[0m         \u001B[38;5;28;01mif\u001B[39;00m subset \u001B[38;5;129;01mis\u001B[39;00m \u001B[38;5;28;01mNone\u001B[39;00m\n\u001B[0;32m---> 92\u001B[0m         \u001B[38;5;28;01melse\u001B[39;00m \u001B[38;5;28;43mset\u001B[39;49m\u001B[38;5;241;43m.\u001B[39;49m\u001B[43munion\u001B[49m\u001B[43m(\u001B[49m\n\u001B[1;32m     93\u001B[0m \u001B[43m            \u001B[49m\u001B[38;5;241;43m*\u001B[39;49m\u001B[43m[\u001B[49m\n\u001B[1;32m     94\u001B[0m \u001B[43m                \u001B[49m\u001B[38;5;28;43mset\u001B[39;49m\u001B[38;5;241;43m.\u001B[39;49m\u001B[43mintersection\u001B[49m\u001B[43m(\u001B[49m\n\u001B[1;32m     95\u001B[0m \u001B[43m                    \u001B[49m\u001B[38;5;241;43m*\u001B[39;49m\u001B[43m[\u001B[49m\u001B[38;5;28;43mself\u001B[39;49m\u001B[38;5;241;43m.\u001B[39;49m\u001B[43mcond_maps\u001B[49m\u001B[38;5;241;43m.\u001B[39;49m\u001B[43mget\u001B[49m\u001B[43m(\u001B[49m\u001B[43mc\u001B[49m\u001B[43m,\u001B[49m\u001B[43m \u001B[49m\u001B[38;5;28;43mset\u001B[39;49m\u001B[43m(\u001B[49m\u001B[43m)\u001B[49m\u001B[43m)\u001B[49m\u001B[43m \u001B[49m\u001B[38;5;28;43;01mfor\u001B[39;49;00m\u001B[43m \u001B[49m\u001B[43mc\u001B[49m\u001B[43m \u001B[49m\u001B[38;5;129;43;01min\u001B[39;49;00m\u001B[43m \u001B[49m\u001B[43mr\u001B[49m\u001B[38;5;241;43m.\u001B[39;49m\u001B[43mconds\u001B[49m\u001B[43m]\u001B[49m\n\u001B[1;32m     96\u001B[0m \u001B[43m                \u001B[49m\u001B[43m)\u001B[49m\n\u001B[1;32m     97\u001B[0m \u001B[43m                \u001B[49m\u001B[38;5;28;43;01mfor\u001B[39;49;00m\u001B[43m \u001B[49m\u001B[43mr\u001B[49m\u001B[43m \u001B[49m\u001B[38;5;129;43;01min\u001B[39;49;00m\u001B[43m \u001B[49m\u001B[43mruleset\u001B[49m\n\u001B[1;32m     98\u001B[0m \u001B[43m            \u001B[49m\u001B[43m]\u001B[49m\n\u001B[1;32m     99\u001B[0m \u001B[43m        \u001B[49m\u001B[43m)\u001B[49m\u001B[38;5;241m.\u001B[39mintersection(subset)\n\u001B[1;32m    100\u001B[0m     )\n",
      "\u001B[0;31mKeyboardInterrupt\u001B[0m: "
     ]
    }
   ],
   "execution_count": 4
  },
  {
   "metadata": {
    "ExecuteTime": {
     "end_time": "2025-05-01T16:59:42.920963Z",
     "start_time": "2025-05-01T16:57:16.462997Z"
    }
   },
   "cell_type": "code",
   "source": [
    "from architecture_v1.deep_binary_classifier import DeepBinaryClassifier\n",
    "from architecture_v1.ripper_node            import make_ripper_node\n",
    "from sklearn.model_selection             import train_test_split\n",
    "from sklearn.metrics                     import accuracy_score\n",
    "import pandas as pd, numpy as np\n",
    "\n",
    "df   = pd.read_csv(\"./data/100_bit_artificial/1a.csv\")\n",
    "X,y  = df.drop(columns=\"class\").to_numpy(bool), df[\"class\"].to_numpy(bool)\n",
    "Xtr,Xte,Ytr,Yte = train_test_split(X,y,test_size=0.2,random_state=1,stratify=y)\n",
    "\n",
    "net = DeepBinaryClassifier(\n",
    "    nodes_per_layer=[32]*5,\n",
    "    bits_per_node  =[6]*6,\n",
    "    node_factory   =make_ripper_node,\n",
    "    tie_break      =\"random\",\n",
    "    reuse_prev_width=False,   # ← keep raw inputs visible\n",
    "    rng=42\n",
    ")\n",
    "net.fit(Xtr, Ytr)\n",
    "print(\"test acc:\", accuracy_score(Yte, net.predict(Xte)))\n"
   ],
   "id": "deaa72fea2aa107b",
   "outputs": [
    {
     "name": "stdout",
     "output_type": "stream",
     "text": [
      "test acc: 0.5055\n"
     ]
    }
   ],
   "execution_count": 1
  },
  {
   "metadata": {
    "ExecuteTime": {
     "end_time": "2025-05-01T17:12:19.201264Z",
     "start_time": "2025-05-01T17:10:14.482861Z"
    }
   },
   "cell_type": "code",
   "source": [
    "# NEW NOTEBOOK (Corrected)\n",
    "from architecture_v1.deep_binary_classifier import DeepBinaryClassifier\n",
    "from architecture_v1.ripper_node            import make_ripper_node\n",
    "from sklearn.model_selection             import train_test_split\n",
    "from sklearn.metrics                     import accuracy_score\n",
    "import pandas as pd, numpy as np\n",
    "\n",
    "df   = pd.read_csv(\"./data/100_bit_artificial/1a.csv\")\n",
    "X,y  = df.drop(columns=\"class\").to_numpy(bool), df[\"class\"].to_numpy(bool)\n",
    "Xtr,Xte,Ytr,Yte = train_test_split(X,y,test_size=0.2,random_state=1,stratify=y)\n",
    "\n",
    "net = DeepBinaryClassifier(\n",
    "    nodes_per_layer=[32]*5,\n",
    "    bits_per_node  =[6]*6,\n",
    "    node_factory   =make_ripper_node,\n",
    "    tie_break      =\"random\",\n",
    "    reuse_prev_width=True,   # ← *** FIX: Match OLD code's input scope ***\n",
    "    rng=42\n",
    ")\n",
    "net.fit(Xtr, Ytr)\n",
    "print(\"test acc:\", accuracy_score(Yte, net.predict(Xte)))"
   ],
   "id": "e4af65e8c49e51d6",
   "outputs": [
    {
     "name": "stdout",
     "output_type": "stream",
     "text": [
      "test acc: 0.8165\n"
     ]
    }
   ],
   "execution_count": 2
  }
 ],
 "metadata": {
  "kernelspec": {
   "display_name": "Python 3",
   "language": "python",
   "name": "python3"
  },
  "language_info": {
   "codemirror_mode": {
    "name": "ipython",
    "version": 2
   },
   "file_extension": ".py",
   "mimetype": "text/x-python",
   "name": "python",
   "nbconvert_exporter": "python",
   "pygments_lexer": "ipython2",
   "version": "2.7.6"
  }
 },
 "nbformat": 4,
 "nbformat_minor": 5
}
