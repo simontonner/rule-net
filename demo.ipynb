{
 "cells": [
  {
   "cell_type": "code",
   "id": "initial_id",
   "metadata": {
    "collapsed": true,
    "ExecuteTime": {
     "end_time": "2025-05-03T23:39:07.348565Z",
     "start_time": "2025-05-03T23:39:06.732633Z"
    }
   },
   "source": [
    "import pandas as pd\n",
    "from sklearn.model_selection import train_test_split\n",
    "from sklearn.metrics import accuracy_score\n",
    "\n",
    "from architecture.deep_binary_classifier import DeepBinaryClassifier\n",
    "from architecture.ripper_node import make_ripper_node\n",
    "from architecture.lut_node import make_lut_node\n",
    "\n",
    "\n",
    "df   = pd.read_csv(\"./data/100_bit_artificial/1a.csv\")\n",
    "X = df.drop(columns=\"class\").to_numpy(bool)\n",
    "y = df[\"class\"].to_numpy(bool)\n",
    "\n",
    "X_train, X_test, y_train, y_test = train_test_split(X, y, test_size=0.2, random_state=42, stratify=y)\n",
    "\n",
    "config = dict(layer_node_counts=[32]*5 + [1], layer_bit_counts=[6]*6, seed=42)"
   ],
   "outputs": [],
   "execution_count": 1
  },
  {
   "metadata": {
    "ExecuteTime": {
     "end_time": "2025-05-03T23:39:08.684132Z",
     "start_time": "2025-05-03T23:39:08.630117Z"
    }
   },
   "cell_type": "code",
   "source": [
    "# the LUT network runs faster on a single thread\n",
    "\n",
    "lut_net = DeepBinaryClassifier(**config, node_factory=make_lut_node, jobs=1)\n",
    "%time lut_net.fit(X_train, y_train)\n",
    "pred_test = lut_net.predict(X_test)\n",
    "acc_lut = accuracy_score(y_test, pred_test)\n",
    "print(f\"LUT network accuracy: {acc_lut:.4f}\")"
   ],
   "id": "9678c87d2c5a9c8f",
   "outputs": [
    {
     "name": "stdout",
     "output_type": "stream",
     "text": [
      "CPU times: user 41.1 ms, sys: 2.26 ms, total: 43.3 ms\n",
      "Wall time: 42 ms\n",
      "LUT network accuracy: 0.7355\n"
     ]
    }
   ],
   "execution_count": 2
  },
  {
   "metadata": {
    "ExecuteTime": {
     "end_time": "2025-05-03T23:39:39.274201Z",
     "start_time": "2025-05-03T23:39:10.440675Z"
    }
   },
   "cell_type": "code",
   "source": [
    "# the Ripper nodes profit from parallelization\n",
    "\n",
    "rip_net = DeepBinaryClassifier(**config, node_factory=make_ripper_node, jobs=8)\n",
    "%time rip_net.fit(X_train, y_train)\n",
    "pred_test = rip_net.predict(X_test)\n",
    "acc_rip = accuracy_score(y_test, pred_test)\n",
    "print(f\"Rule network accuracy: {acc_rip:.4f}\")"
   ],
   "id": "b38a57099f0833d1",
   "outputs": [
    {
     "name": "stdout",
     "output_type": "stream",
     "text": [
      "CPU times: user 160 ms, sys: 229 ms, total: 389 ms\n",
      "Wall time: 28.8 s\n",
      "Rule network accuracy: 0.8830\n"
     ]
    }
   ],
   "execution_count": 3
  },
  {
   "metadata": {
    "ExecuteTime": {
     "end_time": "2025-05-03T23:39:43.267183Z",
     "start_time": "2025-05-03T23:39:43.263420Z"
    }
   },
   "cell_type": "code",
   "source": [
    "rip_node = rip_net.layers[0][5]\n",
    "rip_node.ripper.out_model()"
   ],
   "id": "e3e5fc0553383a58",
   "outputs": [
    {
     "name": "stdout",
     "output_type": "stream",
     "text": [
      "[[x_73=False ^ x_84=True ^ x_79=False]]\n"
     ]
    }
   ],
   "execution_count": 4
  },
  {
   "metadata": {
    "ExecuteTime": {
     "end_time": "2025-05-03T15:30:02.862131Z",
     "start_time": "2025-05-03T15:30:02.859109Z"
    }
   },
   "cell_type": "code",
   "source": [
    "# rip_node is your RipperNode instance\n",
    "r = rip_node.ripper.ruleset_\n",
    "\n",
    "print(\">> Ripper dir:\")\n",
    "print(dir(rip_node.ripper))\n",
    "print()\n",
    "\n",
    "print(\">> Ruleset dir:\")\n",
    "print(dir(r))\n",
    "print()\n",
    "\n",
    "if len(r) > 0:\n",
    "    print(\">> First rule dir:\")\n",
    "    print(dir(r[0]))\n"
   ],
   "id": "57906d855d6c3660",
   "outputs": [
    {
     "name": "stdout",
     "output_type": "stream",
     "text": [
      ">> Ripper dir:\n",
      "['VALID_HYPERPARAMETERS', '__abstractmethods__', '__class__', '__delattr__', '__dict__', '__dir__', '__doc__', '__eq__', '__format__', '__ge__', '__getattribute__', '__gt__', '__hash__', '__init__', '__init_subclass__', '__le__', '__lt__', '__module__', '__ne__', '__new__', '__reduce__', '__reduce_ex__', '__repr__', '__setattr__', '__sizeof__', '__slots__', '__str__', '__subclasshook__', '__weakref__', '_abc_impl', '_cover_remaining_positives', '_cover_remaining_positives_cn', '_ensure_has_bin_transformer', '_estimator_type', '_grow_ruleset', '_grow_ruleset_cn', '_optimize_ruleset', '_optimize_ruleset_cn', '_ruleset_frommodel', '_set_deprecated_fit_params', '_set_theory_dl_lookup', 'add_rule', 'algorithm_name', 'alpha', 'bin_transformer_', 'class_feat', 'classes_', 'copy', 'dl_allowance', 'fit', 'get_params', 'init_ruleset', 'insert_rule', 'insert_rule_at', 'k', 'max_rule_conds', 'max_rules', 'max_total_conds', 'n_discretize_bins', 'out_model', 'pos_class', 'predict', 'predict_proba', 'prune_size', 'random_state', 'recalibrate_proba', 'remove_rule', 'remove_rule_at', 'replace_rule', 'replace_rule_at', 'ruleset_', 'score', 'selected_features_', 'set_params', 'trainset_features_', 'verbosity']\n",
      "\n",
      ">> Ruleset dir:\n",
      "['__class__', '__delattr__', '__dict__', '__dir__', '__doc__', '__eq__', '__format__', '__ge__', '__getattribute__', '__getitem__', '__gt__', '__hash__', '__init__', '__init_subclass__', '__le__', '__len__', '__lt__', '__module__', '__ne__', '__new__', '__reduce__', '__reduce_ex__', '__repr__', '__setattr__', '__sizeof__', '__str__', '__subclasshook__', '__weakref__', '_check_allpos_allneg', '_update_possible_conds', 'add', 'copy', 'count_conds', 'count_rules', 'covers', 'get_conds', 'get_selected_features', 'insert', 'insert_rule', 'isnull', 'isuniversal', 'num_covered', 'out_pretty', 'predict', 'predict_proba', 'remove', 'remove_rule', 'replace', 'replace_rule', 'rules', 'smoothed_uncovered_class_freqs_', 'trim_conds', 'trimmed_str', 'truncstr', 'uncovered_class_freqs_', 'uncovered_class_ns_']\n",
      "\n",
      ">> First rule dir:\n",
      "['__add__', '__class__', '__delattr__', '__dict__', '__dir__', '__doc__', '__eq__', '__format__', '__ge__', '__getattribute__', '__gt__', '__hash__', '__init__', '__init_subclass__', '__le__', '__len__', '__lt__', '__module__', '__ne__', '__new__', '__reduce__', '__reduce_ex__', '__repr__', '__setattr__', '__sizeof__', '__str__', '__subclasshook__', '__weakref__', 'class_freqs_', 'class_ns_', 'conds', 'covered_feats', 'covers', 'isempty', 'num_covered', 'smoothed_class_freqs_', 'successors']\n"
     ]
    }
   ],
   "execution_count": 7
  },
  {
   "metadata": {
    "ExecuteTime": {
     "end_time": "2025-05-03T15:31:23.372234Z",
     "start_time": "2025-05-03T15:31:23.366871Z"
    }
   },
   "cell_type": "code",
   "source": "rip_node.ripper.selected_features_",
   "id": "806ab7e3894454d7",
   "outputs": [
    {
     "data": {
      "text/plain": [
       "['x5', 'x2', 'x4', 'x0', 'x3', 'x1']"
      ]
     },
     "execution_count": 8,
     "metadata": {},
     "output_type": "execute_result"
    }
   ],
   "execution_count": 8
  },
  {
   "metadata": {
    "ExecuteTime": {
     "end_time": "2025-05-03T15:33:55.433831Z",
     "start_time": "2025-05-03T15:33:55.369167Z"
    }
   },
   "cell_type": "code",
   "source": [
    "# get al lthe col indices\n",
    "rip_node.X_cols"
   ],
   "id": "d29843d0b3226123",
   "outputs": [
    {
     "ename": "NameError",
     "evalue": "name 'rip_node' is not defined",
     "output_type": "error",
     "traceback": [
      "\u001B[0;31m---------------------------------------------------------------------------\u001B[0m",
      "\u001B[0;31mNameError\u001B[0m                                 Traceback (most recent call last)",
      "Cell \u001B[0;32mIn[5], line 2\u001B[0m\n\u001B[1;32m      1\u001B[0m \u001B[38;5;66;03m# get al lthe col indices\u001B[39;00m\n\u001B[0;32m----> 2\u001B[0m \u001B[43mrip_node\u001B[49m\u001B[38;5;241m.\u001B[39mX_cols\n",
      "\u001B[0;31mNameError\u001B[0m: name 'rip_node' is not defined"
     ]
    }
   ],
   "execution_count": 5
  },
  {
   "metadata": {
    "ExecuteTime": {
     "end_time": "2025-05-03T15:08:26.462304Z",
     "start_time": "2025-05-03T15:08:26.458894Z"
    }
   },
   "cell_type": "code",
   "source": [
    "import numpy as np\n",
    "\n",
    "# rip_node is your RipperNode instance\n",
    "ripper = rip_node.ripper\n",
    "\n",
    "print(\"RULES:\")\n",
    "for i, rule in enumerate(ripper.ruleset_):\n",
    "    # rule.class_ns_ == [#covered class 0, #covered class 1]\n",
    "    cls = int(np.argmax(rule.class_ns_))\n",
    "    print(f\"RULE {i}: IF {rule} THEN y={cls}\")\n",
    "\n",
    "# ➡️ Use smoothed_uncovered_class_freqs_ for the real fallback\n",
    "smoothed = ripper.ruleset_.smoothed_uncovered_class_freqs_\n",
    "default_cls = int(np.argmax(smoothed))\n",
    "print(f\"DEFAULT: y={default_cls}\")"
   ],
   "id": "8247e503d2bb47c7",
   "outputs": [
    {
     "name": "stdout",
     "output_type": "stream",
     "text": [
      "RULES:\n",
      "RULE 0: IF [bit5=False^bit2=False^bit4=False^bit0=False^bit3=False^bit1=False] THEN y=1\n",
      "DEFAULT: y=1\n"
     ]
    }
   ],
   "execution_count": 29
  },
  {
   "metadata": {
    "ExecuteTime": {
     "end_time": "2025-05-03T15:12:23.932070Z",
     "start_time": "2025-05-03T15:12:23.928532Z"
    }
   },
   "cell_type": "code",
   "source": "rip_node.ripper.ruleset_.uncovered_class_ns_",
   "id": "21f27aea46adbce0",
   "outputs": [
    {
     "data": {
      "text/plain": [
       "(3354, 4513)"
      ]
     },
     "execution_count": 36,
     "metadata": {},
     "output_type": "execute_result"
    }
   ],
   "execution_count": 36
  },
  {
   "metadata": {
    "ExecuteTime": {
     "end_time": "2025-05-03T15:02:51.290849Z",
     "start_time": "2025-05-03T15:02:51.284228Z"
    }
   },
   "cell_type": "code",
   "source": [
    "import numpy as np\n",
    "import pandas as pd\n",
    "from architecture.utils import truth_table_patterns, truth_table_indices\n",
    "\n",
    "# 1) Unpack\n",
    "node   = rip_node\n",
    "ripper = node.ripper\n",
    "pred_node = node.pred_node\n",
    "\n",
    "# 2) Determine bit-width and full input dim\n",
    "n_bits = int(np.log2(pred_node.size))\n",
    "D      = int(node.X_cols.max()) + 1\n",
    "\n",
    "# 3) Generate all bit patterns for the node’s inputs\n",
    "patterns = truth_table_patterns(n_bits)             # shape (2**n_bits, n_bits)\n",
    "\n",
    "# 4) Build full-width X so node.__call__ works\n",
    "X_full = np.zeros((len(patterns), D), dtype=bool)\n",
    "X_full[:, node.X_cols] = patterns\n",
    "\n",
    "# 5) Predict via precomputed lookup\n",
    "pred_via_node = node(X_full)                        # uses pred_node internally\n",
    "\n",
    "# 6) Predict via live RIPPER.predict\n",
    "names = [f\"bit{i}\" for i in range(n_bits)]\n",
    "df = pd.DataFrame(patterns, columns=names).astype(bool)\n",
    "raw_preds = ripper.predict(df)\n",
    "pred_via_predict = np.asarray(raw_preds, dtype=bool)\n",
    "\n",
    "# 7) Compare\n",
    "equal = np.array_equal(pred_via_predict, pred_via_node)\n",
    "print(\"Consistency between ripper.predict and pred_node:\", equal)\n",
    "if not equal:\n",
    "    diffs = np.where(pred_via_predict != pred_via_node)[0]\n",
    "    print(\"First few mismatches:\")\n",
    "    for i in diffs[:5]:\n",
    "        print(f\" idx {i}: pattern={patterns[i]}, predict={pred_via_predict[i]}, lookup={pred_via_node[i]}\")\n"
   ],
   "id": "c816b1388ea11e39",
   "outputs": [
    {
     "name": "stdout",
     "output_type": "stream",
     "text": [
      "Consistency between ripper.predict and pred_node: True\n"
     ]
    }
   ],
   "execution_count": 23
  },
  {
   "metadata": {
    "ExecuteTime": {
     "end_time": "2025-05-03T15:04:48.860618Z",
     "start_time": "2025-05-03T15:04:48.852332Z"
    }
   },
   "cell_type": "code",
   "source": [
    "import numpy as np\n",
    "import pandas as pd\n",
    "from architecture.utils import truth_table_patterns\n",
    "\n",
    "# rip_node is your RipperNode instance\n",
    "ripper    = rip_node.ripper\n",
    "pred_node = rip_node.pred_node\n",
    "\n",
    "# 1) regenerate all patterns\n",
    "n_bits   = int(np.log2(pred_node.size))\n",
    "patterns = truth_table_patterns(n_bits)  # shape (2**n_bits, n_bits)\n",
    "\n",
    "print(\"Checking each rule against pred_node…\")\n",
    "for i, rule in enumerate(ripper.ruleset_):\n",
    "    # predict‐by‐counts\n",
    "    cls = int(np.argmax(rule.class_ns_))\n",
    "\n",
    "    # parse \"[bit5=False^bit2=False…]\" → list of \"bitX=Y\"\n",
    "    conds = str(rule).strip(\"[]\").split(\"^\")\n",
    "\n",
    "    # build mask: start all‐True, AND each condition\n",
    "    mask = np.ones(len(patterns), dtype=bool)\n",
    "    for clause in conds:\n",
    "        name, val = clause.split(\"=\")\n",
    "        bit = int(name.replace(\"bit\", \"\"))\n",
    "        mask &= (patterns[:, bit] == (val == \"True\"))\n",
    "\n",
    "    # now verify pred_node[mask] == cls\n",
    "    if not np.all(pred_node[mask] == cls):\n",
    "        bad = np.where(pred_node[mask] != cls)[0]\n",
    "        print(f\"❌ Rule {i} mismatch at local indices {bad[:5]} (predicted {cls})\")\n",
    "    else:\n",
    "        print(f\"✅ Rule {i} OK (predicts {cls}, covers {mask.sum()} patterns)\")\n",
    "\n",
    "# 2) check default: uncovered patterns\n",
    "covered = np.zeros(len(patterns), dtype=bool)\n",
    "for rule in ripper.ruleset_:\n",
    "    conds = str(rule).strip(\"[]\").split(\"^\")\n",
    "    tmp = np.ones(len(patterns), dtype=bool)\n",
    "    for clause in conds:\n",
    "        name, val = clause.split(\"=\")\n",
    "        bit = int(name.replace(\"bit\", \"\"))\n",
    "        tmp &= (patterns[:, bit] == (val == \"True\"))\n",
    "    covered |= tmp\n",
    "\n",
    "uncovered = ~covered\n",
    "default = int(np.argmax(ripper.ruleset_.smoothed_uncovered_class_freqs_))\n",
    "if not np.all(pred_node[uncovered] == default):\n",
    "    bad = np.where(pred_node[uncovered] != default)[0]\n",
    "    print(f\"❌ Default mismatch at indices {bad[:5]}\")\n",
    "else:\n",
    "    print(f\"✅ Default OK (predicts {default}, covers {uncovered.sum()} patterns)\")\n"
   ],
   "id": "1a38cc4372a4664b",
   "outputs": [
    {
     "name": "stdout",
     "output_type": "stream",
     "text": [
      "Checking each rule against pred_node…\n",
      "✅ Rule 0 OK (predicts 1, covers 1 patterns)\n",
      "❌ Default mismatch at indices [0 1 2 3 4]\n"
     ]
    }
   ],
   "execution_count": 26
  },
  {
   "metadata": {
    "ExecuteTime": {
     "end_time": "2025-05-03T15:06:00.075764Z",
     "start_time": "2025-05-03T15:06:00.067272Z"
    }
   },
   "cell_type": "code",
   "source": [
    "import numpy as np\n",
    "import pandas as pd\n",
    "from architecture.utils import truth_table_patterns\n",
    "\n",
    "# 1) Grab your objects\n",
    "node      = rip_node\n",
    "ripper    = node.ripper\n",
    "pred_node = node.pred_node\n",
    "\n",
    "# 2) Figure out how many bits this node handles\n",
    "n_bits = int(np.log2(pred_node.size))\n",
    "\n",
    "# 3) Create the full truth table\n",
    "patterns = truth_table_patterns(n_bits)        # shape (2**n_bits, n_bits)\n",
    "names    = [f\"bit{i}\" for i in range(n_bits)]\n",
    "df       = pd.DataFrame(patterns, columns=names).astype(bool)\n",
    "\n",
    "# 4) Ask RIPPER directly\n",
    "raw_preds       = ripper.predict(df)\n",
    "pred_via_predict = np.asarray(raw_preds, dtype=bool)\n",
    "\n",
    "# 5) Compare to your stored lookup\n",
    "ok = np.array_equal(pred_via_predict, pred_node)\n",
    "print(\"Ruleset ↔ pred_node consistent?\", ok)\n",
    "\n",
    "if not ok:\n",
    "    diff = np.where(pred_via_predict != pred_node)[0]\n",
    "    print(\"First mismatches at indices:\", diff[:5])\n",
    "    for i in diff[:5]:\n",
    "        print(f\" pattern {patterns[i]} → ripper.predict: {pred_via_predict[i]}, lookup: {pred_node[i]}\")\n"
   ],
   "id": "a01e8ca62968f3a2",
   "outputs": [
    {
     "name": "stdout",
     "output_type": "stream",
     "text": [
      "Ruleset ↔ pred_node consistent? True\n"
     ]
    }
   ],
   "execution_count": 27
  },
  {
   "metadata": {},
   "cell_type": "code",
   "outputs": [],
   "execution_count": null,
   "source": "",
   "id": "2eb2e7eb96047d65"
  }
 ],
 "metadata": {
  "kernelspec": {
   "display_name": "Python 3",
   "language": "python",
   "name": "python3"
  },
  "language_info": {
   "codemirror_mode": {
    "name": "ipython",
    "version": 2
   },
   "file_extension": ".py",
   "mimetype": "text/x-python",
   "name": "python",
   "nbconvert_exporter": "python",
   "pygments_lexer": "ipython2",
   "version": "2.7.6"
  }
 },
 "nbformat": 4,
 "nbformat_minor": 5
}
