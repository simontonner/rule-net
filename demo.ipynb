{
 "cells": [
  {
   "cell_type": "code",
   "id": "initial_id",
   "metadata": {
    "collapsed": true,
    "ExecuteTime": {
     "end_time": "2025-09-14T21:51:55.764389Z",
     "start_time": "2025-09-14T21:51:54.545910Z"
    }
   },
   "source": [
    "import pandas as pd\n",
    "from sklearn.model_selection import train_test_split\n",
    "from sklearn.metrics import accuracy_score\n",
    "\n",
    "from architecture.classifier import DeepBinaryClassifier\n",
    "from architecture.nodes.ripper import make_ripper_node\n",
    "from architecture.nodes.lut import make_lut_node\n",
    "\n",
    "\n",
    "df   = pd.read_csv(\"./data/100_bit_artificial/1a.csv\")\n",
    "X = df.drop(columns=\"class\").to_numpy(bool)\n",
    "y = df[\"class\"].to_numpy(bool)\n",
    "\n",
    "X_train, X_test, y_train, y_test = train_test_split(X, y, test_size=0.2, random_state=42, stratify=y)\n",
    "\n",
    "config = dict(layer_node_counts=[32]*5 + [1], layer_bit_counts=[6]*6, seed=42)"
   ],
   "outputs": [],
   "execution_count": 1
  },
  {
   "metadata": {
    "ExecuteTime": {
     "end_time": "2025-09-14T21:52:00.990781Z",
     "start_time": "2025-09-14T21:52:00.939951Z"
    }
   },
   "cell_type": "code",
   "source": [
    "# the LUT network runs faster on a single thread\n",
    "\n",
    "lut_net = DeepBinaryClassifier(**config, node_factory=make_lut_node, jobs=1)\n",
    "%time lut_net.fit(X_train, y_train)\n",
    "pred_test = lut_net.predict(X_test)\n",
    "acc_lut = accuracy_score(y_test, pred_test)\n",
    "print(f\"LUT network accuracy: {acc_lut:.4f}\")"
   ],
   "id": "9678c87d2c5a9c8f",
   "outputs": [
    {
     "name": "stdout",
     "output_type": "stream",
     "text": [
      "CPU times: user 38.6 ms, sys: 5.02 ms, total: 43.7 ms\n",
      "Wall time: 42.7 ms\n",
      "LUT network accuracy: 0.7315\n"
     ]
    }
   ],
   "execution_count": 3
  },
  {
   "metadata": {
    "ExecuteTime": {
     "end_time": "2025-09-14T21:55:34.300850Z",
     "start_time": "2025-09-14T21:55:00.477223Z"
    }
   },
   "cell_type": "code",
   "source": [
    "# the Ripper nodes profit from parallelization\n",
    "\n",
    "rip_net = DeepBinaryClassifier(**config, node_factory=make_ripper_node, jobs=8)\n",
    "%time rip_net.fit(X_train, y_train)\n",
    "pred_test = rip_net.predict(X_test)\n",
    "acc_rip = accuracy_score(y_test, pred_test)\n",
    "print(f\"Rule network accuracy: {acc_rip:.4f}\")"
   ],
   "id": "b38a57099f0833d1",
   "outputs": [
    {
     "name": "stdout",
     "output_type": "stream",
     "text": [
      "CPU times: user 334 ms, sys: 243 ms, total: 577 ms\n",
      "Wall time: 33.8 s\n",
      "Rule network accuracy: 0.8825\n"
     ]
    }
   ],
   "execution_count": 10
  },
  {
   "metadata": {
    "ExecuteTime": {
     "end_time": "2025-09-14T21:55:48.208995Z",
     "start_time": "2025-09-14T21:55:48.206593Z"
    }
   },
   "cell_type": "code",
   "source": [
    "rip_node = rip_net.layers[4][5]\n",
    "rip_node_rule = rip_node.get_expression()\n",
    "print(rip_node_rule)"
   ],
   "id": "e3e5fc0553383a58",
   "outputs": [
    {
     "name": "stdout",
     "output_type": "stream",
     "text": [
      "L4N12 | L4N18 | (L4N0 & L4N15) | (L4N15 & L4N17) | (L4N0 & L4N15 & L4N18) | (L4N12 & L4N15 & L4N17) | (L4N0 & L4N15 & L4N18 & ~L4N12)\n"
     ]
    }
   ],
   "execution_count": 13
  },
  {
   "metadata": {
    "ExecuteTime": {
     "end_time": "2025-09-14T21:55:55.286Z",
     "start_time": "2025-09-14T21:55:55.282976Z"
    }
   },
   "cell_type": "code",
   "source": [
    "# RIPPER may save on some nodes\n",
    "rip_node = rip_net.layers[4][5]\n",
    "lut_node = lut_net.layers[4][5]\n",
    "\n",
    "print(f\"RIPPER node uses following columns: {rip_node.input_names}\")\n",
    "print(f\"LUT node uses following columns: {lut_node.input_names}\")"
   ],
   "id": "2eb2e7eb96047d65",
   "outputs": [
    {
     "name": "stdout",
     "output_type": "stream",
     "text": [
      "RIPPER node uses following columns: ['L4N0', 'L4N12', 'L4N15', 'L4N17', 'L4N18']\n",
      "LUT node uses following columns: ['L4N0', 'L4N12', 'L4N15', 'L4N17', 'L4N18', 'L4N28']\n"
     ]
    }
   ],
   "execution_count": 14
  }
 ],
 "metadata": {
  "kernelspec": {
   "display_name": "Python 3",
   "language": "python",
   "name": "python3"
  },
  "language_info": {
   "codemirror_mode": {
    "name": "ipython",
    "version": 2
   },
   "file_extension": ".py",
   "mimetype": "text/x-python",
   "name": "python",
   "nbconvert_exporter": "python",
   "pygments_lexer": "ipython2",
   "version": "2.7.6"
  }
 },
 "nbformat": 4,
 "nbformat_minor": 5
}
