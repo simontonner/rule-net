{
 "cells": [
  {
   "cell_type": "code",
   "id": "initial_id",
   "metadata": {
    "collapsed": true,
    "ExecuteTime": {
     "end_time": "2025-09-02T17:46:18.407822Z",
     "start_time": "2025-09-02T17:46:17.274923Z"
    }
   },
   "source": [
    "import pandas as pd\n",
    "from sklearn.model_selection import train_test_split\n",
    "from sklearn.metrics import accuracy_score\n",
    "\n",
    "from architecture.deep_binary_classifier import DeepBinaryClassifier\n",
    "from architecture.ripper_node import make_ripper_node\n",
    "from architecture.lut_node import make_lut_node\n",
    "\n",
    "\n",
    "df   = pd.read_csv(\"./data/100_bit_artificial/1a.csv\")\n",
    "X = df.drop(columns=\"class\").to_numpy(bool)\n",
    "y = df[\"class\"].to_numpy(bool)\n",
    "\n",
    "X_train, X_test, y_train, y_test = train_test_split(X, y, test_size=0.2, random_state=42, stratify=y)\n",
    "\n",
    "config = dict(layer_node_counts=[32]*5 + [1], layer_bit_counts=[6]*6, seed=42)"
   ],
   "outputs": [],
   "execution_count": 1
  },
  {
   "metadata": {
    "ExecuteTime": {
     "end_time": "2025-09-02T17:46:38.371340Z",
     "start_time": "2025-09-02T17:46:38.322626Z"
    }
   },
   "cell_type": "code",
   "source": [
    "# the LUT network runs faster on a single thread\n",
    "\n",
    "lut_net = DeepBinaryClassifier(**config, node_factory=make_lut_node, jobs=1)\n",
    "%time lut_net.fit(X_train, y_train)\n",
    "pred_test = lut_net.predict(X_test)\n",
    "acc_lut = accuracy_score(y_test, pred_test)\n",
    "print(f\"LUT network accuracy: {acc_lut:.4f}\")"
   ],
   "id": "9678c87d2c5a9c8f",
   "outputs": [
    {
     "name": "stdout",
     "output_type": "stream",
     "text": [
      "CPU times: user 37 ms, sys: 3.82 ms, total: 40.9 ms\n",
      "Wall time: 40.7 ms\n",
      "LUT network accuracy: 0.7355\n"
     ]
    }
   ],
   "execution_count": 2
  },
  {
   "metadata": {
    "ExecuteTime": {
     "end_time": "2025-09-02T17:47:22.928820Z",
     "start_time": "2025-09-02T17:46:53.603680Z"
    }
   },
   "cell_type": "code",
   "source": [
    "# the Ripper nodes profit from parallelization\n",
    "\n",
    "rip_net = DeepBinaryClassifier(**config, node_factory=make_ripper_node, jobs=8)\n",
    "%time rip_net.fit(X_train, y_train)\n",
    "pred_test = rip_net.predict(X_test)\n",
    "acc_rip = accuracy_score(y_test, pred_test)\n",
    "print(f\"Rule network accuracy: {acc_rip:.4f}\")"
   ],
   "id": "b38a57099f0833d1",
   "outputs": [
    {
     "name": "stdout",
     "output_type": "stream",
     "text": [
      "CPU times: user 159 ms, sys: 229 ms, total: 387 ms\n",
      "Wall time: 29.3 s\n",
      "Rule network accuracy: 0.8830\n"
     ]
    }
   ],
   "execution_count": 3
  },
  {
   "metadata": {
    "ExecuteTime": {
     "end_time": "2025-09-02T17:47:46.499042Z",
     "start_time": "2025-09-02T17:47:46.495880Z"
    }
   },
   "cell_type": "code",
   "source": [
    "rip_node = rip_net.layers[4][31]\n",
    "rip_node_rule = rip_node.get_ruleset(disjunction_str=' V\\n')\n",
    "print(rip_node_rule)"
   ],
   "id": "e3e5fc0553383a58",
   "outputs": [
    {
     "name": "stdout",
     "output_type": "stream",
     "text": [
      "[x_24=True^x_10=True^x_28=False] V\n",
      "[x_24=True^x_25=True^x_28=True^x_10=False] V\n",
      "[x_24=True^x_28=True] V\n",
      "[x_24=True^x_25=True] V\n",
      "[x_24=True] V\n",
      "[x_2=True]\n"
     ]
    }
   ],
   "execution_count": 4
  },
  {
   "metadata": {
    "ExecuteTime": {
     "end_time": "2025-09-02T17:48:17.114899Z",
     "start_time": "2025-09-02T17:48:17.111287Z"
    }
   },
   "cell_type": "code",
   "source": [
    "# RIPPER may save on some nodes\n",
    "rip_node = rip_net.layers[4][31]\n",
    "lut_node = lut_net.layers[4][31]\n",
    "\n",
    "print(f\"RIPPER node uses following columns: {rip_node.X_cols}\")\n",
    "print(f\"LUT node uses following columns: {lut_node.X_cols}\")"
   ],
   "id": "2eb2e7eb96047d65",
   "outputs": [
    {
     "name": "stdout",
     "output_type": "stream",
     "text": [
      "RIPPER node uses following columns: [24 10 28 25  2]\n",
      "LUT node uses following columns: [25 28 10 24  2  0]\n"
     ]
    }
   ],
   "execution_count": 5
  }
 ],
 "metadata": {
  "kernelspec": {
   "display_name": "Python 3",
   "language": "python",
   "name": "python3"
  },
  "language_info": {
   "codemirror_mode": {
    "name": "ipython",
    "version": 2
   },
   "file_extension": ".py",
   "mimetype": "text/x-python",
   "name": "python",
   "nbconvert_exporter": "python",
   "pygments_lexer": "ipython2",
   "version": "2.7.6"
  }
 },
 "nbformat": 4,
 "nbformat_minor": 5
}
