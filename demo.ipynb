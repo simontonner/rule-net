{
 "cells": [
  {
   "cell_type": "code",
   "id": "initial_id",
   "metadata": {
    "collapsed": true,
    "ExecuteTime": {
     "end_time": "2025-05-02T22:11:33.928151Z",
     "start_time": "2025-05-02T22:11:33.315495Z"
    }
   },
   "source": [
    "import pandas as pd\n",
    "from sklearn.model_selection import train_test_split\n",
    "from sklearn.metrics import accuracy_score\n",
    "\n",
    "from architecture.deep_binary_classifier import DeepBinaryClassifier\n",
    "from architecture.ripper_node import make_ripper_node\n",
    "from architecture.lut_node import make_lut_node\n",
    "\n",
    "\n",
    "df   = pd.read_csv(\"./data/100_bit_artificial/1a.csv\")\n",
    "X = df.drop(columns=\"class\").to_numpy(bool)\n",
    "y = df[\"class\"].to_numpy(bool)\n",
    "\n",
    "X_train, X_test, y_train, y_test = train_test_split(X, y, test_size=0.2, random_state=42, stratify=y)\n",
    "\n",
    "config = dict(nodes_per_layer=[32]*5, bits_per_node=[6]*6, rng=42)"
   ],
   "outputs": [],
   "execution_count": 1
  },
  {
   "metadata": {
    "ExecuteTime": {
     "end_time": "2025-05-02T22:11:34.731281Z",
     "start_time": "2025-05-02T22:11:34.675271Z"
    }
   },
   "cell_type": "code",
   "source": [
    "# the LUT network runs faster on a single thread\n",
    "\n",
    "lut_net = DeepBinaryClassifier(**config, node_factory=make_lut_node, n_jobs=1)\n",
    "%time lut_net.fit(X_train, y_train)\n",
    "pred_test = lut_net.predict(X_test)\n",
    "acc_lut = accuracy_score(y_test, pred_test)\n",
    "print(f\"LUT network  accuracy: {acc_lut:.4f}\")"
   ],
   "id": "9678c87d2c5a9c8f",
   "outputs": [
    {
     "name": "stdout",
     "output_type": "stream",
     "text": [
      "CPU times: user 43.9 ms, sys: 3.44 ms, total: 47.3 ms\n",
      "Wall time: 46.6 ms\n",
      "LUT network  accuracy: 0.7490\n"
     ]
    }
   ],
   "execution_count": 2
  },
  {
   "metadata": {
    "ExecuteTime": {
     "end_time": "2025-05-02T22:12:02.365503Z",
     "start_time": "2025-05-02T22:11:35.736785Z"
    }
   },
   "cell_type": "code",
   "source": [
    "# the Ripper nodes profit from parallelization\n",
    "\n",
    "rip_net = DeepBinaryClassifier(**config, node_factory=make_ripper_node, n_jobs=8)\n",
    "%time rip_net.fit(X_train, y_train)\n",
    "pred_test = rip_net.predict(X_test)\n",
    "acc_rip = accuracy_score(y_test, pred_test)\n",
    "print(f\"Rule network accuracy: {acc_rip:.4f}\")"
   ],
   "id": "b38a57099f0833d1",
   "outputs": [
    {
     "name": "stdout",
     "output_type": "stream",
     "text": [
      "CPU times: user 137 ms, sys: 221 ms, total: 357 ms\n",
      "Wall time: 26.6 s\n",
      "Rule network accuracy: 0.8410\n"
     ]
    }
   ],
   "execution_count": 3
  },
  {
   "metadata": {},
   "cell_type": "code",
   "outputs": [],
   "execution_count": null,
   "source": "",
   "id": "e3e5fc0553383a58"
  }
 ],
 "metadata": {
  "kernelspec": {
   "display_name": "Python 3",
   "language": "python",
   "name": "python3"
  },
  "language_info": {
   "codemirror_mode": {
    "name": "ipython",
    "version": 2
   },
   "file_extension": ".py",
   "mimetype": "text/x-python",
   "name": "python",
   "nbconvert_exporter": "python",
   "pygments_lexer": "ipython2",
   "version": "2.7.6"
  }
 },
 "nbformat": 4,
 "nbformat_minor": 5
}
