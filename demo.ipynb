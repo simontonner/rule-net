{
 "cells": [
  {
   "cell_type": "code",
   "id": "initial_id",
   "metadata": {
    "collapsed": true,
    "ExecuteTime": {
     "end_time": "2025-05-01T23:33:02.949834Z",
     "start_time": "2025-05-01T23:33:02.866763Z"
    }
   },
   "source": [
    "from architecture.deep_binary_classifier import DeepBinaryClassifier\n",
    "from architecture.ripper_node           import make_ripper_node\n",
    "from architecture.lut_node              import make_lut_node\n",
    "\n",
    "from sklearn.model_selection                import train_test_split\n",
    "from sklearn.metrics                        import accuracy_score\n",
    "\n",
    "import pandas as pd\n",
    "import numpy as np\n",
    "\n",
    "\n",
    "df   = pd.read_csv(\"./data/100_bit_artificial/1a.csv\")\n",
    "X,y  = df.drop(columns=\"class\").to_numpy(bool), df[\"class\"].to_numpy(bool)\n",
    "Xtr,Xte,Ytr,Yte = train_test_split(X,y,test_size=0.2,random_state=1,stratify=y)"
   ],
   "outputs": [],
   "execution_count": 5
  },
  {
   "metadata": {
    "ExecuteTime": {
     "end_time": "2025-05-01T23:33:04.983267Z",
     "start_time": "2025-05-01T23:33:04.980719Z"
    }
   },
   "cell_type": "code",
   "source": "config = dict(nodes_per_layer=[32]*5, bits_per_node=[6]*6, rng=42, reuse_prev_width=True)",
   "id": "f2d52398763c2523",
   "outputs": [],
   "execution_count": 6
  },
  {
   "metadata": {
    "ExecuteTime": {
     "end_time": "2025-05-01T23:32:24.092757Z",
     "start_time": "2025-05-01T23:32:23.743621Z"
    }
   },
   "cell_type": "code",
   "source": [
    "# the LUT network runs faster on a single thread\n",
    "\n",
    "lut_net = DeepBinaryClassifier(**config, node_factory=make_lut_node, n_jobs=1)\n",
    "%time lut_net.fit(Xtr, Ytr)\n",
    "acc_lut = accuracy_score(Yte, lut_net.predict(Xte))\n",
    "print(f\"LUT network  accuracy: {acc_lut:.4f}\")"
   ],
   "id": "9678c87d2c5a9c8f",
   "outputs": [
    {
     "name": "stdout",
     "output_type": "stream",
     "text": [
      "CPU times: user 88.8 ms, sys: 46.9 ms, total: 136 ms\n",
      "Wall time: 339 ms\n",
      "LUT network  accuracy: 0.7275\n"
     ]
    }
   ],
   "execution_count": 3
  },
  {
   "metadata": {
    "ExecuteTime": {
     "end_time": "2025-05-01T23:33:38.057380Z",
     "start_time": "2025-05-01T23:33:07.931218Z"
    }
   },
   "cell_type": "code",
   "source": [
    "# the Ripper nodes profit from parallelization\n",
    "\n",
    "rip_net = DeepBinaryClassifier(**config, node_factory=make_ripper_node, n_jobs=16, extra_node_kw={\"ripper_kwargs\": {\"k\": 2}})\n",
    "%time rip_net.fit(Xtr, Ytr)\n",
    "acc_rip = accuracy_score(Yte, rip_net.predict(Xte))\n",
    "print(f\"Rule network accuracy: {acc_rip:.4f}\")"
   ],
   "id": "b38a57099f0833d1",
   "outputs": [
    {
     "name": "stdout",
     "output_type": "stream",
     "text": [
      "CPU times: user 458 ms, sys: 131 ms, total: 589 ms\n",
      "Wall time: 30.1 s\n",
      "Rule network accuracy: 0.8200\n"
     ]
    }
   ],
   "execution_count": 7
  },
  {
   "metadata": {},
   "cell_type": "code",
   "outputs": [],
   "execution_count": null,
   "source": "",
   "id": "a989ba4fa8cdef98"
  }
 ],
 "metadata": {
  "kernelspec": {
   "display_name": "Python 3",
   "language": "python",
   "name": "python3"
  },
  "language_info": {
   "codemirror_mode": {
    "name": "ipython",
    "version": 2
   },
   "file_extension": ".py",
   "mimetype": "text/x-python",
   "name": "python",
   "nbconvert_exporter": "python",
   "pygments_lexer": "ipython2",
   "version": "2.7.6"
  }
 },
 "nbformat": 4,
 "nbformat_minor": 5
}
