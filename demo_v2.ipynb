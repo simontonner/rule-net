{
 "cells": [
  {
   "cell_type": "code",
   "id": "3361b56824cbfb21",
   "metadata": {
    "ExecuteTime": {
     "end_time": "2025-05-01T20:41:25.119989Z",
     "start_time": "2025-05-01T20:41:24.351212Z"
    }
   },
   "source": [
    "# NEW NOTEBOOK (Corrected)\n",
    "from architecture_v2.deep_binary_classifier import DeepBinaryClassifier\n",
    "from architecture_v2.ripper_node            import make_ripper_node\n",
    "from architecture_v2.lut_node import make_lut_node\n",
    "from sklearn.model_selection             import train_test_split\n",
    "from sklearn.metrics                     import accuracy_score\n",
    "import pandas as pd, numpy as np\n",
    "\n",
    "df   = pd.read_csv(\"./data/100_bit_artificial/1a.csv\")\n",
    "X,y  = df.drop(columns=\"class\").to_numpy(bool), df[\"class\"].to_numpy(bool)\n",
    "Xtr,Xte,Ytr,Yte = train_test_split(X,y,test_size=0.2,random_state=1,stratify=y)"
   ],
   "outputs": [],
   "execution_count": 1
  },
  {
   "metadata": {
    "collapsed": true,
    "ExecuteTime": {
     "end_time": "2025-05-01T20:40:33.064311Z",
     "start_time": "2025-05-01T20:40:33.002225Z"
    }
   },
   "cell_type": "code",
   "source": [
    "net = DeepBinaryClassifier(\n",
    "    nodes_per_layer=[32]*5,\n",
    "    bits_per_node  =[6]*6,\n",
    "    node_factory   =make_lut_node,\n",
    "    tie_break      =\"random\",\n",
    "    reuse_prev_width=True,   # ← *** FIX: Match OLD code's input scope ***\n",
    "    rng=42\n",
    ")\n",
    "net.fit(Xtr, Ytr)\n",
    "print(\"test acc:\", accuracy_score(Yte, net.predict(Xte)))"
   ],
   "id": "initial_id",
   "outputs": [
    {
     "name": "stdout",
     "output_type": "stream",
     "text": [
      "test acc: 0.73\n"
     ]
    }
   ],
   "execution_count": 5
  },
  {
   "metadata": {
    "ExecuteTime": {
     "end_time": "2025-05-01T20:41:44.537337Z",
     "start_time": "2025-05-01T20:41:40.334101Z"
    }
   },
   "cell_type": "code",
   "source": [
    "from architecture_v2.old_code_rng import *\n",
    "\n",
    "# simple test whether it works\n",
    "\n",
    "lut_bits = 6\n",
    "num_layers = 5\n",
    "\n",
    "ripper_net = RipperLut(bits=[lut_bits] * (num_layers + 1), hidden_layers=[32] * num_layers, verbose=True, mode='lut', seed=42)\n",
    "preds_train = ripper_net.train(Xtr, Ytr)\n",
    "preds_test = ripper_net.predict(Xte)\n",
    "print(f\"Accuracy on training set: {accuracy_score(preds_train, Ytr):.2f}\")\n",
    "print(f\"Accuracy on test set: {accuracy_score(preds_test, Yte):.2f}\")"
   ],
   "id": "7517ef1efbbbff17",
   "outputs": [
    {
     "name": "stderr",
     "output_type": "stream",
     "text": [
      "100%|██████████| 5/5 [00:02<00:00,  2.12it/s]\n"
     ]
    },
    {
     "name": "stdout",
     "output_type": "stream",
     "text": [
      "Accuracy on training set: 0.78\n",
      "Accuracy on test set: 0.73\n"
     ]
    }
   ],
   "execution_count": 3
  }
 ],
 "metadata": {
  "kernelspec": {
   "display_name": "Python 3",
   "language": "python",
   "name": "python3"
  },
  "language_info": {
   "codemirror_mode": {
    "name": "ipython",
    "version": 2
   },
   "file_extension": ".py",
   "mimetype": "text/x-python",
   "name": "python",
   "nbconvert_exporter": "python",
   "pygments_lexer": "ipython2",
   "version": "2.7.6"
  }
 },
 "nbformat": 4,
 "nbformat_minor": 5
}
