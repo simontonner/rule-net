{
 "cells": [
  {
   "cell_type": "code",
   "id": "initial_id",
   "metadata": {
    "collapsed": true,
    "ExecuteTime": {
     "end_time": "2025-09-18T21:27:22.168063Z",
     "start_time": "2025-09-18T21:27:21.724067Z"
    }
   },
   "source": [
    "import numpy as np\n",
    "import pandas as pd\n",
    "\n",
    "import wittgenstein as lw\n",
    "\n",
    "from architecture.classifier import DeepBinaryClassifier\n",
    "from architecture.nodes.ripper import make_ripper_node"
   ],
   "outputs": [],
   "execution_count": 1
  },
  {
   "metadata": {
    "ExecuteTime": {
     "end_time": "2025-09-18T21:27:23.396962Z",
     "start_time": "2025-09-18T21:27:23.295346Z"
    }
   },
   "cell_type": "code",
   "source": [
    "train_df = pd.read_csv(\"./data/mnist/mnist_train.csv\")\n",
    "test_df = pd.read_csv(\"./data/mnist/mnist_test.csv\")\n",
    "column_names = train_df.drop(columns=\"label\").columns\n",
    "\n",
    "input_values_train = train_df.drop(columns=\"label\").to_numpy(bool)\n",
    "target_values_train = train_df[\"label\"].to_numpy(bool)\n",
    "\n",
    "input_values_test = test_df.drop(columns=\"label\").to_numpy(bool)\n",
    "target_values_test = test_df[\"label\"].to_numpy(bool)\n",
    "\n",
    "\n",
    "print(\"Dataset shapes:\")\n",
    "print(f\"TRAIN | input: {input_values_train.shape}, target: {target_values_train.shape}, pos. frac.: {target_values_train.mean():.3f}\")\n",
    "print(f\"TEST  | input: {input_values_test.shape}, target: {target_values_test.shape}, pos. frac.: {target_values_test.mean():.3f}\")"
   ],
   "id": "ecd155be475a5023",
   "outputs": [
    {
     "name": "stdout",
     "output_type": "stream",
     "text": [
      "Dataset shapes:\n",
      "TRAIN | input: (10000, 196), target: (10000,), pos. frac.: 0.486\n",
      "TEST  | input: (1500, 196), target: (1500,), pos. frac.: 0.497\n"
     ]
    }
   ],
   "execution_count": 2
  },
  {
   "metadata": {
    "ExecuteTime": {
     "end_time": "2025-09-18T21:28:07.707067Z",
     "start_time": "2025-09-18T21:27:25.134892Z"
    }
   },
   "cell_type": "code",
   "source": [
    "input_values_train_df = pd.DataFrame(input_values_train, columns=column_names)\n",
    "input_values_test_df  = pd.DataFrame(input_values_test, columns=column_names)\n",
    "target_values_train_df = pd.Series(target_values_train, name=\"class\")\n",
    "target_values_test_df  = pd.Series(target_values_test, name=\"class\")\n",
    "\n",
    "ripper = lw.RIPPER(random_state=42)\n",
    "%time ripper.fit(pd.concat([input_values_train_df, target_values_train_df], axis=1), class_feat=\"class\", pos_class=True)\n",
    "\n",
    "train_acc = ripper.score(input_values_train_df, target_values_train_df)\n",
    "test_acc  = ripper.score(input_values_test_df, target_values_test_df)\n",
    "\n",
    "print(f\"Test accuracy:     {test_acc:.3f}\")"
   ],
   "id": "b4149681155d7c5",
   "outputs": [
    {
     "name": "stdout",
     "output_type": "stream",
     "text": [
      "CPU times: user 41.8 s, sys: 449 ms, total: 42.2 s\n",
      "Wall time: 42.4 s\n",
      "Test accuracy:     0.887\n"
     ]
    }
   ],
   "execution_count": 3
  },
  {
   "metadata": {
    "ExecuteTime": {
     "end_time": "2025-09-18T21:32:00.754092Z",
     "start_time": "2025-09-18T21:28:13.054138Z"
    }
   },
   "cell_type": "code",
   "source": [
    "layer_node_counts = [32] * 4\n",
    "config = dict(layer_node_counts=layer_node_counts, layer_bit_counts=[16]*len(layer_node_counts), seed=42)\n",
    "\n",
    "net = DeepBinaryClassifier(**config, node_factory=make_ripper_node, jobs=8)\n",
    "%time net.fit(input_values_train, target_values_train)\n",
    "\n",
    "pred_values_test = net.predict(input_values_test)\n",
    "ref_values_test = np.broadcast_to(target_values_test[:, None], pred_values_test.shape)\n",
    "accuracies_test = (pred_values_test == ref_values_test).mean(axis=0)\n",
    "\n",
    "best_output_node_idx = int(np.argmax(accuracies_test))\n",
    "best_output_node_name = net.node_names[-1][best_output_node_idx]\n",
    "\n",
    "print(\"Best node:\", best_output_node_name, \"with accuracy\", accuracies_test[best_output_node_idx])"
   ],
   "id": "d7a10f2c5fab97f7",
   "outputs": [
    {
     "name": "stdout",
     "output_type": "stream",
     "text": [
      "CPU times: user 930 ms, sys: 247 ms, total: 1.18 s\n",
      "Wall time: 3min 47s\n",
      "Best node: L4N11 with accuracy 0.87\n"
     ]
    }
   ],
   "execution_count": 4
  }
 ],
 "metadata": {
  "kernelspec": {
   "display_name": "Python 3",
   "language": "python",
   "name": "python3"
  },
  "language_info": {
   "codemirror_mode": {
    "name": "ipython",
    "version": 2
   },
   "file_extension": ".py",
   "mimetype": "text/x-python",
   "name": "python",
   "nbconvert_exporter": "python",
   "pygments_lexer": "ipython2",
   "version": "2.7.6"
  }
 },
 "nbformat": 4,
 "nbformat_minor": 5
}
