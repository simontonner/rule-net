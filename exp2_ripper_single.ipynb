{
 "cells": [
  {
   "cell_type": "code",
   "id": "initial_id",
   "metadata": {
    "collapsed": true,
    "ExecuteTime": {
     "end_time": "2025-09-18T21:19:52.522939Z",
     "start_time": "2025-09-18T21:19:51.459323Z"
    }
   },
   "source": [
    "import numpy as np\n",
    "import pandas as pd\n",
    "\n",
    "import wittgenstein as lw\n",
    "from sympy import symbols, And, Or, Not, false, simplify_logic\n",
    "\n",
    "from sklearn.model_selection import train_test_split\n",
    "from sklearn.utils import resample\n",
    "\n",
    "from architecture.classifier import DeepBinaryClassifier\n",
    "from architecture.nodes.ripper import make_ripper_node"
   ],
   "outputs": [],
   "execution_count": 1
  },
  {
   "metadata": {
    "ExecuteTime": {
     "end_time": "2025-09-18T21:19:54.133053Z",
     "start_time": "2025-09-18T21:19:54.030313Z"
    }
   },
   "cell_type": "code",
   "source": [
    "train_df = pd.read_csv(\"./data/mnist/mnist_train.csv\")\n",
    "test_df = pd.read_csv(\"./data/mnist/mnist_test.csv\")\n",
    "column_names = train_df.drop(columns=\"label\").columns\n",
    "\n",
    "input_values_train = train_df.drop(columns=\"label\").to_numpy(bool)\n",
    "target_values_train = train_df[\"label\"].to_numpy(bool)\n",
    "\n",
    "input_values_test = test_df.drop(columns=\"label\").to_numpy(bool)\n",
    "target_values_test = test_df[\"label\"].to_numpy(bool)\n",
    "\n",
    "\n",
    "print(\"Dataset shapes:\")\n",
    "print(f\"TRAIN | input: {input_values_train.shape}, target: {target_values_train.shape}, pos. frac.: {target_values_train.mean():.3f}\")\n",
    "print(f\"TEST  | input: {input_values_test.shape}, target: {target_values_test.shape}, pos. frac.: {target_values_test.mean():.3f}\")"
   ],
   "id": "ecd155be475a5023",
   "outputs": [
    {
     "name": "stdout",
     "output_type": "stream",
     "text": [
      "Dataset shapes:\n",
      "TRAIN | input: (10000, 196), target: (10000,), pos. frac.: 0.486\n",
      "TEST  | input: (1500, 196), target: (1500,), pos. frac.: 0.497\n"
     ]
    }
   ],
   "execution_count": 2
  },
  {
   "metadata": {
    "ExecuteTime": {
     "end_time": "2025-09-18T20:11:35.531442Z",
     "start_time": "2025-09-18T20:11:35.465624Z"
    }
   },
   "cell_type": "code",
   "source": [
    "#dataset_df = pd.read_csv(\"./data/100_bit_artificial/1a.csv\")\n",
    "#input_values = dataset_df.drop(columns=\"class\").to_numpy(bool)\n",
    "#target_values = dataset_df[\"class\"].to_numpy(bool)\n",
    "#column_names = dataset_df.drop(columns=\"class\").columns\n",
    "#\n",
    "## balance\n",
    "#pos_idx = np.where(target_values == 1)[0]\n",
    "#neg_idx = np.where(target_values == 0)[0]\n",
    "#\n",
    "#num_samples = min(len(pos_idx), len(neg_idx))\n",
    "#\n",
    "#balanced_pos_idx = resample(pos_idx, n_samples=num_samples, replace=False, random_state=42)\n",
    "#balanced_neg_idx = resample(neg_idx, n_samples=num_samples, replace=False, random_state=42)\n",
    "#\n",
    "#balanced_idx = np.concatenate([balanced_pos_idx, balanced_neg_idx])\n",
    "#input_values, target_values = input_values[balanced_idx], target_values[balanced_idx]\n",
    "#\n",
    "## split\n",
    "#input_values_train, input_values_test, target_values_train, target_values_test \\\n",
    "#    = train_test_split(input_values, target_values, test_size=0.2, random_state=42, stratify=target_values)\n",
    "#\n",
    "#print(\"Dataset shapes:\")\n",
    "#print(f\"TRAIN | input: {input_values_train.shape}, target: {target_values_train.shape}, pos. frac.: {target_values_train.mean():.3f}\")\n",
    "#print(f\"TEST  | input: {input_values_test.shape}, target: {target_values_test.shape}, pos. frac.: {target_values_test.mean():.3f}\")"
   ],
   "id": "eb4ac45879447347",
   "outputs": [
    {
     "name": "stdout",
     "output_type": "stream",
     "text": [
      "Dataset shapes:\n",
      "TRAIN | input: (6790, 100), target: (6790,), pos. frac.: 0.500\n",
      "TEST  | input: (1698, 100), target: (1698,), pos. frac.: 0.500\n"
     ]
    }
   ],
   "execution_count": 10
  },
  {
   "metadata": {
    "ExecuteTime": {
     "end_time": "2025-09-18T21:20:42.054874Z",
     "start_time": "2025-09-18T21:19:58.387349Z"
    }
   },
   "cell_type": "code",
   "source": [
    "input_values_train_df = pd.DataFrame(input_values_train, columns=column_names)\n",
    "input_values_test_df  = pd.DataFrame(input_values_test, columns=column_names)\n",
    "target_values_train_df = pd.Series(target_values_train, name=\"class\")\n",
    "target_values_test_df  = pd.Series(target_values_test, name=\"class\")\n",
    "\n",
    "ripper = lw.RIPPER(random_state=42)\n",
    "%time ripper.fit(pd.concat([input_values_train_df, target_values_train_df], axis=1), class_feat=\"class\", pos_class=True)\n",
    "\n",
    "train_acc = ripper.score(input_values_train_df, target_values_train_df)\n",
    "test_acc  = ripper.score(input_values_test_df, target_values_test_df)\n",
    "\n",
    "print(f\"Test accuracy:     {test_acc:.3f}\")"
   ],
   "id": "b4149681155d7c5",
   "outputs": [
    {
     "name": "stdout",
     "output_type": "stream",
     "text": [
      "CPU times: user 42.1 s, sys: 533 ms, total: 42.6 s\n",
      "Wall time: 43.5 s\n",
      "Test accuracy:     0.887\n"
     ]
    }
   ],
   "execution_count": 3
  },
  {
   "metadata": {
    "ExecuteTime": {
     "end_time": "2025-09-18T21:22:33.333315Z",
     "start_time": "2025-09-18T21:22:33.286659Z"
    }
   },
   "cell_type": "code",
   "source": [
    "def _ruleset_to_expression(ruleset):\n",
    "    if not ruleset:\n",
    "        return false\n",
    "\n",
    "    conjunctions = []\n",
    "    for rule in ruleset:\n",
    "        literals = []\n",
    "        for cond in rule.conds:\n",
    "            feature = symbols(cond.feature)\n",
    "            literal = feature if cond.val else Not(feature)\n",
    "            literals.append(literal)\n",
    "\n",
    "        conjunction = And(*literals)\n",
    "        conjunctions.append(conjunction)\n",
    "\n",
    "    disjunction = Or(*conjunctions)\n",
    "    return disjunction\n",
    "\n",
    "\n",
    "expr = _ruleset_to_expression(ripper.ruleset_)\n",
    "print(\"Original expression:\")\n",
    "print(expr)\n",
    "simple_expr = simplify_logic(expr, form=\"dnf\")\n",
    "print(\"\\nSimplified expression:\")\n",
    "print(simple_expr)"
   ],
   "id": "d1e09aa16740c38a",
   "outputs": [
    {
     "name": "stdout",
     "output_type": "stream",
     "text": [
      "Original expression:\n",
      "(p177 & ~p103) | (p105 & p130 & p76 & p90) | (p119 & p173 & p51 & ~p148) | (p106 & p63 & p65 & p73 & p87) | (p133 & p174 & ~p104 & ~p65) | (p106 & p174 & p62 & p64 & ~p48) | (p106 & p49 & p74 & p87 & ~p147) | (p134 & p161 & p176 & p49 & ~p34) | (p173 & p62 & p63 & p92 & ~p129) | (p161 & p73 & p91 & ~p134 & ~p148) | (p49 & p74 & p89 & ~p102 & ~p75) | (p60 & p75 & p76 & ~p115 & ~p62) | (p73 & p75 & p78 & ~p102 & ~p51) | (p104 & p131 & p162 & p74 & p89 & ~p102) | (p61 & p76 & ~p116 & ~p133 & ~p63) | (p74 & p92 & ~p106 & ~p148 & ~p78) | (p106 & p163 & p48 & p73 & ~p143 & ~p66) | (p106 & p36 & p62 & p89 & ~p64 & ~p79) | (p117 & p144 & p76 & p91 & ~p108 & ~p64) | (p117 & p61 & p78 & p87 & ~p50 & ~p51) | (p49 & p62 & p74 & p92 & ~p63 & ~p65) | (p118 & p146 & p92 & ~p106 & ~p34 & ~p78) | (p49 & p75 & p89 & ~p102 & ~p34 & ~p76) | (p61 & p75 & p91 & ~p106 & ~p120 & ~p62) | (p75 & p90 & p91 & ~p133 & ~p76 & ~p80) | (p78 & p90 & p94 & ~p105 & ~p51 & ~p64) | (p106 & p63 & ~p120 & ~p34 & ~p49 & ~p78) | (p175 & p62 & ~p103 & ~p129 & ~p160 & ~p48) | (p176 & p78 & ~p102 & ~p175 & ~p34 & ~p90) | (p67 & p76 & ~p102 & ~p115 & ~p35 & ~p48) | (p75 & p90 & ~p102 & ~p51 & ~p62 & ~p63) | (p106 & p48 & p74 & p90 & ~p121 & ~p133 & ~p143) | (p106 & p50 & p51 & p62 & ~p78 & ~p79 & ~p80) | (p106 & p62 & p63 & p74 & ~p122 & ~p131 & ~p49) | (p119 & p49 & p75 & p90 & ~p102 & ~p115 & ~p63) | (p147 & p62 & p89 & p93 & ~p102 & ~p161 & ~p65) | (p61 & p63 & p88 & p92 & ~p115 & ~p145 & ~p46) | (p92 & ~p104 & ~p75 & ~p77 & ~p78 & ~p79) | (p103 & p50 & p92 & ~p118 & ~p35 & ~p78 & ~p79) | (p104 & p51 & p75 & ~p102 & ~p115 & ~p116 & ~p78) | (p105 & p131 & p76 & ~p115 & ~p116 & ~p132 & ~p89) | (p106 & p49 & p61 & ~p134 & ~p135 & ~p144 & ~p47) | (p117 & p76 & p92 & ~p106 & ~p33 & ~p64 & ~p65) | (p119 & p131 & p89 & ~p46 & ~p78 & ~p79 & ~p94) | (p120 & p61 & p63 & ~p116 & ~p143 & ~p34 & ~p77) | (p135 & p147 & p75 & ~p115 & ~p159 & ~p63 & ~p65) | (p146 & p34 & p61 & ~p64 & ~p65 & ~p66 & ~p77) | (p49 & p61 & p88 & ~p115 & ~p144 & ~p145 & ~p77) | (p50 & p75 & p90 & ~p102 & ~p107 & ~p137 & ~p77) | (p60 & p63 & p78 & ~p103 & ~p136 & ~p144 & ~p149) | (p64 & p65 & p76 & ~p108 & ~p131 & ~p34 & ~p50) | (p105 & p131 & ~p51 & ~p78 & ~p79 & ~p80 & ~p91) | (p108 & p132 & ~p104 & ~p50 & ~p51 & ~p66 & ~p77) | (p102 & p117 & p50 & p62 & ~p115 & ~p121 & ~p158 & ~p48) | (p118 & p158 & p50 & p62 & ~p129 & ~p135 & ~p149 & ~p35) | (p119 & p63 & p64 & p75 & ~p115 & ~p144 & ~p162 & ~p77) | (p120 & p62 & p64 & p79 & ~p118 & ~p129 & ~p48 & ~p90) | (p119 & ~p105 & ~p120 & ~p50 & ~p51 & ~p62 & ~p92) | (p63 & ~p119 & ~p122 & ~p49 & ~p51 & ~p77 & ~p90) | (p103 & p50 & p62 & ~p128 & ~p131 & ~p143 & ~p144 & ~p78) | (p104 & p134 & p62 & ~p107 & ~p122 & ~p129 & ~p48 & ~p78) | (p120 & p49 & p60 & ~p103 & ~p144 & ~p46 & ~p51 & ~p90) | (p145 & p146 & p62 & ~p115 & ~p48 & ~p77 & ~p79 & ~p80) | (~p119 & ~p121 & ~p143 & ~p64 & ~p65 & ~p66 & ~p77) | (p132 & p36 & ~p102 & ~p129 & ~p144 & ~p78 & ~p79 & ~p91) | (p146 & p148 & ~p62 & ~p64 & ~p65 & ~p66 & ~p67 & ~p77) | (p60 & p62 & ~p102 & ~p103 & ~p129 & ~p131 & ~p48 & ~p91) | (p63 & p89 & ~p102 & ~p107 & ~p148 & ~p34 & ~p49 & ~p76) | (p74 & p78 & ~p105 & ~p119 & ~p144 & ~p160 & ~p50 & ~p51) | (p49 & p62 & p75 & p92 & ~p121 & ~p132 & ~p158 & ~p160 & ~p76) | (p106 & p131 & ~p102 & ~p116 & ~p143 & ~p148 & ~p34 & ~p78 & ~p79) | (p146 & p76 & ~p115 & ~p35 & ~p48 & ~p49 & ~p62 & ~p80 & ~p92) | (p106 & p65 & ~p104 & ~p105 & ~p116 & ~p118 & ~p144 & ~p34 & ~p51 & ~p91) | (p134 & p93 & ~p104 & ~p116 & ~p118 & ~p144 & ~p49 & ~p50 & ~p51 & ~p91) | (p119 & p159 & p48 & p64 & ~p135 & ~p144 & ~p147 & ~p149 & ~p34 & ~p75 & ~p90)\n",
      "\n",
      "Simplified expression:\n",
      "(p177 & ~p103) | (p105 & p130 & p76 & p90) | (p119 & p173 & p51 & ~p148) | (p106 & p63 & p65 & p73 & p87) | (p133 & p174 & ~p104 & ~p65) | (p106 & p174 & p62 & p64 & ~p48) | (p106 & p49 & p74 & p87 & ~p147) | (p134 & p161 & p176 & p49 & ~p34) | (p173 & p62 & p63 & p92 & ~p129) | (p161 & p73 & p91 & ~p134 & ~p148) | (p49 & p74 & p89 & ~p102 & ~p75) | (p60 & p75 & p76 & ~p115 & ~p62) | (p73 & p75 & p78 & ~p102 & ~p51) | (p104 & p131 & p162 & p74 & p89 & ~p102) | (p61 & p76 & ~p116 & ~p133 & ~p63) | (p74 & p92 & ~p106 & ~p148 & ~p78) | (p106 & p163 & p48 & p73 & ~p143 & ~p66) | (p106 & p36 & p62 & p89 & ~p64 & ~p79) | (p117 & p144 & p76 & p91 & ~p108 & ~p64) | (p117 & p61 & p78 & p87 & ~p50 & ~p51) | (p49 & p62 & p74 & p92 & ~p63 & ~p65) | (p118 & p146 & p92 & ~p106 & ~p34 & ~p78) | (p49 & p75 & p89 & ~p102 & ~p34 & ~p76) | (p61 & p75 & p91 & ~p106 & ~p120 & ~p62) | (p75 & p90 & p91 & ~p133 & ~p76 & ~p80) | (p78 & p90 & p94 & ~p105 & ~p51 & ~p64) | (p106 & p63 & ~p120 & ~p34 & ~p49 & ~p78) | (p175 & p62 & ~p103 & ~p129 & ~p160 & ~p48) | (p176 & p78 & ~p102 & ~p175 & ~p34 & ~p90) | (p67 & p76 & ~p102 & ~p115 & ~p35 & ~p48) | (p75 & p90 & ~p102 & ~p51 & ~p62 & ~p63) | (p106 & p48 & p74 & p90 & ~p121 & ~p133 & ~p143) | (p106 & p50 & p51 & p62 & ~p78 & ~p79 & ~p80) | (p106 & p62 & p63 & p74 & ~p122 & ~p131 & ~p49) | (p119 & p49 & p75 & p90 & ~p102 & ~p115 & ~p63) | (p147 & p62 & p89 & p93 & ~p102 & ~p161 & ~p65) | (p61 & p63 & p88 & p92 & ~p115 & ~p145 & ~p46) | (p92 & ~p104 & ~p75 & ~p77 & ~p78 & ~p79) | (p103 & p50 & p92 & ~p118 & ~p35 & ~p78 & ~p79) | (p104 & p51 & p75 & ~p102 & ~p115 & ~p116 & ~p78) | (p105 & p131 & p76 & ~p115 & ~p116 & ~p132 & ~p89) | (p106 & p49 & p61 & ~p134 & ~p135 & ~p144 & ~p47) | (p117 & p76 & p92 & ~p106 & ~p33 & ~p64 & ~p65) | (p119 & p131 & p89 & ~p46 & ~p78 & ~p79 & ~p94) | (p120 & p61 & p63 & ~p116 & ~p143 & ~p34 & ~p77) | (p135 & p147 & p75 & ~p115 & ~p159 & ~p63 & ~p65) | (p146 & p34 & p61 & ~p64 & ~p65 & ~p66 & ~p77) | (p49 & p61 & p88 & ~p115 & ~p144 & ~p145 & ~p77) | (p50 & p75 & p90 & ~p102 & ~p107 & ~p137 & ~p77) | (p60 & p63 & p78 & ~p103 & ~p136 & ~p144 & ~p149) | (p64 & p65 & p76 & ~p108 & ~p131 & ~p34 & ~p50) | (p105 & p131 & ~p51 & ~p78 & ~p79 & ~p80 & ~p91) | (p108 & p132 & ~p104 & ~p50 & ~p51 & ~p66 & ~p77) | (p102 & p117 & p50 & p62 & ~p115 & ~p121 & ~p158 & ~p48) | (p118 & p158 & p50 & p62 & ~p129 & ~p135 & ~p149 & ~p35) | (p119 & p63 & p64 & p75 & ~p115 & ~p144 & ~p162 & ~p77) | (p120 & p62 & p64 & p79 & ~p118 & ~p129 & ~p48 & ~p90) | (p119 & ~p105 & ~p120 & ~p50 & ~p51 & ~p62 & ~p92) | (p63 & ~p119 & ~p122 & ~p49 & ~p51 & ~p77 & ~p90) | (p103 & p50 & p62 & ~p128 & ~p131 & ~p143 & ~p144 & ~p78) | (p104 & p134 & p62 & ~p107 & ~p122 & ~p129 & ~p48 & ~p78) | (p120 & p49 & p60 & ~p103 & ~p144 & ~p46 & ~p51 & ~p90) | (p145 & p146 & p62 & ~p115 & ~p48 & ~p77 & ~p79 & ~p80) | (~p119 & ~p121 & ~p143 & ~p64 & ~p65 & ~p66 & ~p77) | (p132 & p36 & ~p102 & ~p129 & ~p144 & ~p78 & ~p79 & ~p91) | (p146 & p148 & ~p62 & ~p64 & ~p65 & ~p66 & ~p67 & ~p77) | (p60 & p62 & ~p102 & ~p103 & ~p129 & ~p131 & ~p48 & ~p91) | (p63 & p89 & ~p102 & ~p107 & ~p148 & ~p34 & ~p49 & ~p76) | (p74 & p78 & ~p105 & ~p119 & ~p144 & ~p160 & ~p50 & ~p51) | (p49 & p62 & p75 & p92 & ~p121 & ~p132 & ~p158 & ~p160 & ~p76) | (p106 & p131 & ~p102 & ~p116 & ~p143 & ~p148 & ~p34 & ~p78 & ~p79) | (p146 & p76 & ~p115 & ~p35 & ~p48 & ~p49 & ~p62 & ~p80 & ~p92) | (p106 & p65 & ~p104 & ~p105 & ~p116 & ~p118 & ~p144 & ~p34 & ~p51 & ~p91) | (p134 & p93 & ~p104 & ~p116 & ~p118 & ~p144 & ~p49 & ~p50 & ~p51 & ~p91) | (p119 & p159 & p48 & p64 & ~p135 & ~p144 & ~p147 & ~p149 & ~p34 & ~p75 & ~p90)\n"
     ]
    }
   ],
   "execution_count": 4
  },
  {
   "metadata": {
    "jupyter": {
     "is_executing": true
    },
    "ExecuteTime": {
     "start_time": "2025-09-18T21:22:39.267805Z"
    }
   },
   "cell_type": "code",
   "source": [
    "layer_node_counts = [32] * 4\n",
    "config = dict(layer_node_counts=layer_node_counts, layer_bit_counts=[16]*len(layer_node_counts), seed=42)\n",
    "\n",
    "net = DeepBinaryClassifier(**config, node_factory=make_ripper_node, jobs=8)\n",
    "%time net.fit(input_values_train, target_values_train)\n",
    "\n",
    "pred_values_test = net.predict(input_values_test)\n",
    "ref_values_test = np.broadcast_to(target_values_test[:, None], pred_values_test.shape)\n",
    "accuracies_test = (pred_values_test == ref_values_test).mean(axis=0)\n",
    "\n",
    "best_output_node_idx = int(np.argmax(accuracies_test))\n",
    "best_output_node_name = net.node_names[-1][best_output_node_idx]\n",
    "\n",
    "print(\"Best node:\", best_output_node_name, \"with accuracy\", accuracies_test[best_output_node_idx])"
   ],
   "id": "d7a10f2c5fab97f7",
   "outputs": [],
   "execution_count": null
  }
 ],
 "metadata": {
  "kernelspec": {
   "display_name": "Python 3",
   "language": "python",
   "name": "python3"
  },
  "language_info": {
   "codemirror_mode": {
    "name": "ipython",
    "version": 2
   },
   "file_extension": ".py",
   "mimetype": "text/x-python",
   "name": "python",
   "nbconvert_exporter": "python",
   "pygments_lexer": "ipython2",
   "version": "2.7.6"
  }
 },
 "nbformat": 4,
 "nbformat_minor": 5
}
