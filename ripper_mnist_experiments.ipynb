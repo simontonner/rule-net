{
 "cells": [
  {
   "cell_type": "code",
   "id": "initial_id",
   "metadata": {
    "collapsed": true,
    "jupyter": {
     "outputs_hidden": true
    },
    "ExecuteTime": {
     "end_time": "2025-04-27T15:41:55.837091Z",
     "start_time": "2025-04-27T15:41:54.862886Z"
    }
   },
   "source": [
    "import matplotlib.pyplot as plt\n",
    "\n",
    "from ripper_lut_net import *\n",
    "from data.mnist import load_mnist_binary"
   ],
   "outputs": [],
   "execution_count": 1
  },
  {
   "cell_type": "code",
   "id": "a17f163a4597bbbb",
   "metadata": {
    "ExecuteTime": {
     "end_time": "2025-04-27T15:42:01.367342Z",
     "start_time": "2025-04-27T15:41:58.163636Z"
    }
   },
   "source": [
    "X_train, X_test, y_train, y_test = load_mnist_binary()\n",
    "\n",
    "# ripper takes extremely long. so I will just use a limited subset of the data\n",
    "X_train = X_train[:10000]\n",
    "y_train = y_train[:10000]\n",
    "X_test = X_test[:1500]\n",
    "y_test = y_test[:1500]\n",
    "\n",
    "fig, axs = plt.subplots(1, 10, figsize=(20, 2))\n",
    "for i in range(10):\n",
    "    axs[i].imshow(X_train[i].reshape(28, 28), cmap='gray')\n",
    "    axs[i].set_title(y_train[i])\n",
    "    axs[i].axis('off')"
   ],
   "outputs": [
    {
     "data": {
      "text/plain": [
       "<Figure size 2000x200 with 10 Axes>"
      ],
      "image/png": "[encoded data removed]"
     },
     "metadata": {},
     "output_type": "display_data"
    }
   ],
   "execution_count": 2
  },
  {
   "cell_type": "code",
   "id": "b3b6404629196ce2",
   "metadata": {
    "ExecuteTime": {
     "end_time": "2025-04-27T15:42:57.304829Z",
     "start_time": "2025-04-27T15:42:06.260371Z"
    }
   },
   "source": [
    "%%time\n",
    "\n",
    "# simple test whether it works\n",
    "\n",
    "lut_bits = 6\n",
    "num_layers = 5\n",
    "\n",
    "ripper_net = RipperLut(bits=[lut_bits] * (num_layers + 1), hidden_layers=[32] * num_layers, verbose=True, mode='ripper')\n",
    "preds_train = ripper_net.train(X_train, y_train)\n",
    "preds_test = ripper_net.predict(X_test)\n",
    "print(f\"Accuracy on training set: {accuracy_score(preds_train, y_train):.2f}\")\n",
    "print(f\"Accuracy on test set: {accuracy_score(preds_test, y_test):.2f}\")"
   ],
   "outputs": [
    {
     "name": "stderr",
     "output_type": "stream",
     "text": [
      "100%|██████████| 5/5 [00:47<00:00,  9.50s/it]\n"
     ]
    },
    {
     "name": "stdout",
     "output_type": "stream",
     "text": [
      "Accuracy on training set: 0.82\n",
      "Accuracy on test set: 0.76\n",
      "CPU times: user 1.91 s, sys: 472 ms, total: 2.38 s\n",
      "Wall time: 51 s\n"
     ]
    }
   ],
   "execution_count": 3
  },
  {
   "cell_type": "code",
   "id": "dff9e2f873fb4a5",
   "metadata": {
    "ExecuteTime": {
     "end_time": "2025-04-27T15:44:21.507282Z",
     "start_time": "2025-04-27T15:43:16.168180Z"
    }
   },
   "source": [
    "# experiment: accuracies over depth\n",
    "\n",
    "num_layers = 5\n",
    "num_layer_luts = 32\n",
    "nums_lut_bits = 6\n",
    "\n",
    "ripper_net = RipperLut(bits=[nums_lut_bits] * (num_layers + 1), hidden_layers=[num_layer_luts] * num_layers, verbose=True, mode='ripper')\n",
    "preds_train = ripper_net.train(X_train, y_train)\n",
    "preds, accs = ripper_net.get_accuracies_per_layer(X_train, y_train)\n",
    "\n",
    "mean_accs = [np.mean(acc) for acc in accs]\n",
    "std_accs = [np.std(acc) for acc in accs]\n",
    "\n",
    "# plot over layers with std\n",
    "plt.errorbar(range(num_layers + 1), mean_accs, yerr=std_accs, fmt='o')\n",
    "plt.title(f\"Accuracy over the 5 layers of the Net with {num_layer_luts} LUTs per layer\")\n",
    "plt.xlabel(\"Layer\")\n",
    "plt.ylabel(\"Accuracy\")"
   ],
   "outputs": [
    {
     "name": "stderr",
     "output_type": "stream",
     "text": [
      "100%|██████████| 5/5 [00:59<00:00, 11.85s/it]\n",
      "100%|██████████| 5/5 [00:03<00:00,  1.57it/s]\n"
     ]
    },
    {
     "data": {
      "text/plain": [
       "Text(0, 0.5, 'Accuracy')"
      ]
     },
     "execution_count": 4,
     "metadata": {},
     "output_type": "execute_result"
    },
    {
     "data": {
      "text/plain": [
       "<Figure size 640x480 with 1 Axes>"
      ],
      "image/png": "[encoded data removed]"
     },
     "metadata": {},
     "output_type": "display_data"
    }
   ],
   "execution_count": 4
  },
  {
   "cell_type": "code",
   "id": "14b65f629e9007cc",
   "metadata": {
    "ExecuteTime": {
     "end_time": "2025-04-27T15:54:17.514094Z",
     "start_time": "2025-04-27T15:45:07.914982Z"
    }
   },
   "source": [
    "# experiment: accuracies with changing number of LUTs per hidden layer\n",
    "\n",
    "num_layers = 5\n",
    "nums_layer_luts = [2, 4, 8, 16, 32, 64] #, 128, 256, 512, 1024, 2048, 4096]\n",
    "nums_lut_bits = 8\n",
    "\n",
    "train_accuracies = []\n",
    "test_accuracies = []\n",
    "for num_layer_luts in nums_layer_luts:\n",
    "    ripper_net = RipperLut(bits=[nums_lut_bits] * (num_layers + 1), hidden_layers=[num_layer_luts] * num_layers, verbose=False, mode='ripper')\n",
    "\n",
    "    preds_train = ripper_net.train(X_train, y_train)\n",
    "    preds_test = ripper_net.predict(X_test)\n",
    "\n",
    "    train_accuracy = accuracy_score(preds_train, y_train)\n",
    "    test_accuracy = accuracy_score(preds_test, y_test)\n",
    "\n",
    "    train_accuracies.append(train_accuracy)\n",
    "    test_accuracies.append(test_accuracy)\n",
    "\n",
    "    print(f\"{num_layer_luts} LUTs per layer: Accuracy on training set: {train_accuracy:.2f}\")\n",
    "    print(f\"{num_layer_luts} LUTs per layer: Accuracy on test set: {test_accuracy:.2f}\")\n",
    "    \n",
    "\n",
    "plt.plot(nums_layer_luts, train_accuracies, label=\"Train\")\n",
    "plt.plot(nums_layer_luts, test_accuracies, label=\"Test\")\n",
    "plt.title(\"Accuracy of 5-layer Net with 8-bit Ripper LUTs\\nand varying number of LUTs per layer\")\n",
    "plt.xlabel(\"Number of LUTs per layer\")\n",
    "plt.ylabel(\"Accuracy\")\n",
    "plt.show()"
   ],
   "outputs": [
    {
     "name": "stdout",
     "output_type": "stream",
     "text": [
      "2 LUTs per layer: Accuracy on training set: 0.65\n",
      "2 LUTs per layer: Accuracy on test set: 0.64\n",
      "4 LUTs per layer: Accuracy on training set: 0.71\n",
      "4 LUTs per layer: Accuracy on test set: 0.73\n",
      "8 LUTs per layer: Accuracy on training set: 0.67\n",
      "8 LUTs per layer: Accuracy on test set: 0.64\n",
      "16 LUTs per layer: Accuracy on training set: 0.78\n",
      "16 LUTs per layer: Accuracy on test set: 0.75\n",
      "32 LUTs per layer: Accuracy on training set: 0.83\n",
      "32 LUTs per layer: Accuracy on test set: 0.76\n",
      "64 LUTs per layer: Accuracy on training set: 0.86\n",
      "64 LUTs per layer: Accuracy on test set: 0.81\n"
     ]
    },
    {
     "data": {
      "text/plain": [
       "<Figure size 640x480 with 1 Axes>"
      ],
      "image/png": "[encoded data removed]"
     },
     "metadata": {},
     "output_type": "display_data"
    }
   ],
   "execution_count": 5
  },
  {
   "cell_type": "code",
   "id": "3a23ddea2ea3b64b",
   "metadata": {
    "ExecuteTime": {
     "end_time": "2025-04-27T16:03:46.542584Z",
     "start_time": "2025-04-27T15:55:02.258072Z"
    }
   },
   "source": [
    "# experiment: accuracies with changing number of input bits per LUT\n",
    "\n",
    "num_layers = 5\n",
    "num_layer_luts = 512 # 1024 takes too long\n",
    "nums_lut_bits = [2, 4, 8] #, 16]\n",
    "\n",
    "train_accuracies = []\n",
    "test_accuracies = []\n",
    "for num_lut_bits in nums_lut_bits:\n",
    "    ripper_net = RipperLut(bits=[num_lut_bits] * (num_layers + 1), hidden_layers=[num_layer_luts] * num_layers, verbose=False, mode='ripper')\n",
    "\n",
    "    preds_train = ripper_net.train(X_train, y_train)\n",
    "    preds_test = ripper_net.predict(X_test)\n",
    "\n",
    "    train_accuracy = accuracy_score(preds_train, y_train)\n",
    "    test_accuracy = accuracy_score(preds_test, y_test)\n",
    "\n",
    "    train_accuracies.append(train_accuracy)\n",
    "    test_accuracies.append(test_accuracy)\n",
    "\n",
    "    print(f\"{num_lut_bits} bits per LUT: Accuracy on training set: {train_accuracy:.2f}\")\n",
    "    print(f\"{num_lut_bits} bits per LUT: Accuracy on test set: {test_accuracy:.2f}\")\n",
    "    \n",
    "    \n",
    "plt.plot(nums_lut_bits, train_accuracies, label=\"Train\")\n",
    "plt.plot(nums_lut_bits, test_accuracies, label=\"Test\")\n",
    "plt.title(\"Accuracy of 5-layer Net with 1024 Ripper LUTs per layer\\nand varying number of input bits per LUT\")\n",
    "plt.xlabel(\"Number of input bits per LUT\")\n",
    "plt.ylabel(\"Accuracy\")\n",
    "plt.show()"
   ],
   "outputs": [
    {
     "name": "stderr",
     "output_type": "stream",
     "text": [
      "ripper.py: .fit | base.py: ._check_allpos_allneg: RuntimeWarning: \n",
      "Ruleset is empty. All predictions it makes with method .predict will be negative. It may be untrained or was trained on a dataset split lacking positive examples.\n",
      "\n",
      "base.py: .predict | base.py: ._check_allpos_allneg: RuntimeWarning: \n",
      "Ruleset is empty. All predictions it makes with method .predict will be negative. It may be untrained or was trained on a dataset split lacking positive examples.\n",
      "\n",
      "ripper.py: .fit | base.py: ._check_allpos_allneg: RuntimeWarning: \n",
      "Ruleset is empty. All predictions it makes with method .predict will be negative. It may be untrained or was trained on a dataset split lacking positive examples.\n",
      "\n",
      "base.py: .predict | base.py: ._check_allpos_allneg: RuntimeWarning: \n",
      "Ruleset is empty. All predictions it makes with method .predict will be negative. It may be untrained or was trained on a dataset split lacking positive examples.\n",
      "\n",
      "ripper.py: .fit | base.py: ._check_allpos_allneg: RuntimeWarning: \n",
      "Ruleset is empty. All predictions it makes with method .predict will be negative. It may be untrained or was trained on a dataset split lacking positive examples.\n",
      "\n",
      "base.py: .predict | base.py: ._check_allpos_allneg: RuntimeWarning: \n",
      "Ruleset is empty. All predictions it makes with method .predict will be negative. It may be untrained or was trained on a dataset split lacking positive examples.\n",
      "\n",
      "ripper.py: .fit | base.py: ._check_allpos_allneg: RuntimeWarning: \n",
      "Ruleset is empty. All predictions it makes with method .predict will be negative. It may be untrained or was trained on a dataset split lacking positive examples.\n",
      "\n",
      "base.py: .predict | base.py: ._check_allpos_allneg: RuntimeWarning: \n",
      "Ruleset is empty. All predictions it makes with method .predict will be negative. It may be untrained or was trained on a dataset split lacking positive examples.\n",
      "\n",
      "ripper.py: .fit | base.py: ._check_allpos_allneg: RuntimeWarning: \n",
      "Ruleset is empty. All predictions it makes with method .predict will be negative. It may be untrained or was trained on a dataset split lacking positive examples.\n",
      "\n",
      "base.py: .predict | base.py: ._check_allpos_allneg: RuntimeWarning: \n",
      "Ruleset is empty. All predictions it makes with method .predict will be negative. It may be untrained or was trained on a dataset split lacking positive examples.\n",
      "\n",
      "ripper.py: .fit | base.py: ._check_allpos_allneg: RuntimeWarning: \n",
      "Ruleset is empty. All predictions it makes with method .predict will be negative. It may be untrained or was trained on a dataset split lacking positive examples.\n",
      "\n",
      "base.py: .predict | base.py: ._check_allpos_allneg: RuntimeWarning: \n",
      "Ruleset is empty. All predictions it makes with method .predict will be negative. It may be untrained or was trained on a dataset split lacking positive examples.\n",
      "\n",
      "ripper.py: .fit | base.py: ._check_allpos_allneg: RuntimeWarning: \n",
      "Ruleset is empty. All predictions it makes with method .predict will be negative. It may be untrained or was trained on a dataset split lacking positive examples.\n",
      "\n",
      "base.py: .predict | base.py: ._check_allpos_allneg: RuntimeWarning: \n",
      "Ruleset is empty. All predictions it makes with method .predict will be negative. It may be untrained or was trained on a dataset split lacking positive examples.\n",
      "\n",
      "ripper.py: .fit | base.py: ._check_allpos_allneg: RuntimeWarning: \n",
      "Ruleset is empty. All predictions it makes with method .predict will be negative. It may be untrained or was trained on a dataset split lacking positive examples.\n",
      "\n",
      "base.py: .predict | base.py: ._check_allpos_allneg: RuntimeWarning: \n",
      "Ruleset is empty. All predictions it makes with method .predict will be negative. It may be untrained or was trained on a dataset split lacking positive examples.\n",
      "\n",
      "ripper.py: .fit | base.py: ._check_allpos_allneg: RuntimeWarning: \n",
      "Ruleset is empty. All predictions it makes with method .predict will be negative. It may be untrained or was trained on a dataset split lacking positive examples.\n",
      "\n",
      "base.py: .predict | base.py: ._check_allpos_allneg: RuntimeWarning: \n",
      "Ruleset is empty. All predictions it makes with method .predict will be negative. It may be untrained or was trained on a dataset split lacking positive examples.\n",
      "\n",
      "ripper.py: .fit | base.py: ._check_allpos_allneg: RuntimeWarning: \n",
      "Ruleset is empty. All predictions it makes with method .predict will be negative. It may be untrained or was trained on a dataset split lacking positive examples.\n",
      "\n",
      "base.py: .predict | base.py: ._check_allpos_allneg: RuntimeWarning: \n",
      "Ruleset is empty. All predictions it makes with method .predict will be negative. It may be untrained or was trained on a dataset split lacking positive examples.\n",
      "\n",
      "ripper.py: .fit | base.py: ._check_allpos_allneg: RuntimeWarning: \n",
      "Ruleset is empty. All predictions it makes with method .predict will be negative. It may be untrained or was trained on a dataset split lacking positive examples.\n",
      "\n",
      "base.py: .predict | base.py: ._check_allpos_allneg: RuntimeWarning: \n",
      "Ruleset is empty. All predictions it makes with method .predict will be negative. It may be untrained or was trained on a dataset split lacking positive examples.\n",
      "\n",
      "ripper.py: .fit | base.py: ._check_allpos_allneg: RuntimeWarning: \n",
      "Ruleset is empty. All predictions it makes with method .predict will be negative. It may be untrained or was trained on a dataset split lacking positive examples.\n",
      "\n",
      "base.py: .predict | base.py: ._check_allpos_allneg: RuntimeWarning: \n",
      "Ruleset is empty. All predictions it makes with method .predict will be negative. It may be untrained or was trained on a dataset split lacking positive examples.\n",
      "\n",
      "ripper.py: .fit | base.py: ._check_allpos_allneg: RuntimeWarning: \n",
      "Ruleset is empty. All predictions it makes with method .predict will be negative. It may be untrained or was trained on a dataset split lacking positive examples.\n",
      "\n",
      "base.py: .predict | base.py: ._check_allpos_allneg: RuntimeWarning: \n",
      "Ruleset is empty. All predictions it makes with method .predict will be negative. It may be untrained or was trained on a dataset split lacking positive examples.\n",
      "\n",
      "ripper.py: .fit | base.py: ._check_allpos_allneg: RuntimeWarning: \n",
      "Ruleset is empty. All predictions it makes with method .predict will be negative. It may be untrained or was trained on a dataset split lacking positive examples.\n",
      "\n",
      "base.py: .predict | base.py: ._check_allpos_allneg: RuntimeWarning: \n",
      "Ruleset is empty. All predictions it makes with method .predict will be negative. It may be untrained or was trained on a dataset split lacking positive examples.\n",
      "\n",
      "ripper.py: .fit | base.py: ._check_allpos_allneg: RuntimeWarning: \n",
      "Ruleset is empty. All predictions it makes with method .predict will be negative. It may be untrained or was trained on a dataset split lacking positive examples.\n",
      "\n",
      "base.py: .predict | base.py: ._check_allpos_allneg: RuntimeWarning: \n",
      "Ruleset is empty. All predictions it makes with method .predict will be negative. It may be untrained or was trained on a dataset split lacking positive examples.\n",
      "\n",
      "ripper.py: .fit | base.py: ._check_allpos_allneg: RuntimeWarning: \n",
      "Ruleset is empty. All predictions it makes with method .predict will be negative. It may be untrained or was trained on a dataset split lacking positive examples.\n",
      "\n",
      "base.py: .predict | base.py: ._check_allpos_allneg: RuntimeWarning: \n",
      "Ruleset is empty. All predictions it makes with method .predict will be negative. It may be untrained or was trained on a dataset split lacking positive examples.\n",
      "\n",
      "ripper.py: .fit | base.py: ._check_allpos_allneg: RuntimeWarning: \n",
      "Ruleset is empty. All predictions it makes with method .predict will be negative. It may be untrained or was trained on a dataset split lacking positive examples.\n",
      "\n",
      "base.py: .predict | base.py: ._check_allpos_allneg: RuntimeWarning: \n",
      "Ruleset is empty. All predictions it makes with method .predict will be negative. It may be untrained or was trained on a dataset split lacking positive examples.\n",
      "\n",
      "ripper.py: .fit | base.py: ._check_allpos_allneg: RuntimeWarning: \n",
      "Ruleset is empty. All predictions it makes with method .predict will be negative. It may be untrained or was trained on a dataset split lacking positive examples.\n",
      "\n",
      "base.py: .predict | base.py: ._check_allpos_allneg: RuntimeWarning: \n",
      "Ruleset is empty. All predictions it makes with method .predict will be negative. It may be untrained or was trained on a dataset split lacking positive examples.\n",
      "\n",
      "ripper.py: .fit | base.py: ._check_allpos_allneg: RuntimeWarning: \n",
      "Ruleset is empty. All predictions it makes with method .predict will be negative. It may be untrained or was trained on a dataset split lacking positive examples.\n",
      "\n",
      "base.py: .predict | base.py: ._check_allpos_allneg: RuntimeWarning: \n",
      "Ruleset is empty. All predictions it makes with method .predict will be negative. It may be untrained or was trained on a dataset split lacking positive examples.\n",
      "\n",
      "ripper.py: .fit | base.py: ._check_allpos_allneg: RuntimeWarning: \n",
      "Ruleset is empty. All predictions it makes with method .predict will be negative. It may be untrained or was trained on a dataset split lacking positive examples.\n",
      "\n",
      "base.py: .predict | base.py: ._check_allpos_allneg: RuntimeWarning: \n",
      "Ruleset is empty. All predictions it makes with method .predict will be negative. It may be untrained or was trained on a dataset split lacking positive examples.\n",
      "\n",
      "ripper.py: .fit | base.py: ._check_allpos_allneg: RuntimeWarning: \n",
      "Ruleset is empty. All predictions it makes with method .predict will be negative. It may be untrained or was trained on a dataset split lacking positive examples.\n",
      "\n",
      "base.py: .predict | base.py: ._check_allpos_allneg: RuntimeWarning: \n",
      "Ruleset is empty. All predictions it makes with method .predict will be negative. It may be untrained or was trained on a dataset split lacking positive examples.\n",
      "\n",
      "ripper.py: .fit | base.py: ._check_allpos_allneg: RuntimeWarning: \n",
      "Ruleset is empty. All predictions it makes with method .predict will be negative. It may be untrained or was trained on a dataset split lacking positive examples.\n",
      "\n",
      "base.py: .predict | base.py: ._check_allpos_allneg: RuntimeWarning: \n",
      "Ruleset is empty. All predictions it makes with method .predict will be negative. It may be untrained or was trained on a dataset split lacking positive examples.\n",
      "\n"
     ]
    },
    {
     "name": "stdout",
     "output_type": "stream",
     "text": [
      "2 bits per LUT: Accuracy on training set: 0.72\n",
      "2 bits per LUT: Accuracy on test set: 0.69\n",
      "4 bits per LUT: Accuracy on training set: 0.81\n",
      "4 bits per LUT: Accuracy on test set: 0.78\n"
     ]
    },
    {
     "name": "stderr",
     "output_type": "stream",
     "text": [
      "Process SpawnPoolWorker-163:\n",
      "Process SpawnPoolWorker-164:\n",
      "Process SpawnPoolWorker-166:\n",
      "Process SpawnPoolWorker-165:\n",
      "Process SpawnPoolWorker-162:\n",
      "Process SpawnPoolWorker-168:\n",
      "Process SpawnPoolWorker-167:\n",
      "Process SpawnPoolWorker-161:\n",
      "Traceback (most recent call last):\n",
      "  File \"/Users/Tonni/miniforge3/envs/rule-net/lib/python3.10/multiprocessing/process.py\", line 314, in _bootstrap\n",
      "    self.run()\n",
      "  File \"/Users/Tonni/miniforge3/envs/rule-net/lib/python3.10/multiprocessing/process.py\", line 108, in run\n",
      "    self._target(*self._args, **self._kwargs)\n",
      "  File \"/Users/Tonni/miniforge3/envs/rule-net/lib/python3.10/multiprocessing/pool.py\", line 125, in worker\n",
      "    result = (True, func(*args, **kwds))\n",
      "  File \"/Users/Tonni/miniforge3/envs/rule-net/lib/python3.10/multiprocessing/pool.py\", line 51, in starmapstar\n",
      "    return list(itertools.starmap(args[0], args[1]))\n",
      "  File \"/Users/Tonni/Desktop/practical-work-code/rule-net/ripper_lut_net.py\", line 80, in get_ripper\n",
      "    ripper_clf.fit(input_bits_df, output_df)\n",
      "  File \"/Users/Tonni/miniforge3/envs/rule-net/lib/python3.10/site-packages/wittgenstein/ripper.py\", line 327, in fit\n",
      "    mdl_subset, _ = _rs_total_bits_cn(\n",
      "  File \"/Users/Tonni/miniforge3/envs/rule-net/lib/python3.10/site-packages/wittgenstein/ripper.py\", line 1440, in _rs_total_bits_cn\n",
      "    exceptions_dl = _exceptions_bits_cn(\n",
      "KeyboardInterrupt\n",
      "Traceback (most recent call last):\n",
      "  File \"/Users/Tonni/miniforge3/envs/rule-net/lib/python3.10/multiprocessing/process.py\", line 314, in _bootstrap\n",
      "    self.run()\n",
      "  File \"/Users/Tonni/miniforge3/envs/rule-net/lib/python3.10/multiprocessing/process.py\", line 108, in run\n",
      "    self._target(*self._args, **self._kwargs)\n",
      "  File \"/Users/Tonni/miniforge3/envs/rule-net/lib/python3.10/multiprocessing/pool.py\", line 125, in worker\n",
      "    result = (True, func(*args, **kwds))\n",
      "  File \"/Users/Tonni/miniforge3/envs/rule-net/lib/python3.10/multiprocessing/pool.py\", line 51, in starmapstar\n",
      "    return list(itertools.starmap(args[0], args[1]))\n",
      "  File \"/Users/Tonni/Desktop/practical-work-code/rule-net/ripper_lut_net.py\", line 80, in get_ripper\n",
      "    ripper_clf.fit(input_bits_df, output_df)\n",
      "  File \"/Users/Tonni/miniforge3/envs/rule-net/lib/python3.10/site-packages/wittgenstein/ripper.py\", line 224, in fit\n",
      "    self.ruleset_ = self._grow_ruleset_cn(\n",
      "  File \"/Users/Tonni/miniforge3/envs/rule-net/lib/python3.10/site-packages/wittgenstein/ripper.py\", line 639, in _grow_ruleset_cn\n",
      "    data_dl = _exceptions_bits_cn(\n",
      "  File \"/Users/Tonni/miniforge3/envs/rule-net/lib/python3.10/site-packages/wittgenstein/ripper.py\", line 1278, in _exceptions_bits_cn\n",
      "    exceptions_dl = math.log2(base_functions.nCr(p, fp)) + math.log2(\n",
      "  File \"/Users/Tonni/miniforge3/envs/rule-net/lib/python3.10/site-packages/wittgenstein/base_functions.py\", line 639, in nCr\n",
      "    num = product(range(n, n - r, -1))\n",
      "  File \"/Users/Tonni/miniforge3/envs/rule-net/lib/python3.10/site-packages/wittgenstein/base_functions.py\", line 637, in product\n",
      "    return reduce(op.mul, numbers, 1)\n",
      "KeyboardInterrupt\n",
      "Traceback (most recent call last):\n",
      "  File \"/Users/Tonni/miniforge3/envs/rule-net/lib/python3.10/multiprocessing/process.py\", line 314, in _bootstrap\n",
      "    self.run()\n",
      "  File \"/Users/Tonni/miniforge3/envs/rule-net/lib/python3.10/multiprocessing/process.py\", line 108, in run\n",
      "    self._target(*self._args, **self._kwargs)\n",
      "  File \"/Users/Tonni/miniforge3/envs/rule-net/lib/python3.10/multiprocessing/pool.py\", line 125, in worker\n",
      "    result = (True, func(*args, **kwds))\n",
      "  File \"/Users/Tonni/miniforge3/envs/rule-net/lib/python3.10/multiprocessing/pool.py\", line 51, in starmapstar\n",
      "    return list(itertools.starmap(args[0], args[1]))\n",
      "  File \"/Users/Tonni/Desktop/practical-work-code/rule-net/ripper_lut_net.py\", line 80, in get_ripper\n",
      "    ripper_clf.fit(input_bits_df, output_df)\n",
      "Traceback (most recent call last):\n",
      "  File \"/Users/Tonni/miniforge3/envs/rule-net/lib/python3.10/site-packages/wittgenstein/ripper.py\", line 266, in fit\n",
      "    newset = self._optimize_ruleset_cn(\n",
      "  File \"/Users/Tonni/miniforge3/envs/rule-net/lib/python3.10/site-packages/wittgenstein/ripper.py\", line 884, in _optimize_ruleset_cn\n",
      "    original_dl = _rs_total_bits_cn(\n",
      "  File \"/Users/Tonni/miniforge3/envs/rule-net/lib/python3.10/site-packages/wittgenstein/ripper.py\", line 1440, in _rs_total_bits_cn\n",
      "    exceptions_dl = _exceptions_bits_cn(\n",
      "  File \"/Users/Tonni/miniforge3/envs/rule-net/lib/python3.10/site-packages/wittgenstein/ripper.py\", line 1278, in _exceptions_bits_cn\n",
      "    exceptions_dl = math.log2(base_functions.nCr(p, fp)) + math.log2(\n",
      "  File \"/Users/Tonni/miniforge3/envs/rule-net/lib/python3.10/site-packages/wittgenstein/base_functions.py\", line 640, in nCr\n",
      "    den = product(range(1, r + 1))\n",
      "  File \"/Users/Tonni/miniforge3/envs/rule-net/lib/python3.10/site-packages/wittgenstein/base_functions.py\", line 637, in product\n",
      "    return reduce(op.mul, numbers, 1)\n",
      "KeyboardInterrupt\n",
      "  File \"/Users/Tonni/miniforge3/envs/rule-net/lib/python3.10/multiprocessing/process.py\", line 314, in _bootstrap\n",
      "    self.run()\n",
      "  File \"/Users/Tonni/miniforge3/envs/rule-net/lib/python3.10/multiprocessing/process.py\", line 108, in run\n",
      "    self._target(*self._args, **self._kwargs)\n",
      "  File \"/Users/Tonni/miniforge3/envs/rule-net/lib/python3.10/multiprocessing/pool.py\", line 125, in worker\n",
      "    result = (True, func(*args, **kwds))\n",
      "  File \"/Users/Tonni/miniforge3/envs/rule-net/lib/python3.10/multiprocessing/pool.py\", line 51, in starmapstar\n",
      "    return list(itertools.starmap(args[0], args[1]))\n",
      "  File \"/Users/Tonni/Desktop/practical-work-code/rule-net/ripper_lut_net.py\", line 80, in get_ripper\n",
      "    ripper_clf.fit(input_bits_df, output_df)\n",
      "  File \"/Users/Tonni/miniforge3/envs/rule-net/lib/python3.10/site-packages/wittgenstein/ripper.py\", line 224, in fit\n",
      "    self.ruleset_ = self._grow_ruleset_cn(\n",
      "  File \"/Users/Tonni/miniforge3/envs/rule-net/lib/python3.10/site-packages/wittgenstein/ripper.py\", line 639, in _grow_ruleset_cn\n",
      "    data_dl = _exceptions_bits_cn(\n",
      "  File \"/Users/Tonni/miniforge3/envs/rule-net/lib/python3.10/site-packages/wittgenstein/ripper.py\", line 1278, in _exceptions_bits_cn\n",
      "    exceptions_dl = math.log2(base_functions.nCr(p, fp)) + math.log2(\n",
      "  File \"/Users/Tonni/miniforge3/envs/rule-net/lib/python3.10/site-packages/wittgenstein/base_functions.py\", line 639, in nCr\n",
      "    num = product(range(n, n - r, -1))\n",
      "  File \"/Users/Tonni/miniforge3/envs/rule-net/lib/python3.10/site-packages/wittgenstein/base_functions.py\", line 637, in product\n",
      "    return reduce(op.mul, numbers, 1)\n",
      "KeyboardInterrupt\n",
      "Traceback (most recent call last):\n",
      "Traceback (most recent call last):\n",
      "  File \"/Users/Tonni/miniforge3/envs/rule-net/lib/python3.10/multiprocessing/process.py\", line 314, in _bootstrap\n",
      "    self.run()\n",
      "  File \"/Users/Tonni/miniforge3/envs/rule-net/lib/python3.10/multiprocessing/process.py\", line 108, in run\n",
      "    self._target(*self._args, **self._kwargs)\n",
      "  File \"/Users/Tonni/miniforge3/envs/rule-net/lib/python3.10/multiprocessing/pool.py\", line 125, in worker\n",
      "    result = (True, func(*args, **kwds))\n",
      "  File \"/Users/Tonni/miniforge3/envs/rule-net/lib/python3.10/multiprocessing/pool.py\", line 51, in starmapstar\n",
      "    return list(itertools.starmap(args[0], args[1]))\n",
      "  File \"/Users/Tonni/Desktop/practical-work-code/rule-net/ripper_lut_net.py\", line 80, in get_ripper\n",
      "    ripper_clf.fit(input_bits_df, output_df)\n",
      "  File \"/Users/Tonni/miniforge3/envs/rule-net/lib/python3.10/site-packages/wittgenstein/ripper.py\", line 224, in fit\n",
      "    self.ruleset_ = self._grow_ruleset_cn(\n",
      "  File \"/Users/Tonni/miniforge3/envs/rule-net/lib/python3.10/site-packages/wittgenstein/ripper.py\", line 662, in _grow_ruleset_cn\n",
      "    pos_remaining_idx, neg_remaining_idx = base_functions.rm_rule_covers_cn(\n",
      "  File \"/Users/Tonni/miniforge3/envs/rule-net/lib/python3.10/site-packages/wittgenstein/base_functions.py\", line 696, in rm_rule_covers_cn\n",
      "    neg_idx - cn.rule_covers(rule, neg_idx),\n",
      "  File \"/Users/Tonni/miniforge3/envs/rule-net/lib/python3.10/site-packages/wittgenstein/catnap.py\", line 68, in rule_covers\n",
      "    covered = set.intersection(\n",
      "KeyboardInterrupt\n",
      "  File \"/Users/Tonni/miniforge3/envs/rule-net/lib/python3.10/multiprocessing/process.py\", line 314, in _bootstrap\n",
      "    self.run()\n",
      "  File \"/Users/Tonni/miniforge3/envs/rule-net/lib/python3.10/multiprocessing/process.py\", line 108, in run\n",
      "    self._target(*self._args, **self._kwargs)\n",
      "  File \"/Users/Tonni/miniforge3/envs/rule-net/lib/python3.10/multiprocessing/pool.py\", line 125, in worker\n",
      "    result = (True, func(*args, **kwds))\n",
      "  File \"/Users/Tonni/miniforge3/envs/rule-net/lib/python3.10/multiprocessing/pool.py\", line 51, in starmapstar\n",
      "    return list(itertools.starmap(args[0], args[1]))\n",
      "  File \"/Users/Tonni/Desktop/practical-work-code/rule-net/ripper_lut_net.py\", line 80, in get_ripper\n",
      "    ripper_clf.fit(input_bits_df, output_df)\n",
      "  File \"/Users/Tonni/miniforge3/envs/rule-net/lib/python3.10/site-packages/wittgenstein/ripper.py\", line 266, in fit\n",
      "    newset = self._optimize_ruleset_cn(\n",
      "  File \"/Users/Tonni/miniforge3/envs/rule-net/lib/python3.10/site-packages/wittgenstein/ripper.py\", line 914, in _optimize_ruleset_cn\n",
      "    g_replacement = base_functions.grow_rule_cn(\n",
      "  File \"/Users/Tonni/miniforge3/envs/rule-net/lib/python3.10/site-packages/wittgenstein/base_functions.py\", line 77, in grow_rule_cn\n",
      "    rule1 = best_rule_successor_cn(cn, rule0, pos_idx, neg_idx, verbosity=verbosity)\n",
      "  File \"/Users/Tonni/miniforge3/envs/rule-net/lib/python3.10/site-packages/wittgenstein/base_functions.py\", line 536, in best_rule_successor_cn\n",
      "    g = gain_cn(cn, cond_action_step, rule_covers_pos_idx, rule_covers_neg_idx)\n",
      "  File \"/Users/Tonni/miniforge3/envs/rule-net/lib/python3.10/site-packages/wittgenstein/base_functions.py\", line 425, in gain_cn\n",
      "    cn.cond_covers(cond_step, subset=rule_covers_pos_idx)\n",
      "  File \"/Users/Tonni/miniforge3/envs/rule-net/lib/python3.10/site-packages/wittgenstein/catnap.py\", line 63, in cond_covers\n",
      "    else self.cond_maps.get(cond, set()).intersection(subset)\n",
      "KeyboardInterrupt\n",
      "Traceback (most recent call last):\n",
      "Traceback (most recent call last):\n",
      "  File \"/Users/Tonni/miniforge3/envs/rule-net/lib/python3.10/multiprocessing/process.py\", line 314, in _bootstrap\n",
      "    self.run()\n",
      "  File \"/Users/Tonni/miniforge3/envs/rule-net/lib/python3.10/multiprocessing/process.py\", line 108, in run\n",
      "    self._target(*self._args, **self._kwargs)\n",
      "  File \"/Users/Tonni/miniforge3/envs/rule-net/lib/python3.10/multiprocessing/pool.py\", line 125, in worker\n",
      "    result = (True, func(*args, **kwds))\n",
      "  File \"/Users/Tonni/miniforge3/envs/rule-net/lib/python3.10/multiprocessing/pool.py\", line 51, in starmapstar\n",
      "    return list(itertools.starmap(args[0], args[1]))\n",
      "  File \"/Users/Tonni/Desktop/practical-work-code/rule-net/ripper_lut_net.py\", line 80, in get_ripper\n",
      "    ripper_clf.fit(input_bits_df, output_df)\n",
      "  File \"/Users/Tonni/miniforge3/envs/rule-net/lib/python3.10/site-packages/wittgenstein/ripper.py\", line 224, in fit\n",
      "    self.ruleset_ = self._grow_ruleset_cn(\n",
      "  File \"/Users/Tonni/miniforge3/envs/rule-net/lib/python3.10/site-packages/wittgenstein/ripper.py\", line 578, in _grow_ruleset_cn\n",
      "    neg_growset_idx, neg_pruneset_idx = base_functions.random_split(\n",
      "  File \"/Users/Tonni/miniforge3/envs/rule-net/lib/python3.10/site-packages/wittgenstein/base_functions.py\", line 608, in random_split\n",
      "    shuffle(to_split)\n",
      "  File \"/Users/Tonni/miniforge3/envs/rule-net/lib/python3.10/random.py\", line 393, in shuffle\n",
      "    j = randbelow(i + 1)\n",
      "  File \"/Users/Tonni/miniforge3/envs/rule-net/lib/python3.10/random.py\", line 239, in _randbelow_with_getrandbits\n",
      "    def _randbelow_with_getrandbits(self, n):\n",
      "KeyboardInterrupt\n",
      "  File \"/Users/Tonni/miniforge3/envs/rule-net/lib/python3.10/multiprocessing/process.py\", line 314, in _bootstrap\n",
      "    self.run()\n",
      "  File \"/Users/Tonni/miniforge3/envs/rule-net/lib/python3.10/multiprocessing/process.py\", line 108, in run\n",
      "    self._target(*self._args, **self._kwargs)\n",
      "  File \"/Users/Tonni/miniforge3/envs/rule-net/lib/python3.10/multiprocessing/pool.py\", line 125, in worker\n",
      "    result = (True, func(*args, **kwds))\n",
      "  File \"/Users/Tonni/miniforge3/envs/rule-net/lib/python3.10/multiprocessing/pool.py\", line 51, in starmapstar\n",
      "    return list(itertools.starmap(args[0], args[1]))\n",
      "  File \"/Users/Tonni/Desktop/practical-work-code/rule-net/ripper_lut_net.py\", line 80, in get_ripper\n",
      "    ripper_clf.fit(input_bits_df, output_df)\n",
      "  File \"/Users/Tonni/miniforge3/envs/rule-net/lib/python3.10/site-packages/wittgenstein/ripper.py\", line 224, in fit\n",
      "    self.ruleset_ = self._grow_ruleset_cn(\n",
      "  File \"/Users/Tonni/miniforge3/envs/rule-net/lib/python3.10/site-packages/wittgenstein/ripper.py\", line 572, in _grow_ruleset_cn\n",
      "    pos_growset_idx, pos_pruneset_idx = base_functions.random_split(\n",
      "  File \"/Users/Tonni/miniforge3/envs/rule-net/lib/python3.10/site-packages/wittgenstein/base_functions.py\", line 608, in random_split\n",
      "    shuffle(to_split)\n",
      "  File \"/Users/Tonni/miniforge3/envs/rule-net/lib/python3.10/random.py\", line 394, in shuffle\n",
      "    x[i], x[j] = x[j], x[i]\n",
      "KeyboardInterrupt\n"
     ]
    },
    {
     "ename": "KeyboardInterrupt",
     "evalue": "",
     "output_type": "error",
     "traceback": [
      "\u001B[0;31m---------------------------------------------------------------------------\u001B[0m",
      "\u001B[0;31mKeyboardInterrupt\u001B[0m                         Traceback (most recent call last)",
      "Cell \u001B[0;32mIn[6], line 12\u001B[0m\n\u001B[1;32m      9\u001B[0m \u001B[38;5;28;01mfor\u001B[39;00m num_lut_bits \u001B[38;5;129;01min\u001B[39;00m nums_lut_bits:\n\u001B[1;32m     10\u001B[0m     ripper_net \u001B[38;5;241m=\u001B[39m RipperLut(bits\u001B[38;5;241m=\u001B[39m[num_lut_bits] \u001B[38;5;241m*\u001B[39m (num_layers \u001B[38;5;241m+\u001B[39m \u001B[38;5;241m1\u001B[39m), hidden_layers\u001B[38;5;241m=\u001B[39m[num_layer_luts] \u001B[38;5;241m*\u001B[39m num_layers, verbose\u001B[38;5;241m=\u001B[39m\u001B[38;5;28;01mFalse\u001B[39;00m, mode\u001B[38;5;241m=\u001B[39m\u001B[38;5;124m'\u001B[39m\u001B[38;5;124mripper\u001B[39m\u001B[38;5;124m'\u001B[39m)\n\u001B[0;32m---> 12\u001B[0m     preds_train \u001B[38;5;241m=\u001B[39m \u001B[43mripper_net\u001B[49m\u001B[38;5;241;43m.\u001B[39;49m\u001B[43mtrain\u001B[49m\u001B[43m(\u001B[49m\u001B[43mX_train\u001B[49m\u001B[43m,\u001B[49m\u001B[43m \u001B[49m\u001B[43my_train\u001B[49m\u001B[43m)\u001B[49m\n\u001B[1;32m     13\u001B[0m     preds_test \u001B[38;5;241m=\u001B[39m ripper_net\u001B[38;5;241m.\u001B[39mpredict(X_test)\n\u001B[1;32m     15\u001B[0m     train_accuracy \u001B[38;5;241m=\u001B[39m accuracy_score(preds_train, y_train)\n",
      "File \u001B[0;32m~/Desktop/practical-work-code/rule-net/ripper_lut_net.py:182\u001B[0m, in \u001B[0;36mRipperLut.train\u001B[0;34m(self, X, y)\u001B[0m\n\u001B[1;32m    163\u001B[0m idxs \u001B[38;5;241m=\u001B[39m np\u001B[38;5;241m.\u001B[39marray(\n\u001B[1;32m    164\u001B[0m     pool\u001B[38;5;241m.\u001B[39mstarmap(\n\u001B[1;32m    165\u001B[0m         get_idxs,\n\u001B[0;32m   (...)\u001B[0m\n\u001B[1;32m    177\u001B[0m     )\n\u001B[1;32m    178\u001B[0m )\n\u001B[1;32m    180\u001B[0m \u001B[38;5;66;03m# the starmap code has been replaced here\u001B[39;00m\n\u001B[1;32m    181\u001B[0m tmp \u001B[38;5;241m=\u001B[39m np\u001B[38;5;241m.\u001B[39marray(\n\u001B[0;32m--> 182\u001B[0m     \u001B[43mpool\u001B[49m\u001B[38;5;241;43m.\u001B[39;49m\u001B[43mstarmap\u001B[49m\u001B[43m(\u001B[49m\n\u001B[1;32m    183\u001B[0m \u001B[43m        \u001B[49m\u001B[38;5;28;43mself\u001B[39;49m\u001B[38;5;241;43m.\u001B[39;49m\u001B[43mfind_rule\u001B[49m\u001B[43m,\u001B[49m\n\u001B[1;32m    184\u001B[0m \u001B[43m        \u001B[49m\u001B[43m[\u001B[49m\u001B[43m[\u001B[49m\u001B[43midxs\u001B[49m\u001B[43m[\u001B[49m\u001B[43mi\u001B[49m\u001B[43m]\u001B[49m\u001B[43m,\u001B[49m\u001B[43m \u001B[49m\u001B[43my_\u001B[49m\u001B[43m,\u001B[49m\u001B[43m \u001B[49m\u001B[38;5;28;43mself\u001B[39;49m\u001B[38;5;241;43m.\u001B[39;49m\u001B[43mbits\u001B[49m\u001B[43m[\u001B[49m\u001B[43mj\u001B[49m\u001B[43m]\u001B[49m\u001B[43m]\u001B[49m\u001B[43m \u001B[49m\u001B[38;5;28;43;01mfor\u001B[39;49;00m\u001B[43m \u001B[49m\u001B[43mi\u001B[49m\u001B[43m \u001B[49m\u001B[38;5;129;43;01min\u001B[39;49;00m\u001B[43m \u001B[49m\u001B[38;5;28;43mrange\u001B[39;49m\u001B[43m(\u001B[49m\u001B[43mnum_luts\u001B[49m\u001B[43m)\u001B[49m\u001B[43m]\u001B[49m\u001B[43m,\u001B[49m\n\u001B[1;32m    185\u001B[0m \u001B[43m    \u001B[49m\u001B[43m)\u001B[49m\n\u001B[1;32m    186\u001B[0m )\n\u001B[1;32m    188\u001B[0m \u001B[38;5;66;03m# remember the output columns and the tie cases\u001B[39;00m\n\u001B[1;32m    189\u001B[0m \u001B[38;5;28mself\u001B[39m\u001B[38;5;241m.\u001B[39mlut_arr_\u001B[38;5;241m.\u001B[39mappend(tmp[:, :\u001B[38;5;241m2\u001B[39m\u001B[38;5;241m*\u001B[39m\u001B[38;5;241m*\u001B[39m\u001B[38;5;28mself\u001B[39m\u001B[38;5;241m.\u001B[39mbits[j]]\u001B[38;5;241m.\u001B[39mcopy())\n",
      "File \u001B[0;32m~/miniforge3/envs/rule-net/lib/python3.10/multiprocessing/pool.py:375\u001B[0m, in \u001B[0;36mPool.starmap\u001B[0;34m(self, func, iterable, chunksize)\u001B[0m\n\u001B[1;32m    369\u001B[0m \u001B[38;5;28;01mdef\u001B[39;00m \u001B[38;5;21mstarmap\u001B[39m(\u001B[38;5;28mself\u001B[39m, func, iterable, chunksize\u001B[38;5;241m=\u001B[39m\u001B[38;5;28;01mNone\u001B[39;00m):\n\u001B[1;32m    370\u001B[0m \u001B[38;5;250m    \u001B[39m\u001B[38;5;124;03m'''\u001B[39;00m\n\u001B[1;32m    371\u001B[0m \u001B[38;5;124;03m    Like `map()` method but the elements of the `iterable` are expected to\u001B[39;00m\n\u001B[1;32m    372\u001B[0m \u001B[38;5;124;03m    be iterables as well and will be unpacked as arguments. Hence\u001B[39;00m\n\u001B[1;32m    373\u001B[0m \u001B[38;5;124;03m    `func` and (a, b) becomes func(a, b).\u001B[39;00m\n\u001B[1;32m    374\u001B[0m \u001B[38;5;124;03m    '''\u001B[39;00m\n\u001B[0;32m--> 375\u001B[0m     \u001B[38;5;28;01mreturn\u001B[39;00m \u001B[38;5;28;43mself\u001B[39;49m\u001B[38;5;241;43m.\u001B[39;49m\u001B[43m_map_async\u001B[49m\u001B[43m(\u001B[49m\u001B[43mfunc\u001B[49m\u001B[43m,\u001B[49m\u001B[43m \u001B[49m\u001B[43miterable\u001B[49m\u001B[43m,\u001B[49m\u001B[43m \u001B[49m\u001B[43mstarmapstar\u001B[49m\u001B[43m,\u001B[49m\u001B[43m \u001B[49m\u001B[43mchunksize\u001B[49m\u001B[43m)\u001B[49m\u001B[38;5;241;43m.\u001B[39;49m\u001B[43mget\u001B[49m\u001B[43m(\u001B[49m\u001B[43m)\u001B[49m\n",
      "File \u001B[0;32m~/miniforge3/envs/rule-net/lib/python3.10/multiprocessing/pool.py:768\u001B[0m, in \u001B[0;36mApplyResult.get\u001B[0;34m(self, timeout)\u001B[0m\n\u001B[1;32m    767\u001B[0m \u001B[38;5;28;01mdef\u001B[39;00m \u001B[38;5;21mget\u001B[39m(\u001B[38;5;28mself\u001B[39m, timeout\u001B[38;5;241m=\u001B[39m\u001B[38;5;28;01mNone\u001B[39;00m):\n\u001B[0;32m--> 768\u001B[0m     \u001B[38;5;28;43mself\u001B[39;49m\u001B[38;5;241;43m.\u001B[39;49m\u001B[43mwait\u001B[49m\u001B[43m(\u001B[49m\u001B[43mtimeout\u001B[49m\u001B[43m)\u001B[49m\n\u001B[1;32m    769\u001B[0m     \u001B[38;5;28;01mif\u001B[39;00m \u001B[38;5;129;01mnot\u001B[39;00m \u001B[38;5;28mself\u001B[39m\u001B[38;5;241m.\u001B[39mready():\n\u001B[1;32m    770\u001B[0m         \u001B[38;5;28;01mraise\u001B[39;00m \u001B[38;5;167;01mTimeoutError\u001B[39;00m\n",
      "File \u001B[0;32m~/miniforge3/envs/rule-net/lib/python3.10/multiprocessing/pool.py:765\u001B[0m, in \u001B[0;36mApplyResult.wait\u001B[0;34m(self, timeout)\u001B[0m\n\u001B[1;32m    764\u001B[0m \u001B[38;5;28;01mdef\u001B[39;00m \u001B[38;5;21mwait\u001B[39m(\u001B[38;5;28mself\u001B[39m, timeout\u001B[38;5;241m=\u001B[39m\u001B[38;5;28;01mNone\u001B[39;00m):\n\u001B[0;32m--> 765\u001B[0m     \u001B[38;5;28;43mself\u001B[39;49m\u001B[38;5;241;43m.\u001B[39;49m\u001B[43m_event\u001B[49m\u001B[38;5;241;43m.\u001B[39;49m\u001B[43mwait\u001B[49m\u001B[43m(\u001B[49m\u001B[43mtimeout\u001B[49m\u001B[43m)\u001B[49m\n",
      "File \u001B[0;32m~/miniforge3/envs/rule-net/lib/python3.10/threading.py:607\u001B[0m, in \u001B[0;36mEvent.wait\u001B[0;34m(self, timeout)\u001B[0m\n\u001B[1;32m    605\u001B[0m signaled \u001B[38;5;241m=\u001B[39m \u001B[38;5;28mself\u001B[39m\u001B[38;5;241m.\u001B[39m_flag\n\u001B[1;32m    606\u001B[0m \u001B[38;5;28;01mif\u001B[39;00m \u001B[38;5;129;01mnot\u001B[39;00m signaled:\n\u001B[0;32m--> 607\u001B[0m     signaled \u001B[38;5;241m=\u001B[39m \u001B[38;5;28;43mself\u001B[39;49m\u001B[38;5;241;43m.\u001B[39;49m\u001B[43m_cond\u001B[49m\u001B[38;5;241;43m.\u001B[39;49m\u001B[43mwait\u001B[49m\u001B[43m(\u001B[49m\u001B[43mtimeout\u001B[49m\u001B[43m)\u001B[49m\n\u001B[1;32m    608\u001B[0m \u001B[38;5;28;01mreturn\u001B[39;00m signaled\n",
      "File \u001B[0;32m~/miniforge3/envs/rule-net/lib/python3.10/threading.py:320\u001B[0m, in \u001B[0;36mCondition.wait\u001B[0;34m(self, timeout)\u001B[0m\n\u001B[1;32m    318\u001B[0m \u001B[38;5;28;01mtry\u001B[39;00m:    \u001B[38;5;66;03m# restore state no matter what (e.g., KeyboardInterrupt)\u001B[39;00m\n\u001B[1;32m    319\u001B[0m     \u001B[38;5;28;01mif\u001B[39;00m timeout \u001B[38;5;129;01mis\u001B[39;00m \u001B[38;5;28;01mNone\u001B[39;00m:\n\u001B[0;32m--> 320\u001B[0m         \u001B[43mwaiter\u001B[49m\u001B[38;5;241;43m.\u001B[39;49m\u001B[43macquire\u001B[49m\u001B[43m(\u001B[49m\u001B[43m)\u001B[49m\n\u001B[1;32m    321\u001B[0m         gotit \u001B[38;5;241m=\u001B[39m \u001B[38;5;28;01mTrue\u001B[39;00m\n\u001B[1;32m    322\u001B[0m     \u001B[38;5;28;01melse\u001B[39;00m:\n",
      "\u001B[0;31mKeyboardInterrupt\u001B[0m: "
     ]
    }
   ],
   "execution_count": 6
  },
  {
   "cell_type": "code",
   "execution_count": null,
   "id": "13cd093d5d3adde5",
   "metadata": {
    "collapsed": false
   },
   "outputs": [],
   "source": []
  }
 ],
 "metadata": {
  "kernelspec": {
   "display_name": "Python 3 (ipykernel)",
   "language": "python",
   "name": "python3"
  },
  "language_info": {
   "codemirror_mode": {
    "name": "ipython",
    "version": 3
   },
   "file_extension": ".py",
   "mimetype": "text/x-python",
   "name": "python",
   "nbconvert_exporter": "python",
   "pygments_lexer": "ipython3",
   "version": "3.10.13"
  }
 },
 "nbformat": 4,
 "nbformat_minor": 5
}
