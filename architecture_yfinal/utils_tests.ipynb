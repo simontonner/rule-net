{
 "cells": [
  {
   "metadata": {
    "ExecuteTime": {
     "end_time": "2025-09-10T17:26:29.320135Z",
     "start_time": "2025-09-10T17:26:29.215441Z"
    }
   },
   "cell_type": "code",
   "source": [
    "import numpy as np\n",
    "from architecture_yfinal.utils import truth_table_patterns, truth_table_indices"
   ],
   "id": "5ff71b44228e1e27",
   "outputs": [],
   "execution_count": 2
  },
  {
   "metadata": {
    "ExecuteTime": {
     "end_time": "2025-09-10T17:26:30.587975Z",
     "start_time": "2025-09-10T17:26:30.582936Z"
    }
   },
   "cell_type": "code",
   "source": [
    "# testing for standard schema of a typical truth table with 3 bits\n",
    "\n",
    "reference_patterns = np.array(\n",
    "    [\n",
    "        [1, 1, 1],\n",
    "        [1, 1, 0],\n",
    "        [1, 0, 1],\n",
    "        [1, 0, 0],\n",
    "        [0, 1, 1],\n",
    "        [0, 1, 0],\n",
    "        [0, 0, 1],\n",
    "        [0, 0, 0],\n",
    "    ],\n",
    "    dtype=bool)\n",
    "\n",
    "test_patterns = truth_table_patterns(3)\n",
    "assert np.array_equal(reference_patterns, test_patterns), \"truth_table_patterns mismatch\""
   ],
   "id": "124ab221da1c76be",
   "outputs": [],
   "execution_count": 3
  },
  {
   "metadata": {
    "collapsed": true,
    "ExecuteTime": {
     "end_time": "2025-09-11T13:16:18.087681Z",
     "start_time": "2025-09-11T13:16:18.076631Z"
    }
   },
   "cell_type": "code",
   "source": [
    "import numpy as np\n",
    "from architecture_yfinal.utils import truth_table_patterns, truth_table_indices\n",
    "\n",
    "# --- test ---\n",
    "num_bits = 4\n",
    "reference_patterns = truth_table_patterns(num_bits)\n",
    "\n",
    "# generate 100 random bit patterns\n",
    "rng = np.random.default_rng(42)\n",
    "random_patterns = rng.integers(0, 2, size=(100, num_bits), dtype=np.uint8).astype(bool)\n",
    "\n",
    "# compute their indices\n",
    "indices = truth_table_indices(random_patterns)\n",
    "\n",
    "# look up rows from reference\n",
    "looked_up = reference_patterns[indices]\n",
    "\n",
    "# check\n",
    "if np.array_equal(random_patterns, looked_up):\n",
    "    print(\"Test passed! All patterns map correctly.\")\n",
    "else:\n",
    "    print(\"Test failed. Showing first mismatches:\\n\")\n",
    "    mismatches = np.where(~(random_patterns == looked_up).all(axis=1))[0]\n",
    "    for i in mismatches[:5]:  # show up to 5 mismatches\n",
    "        print(f\"Pattern {random_patterns[i].astype(int)} \"\n",
    "              f\"→ index {indices[i]} \"\n",
    "              f\"→ reference {looked_up[i].astype(int)}\")"
   ],
   "id": "initial_id",
   "outputs": [
    {
     "name": "stdout",
     "output_type": "stream",
     "text": [
      "Test passed! All patterns map correctly.\n"
     ]
    }
   ],
   "execution_count": 5
  }
 ],
 "metadata": {
  "kernelspec": {
   "display_name": "Python 3",
   "language": "python",
   "name": "python3"
  },
  "language_info": {
   "codemirror_mode": {
    "name": "ipython",
    "version": 2
   },
   "file_extension": ".py",
   "mimetype": "text/x-python",
   "name": "python",
   "nbconvert_exporter": "python",
   "pygments_lexer": "ipython2",
   "version": "2.7.6"
  }
 },
 "nbformat": 4,
 "nbformat_minor": 5
}
