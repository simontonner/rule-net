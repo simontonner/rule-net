{
 "cells": [
  {
   "cell_type": "code",
   "id": "c6a2c6a30c4da1f0",
   "metadata": {
    "ExecuteTime": {
     "end_time": "2025-09-11T13:14:16.749978Z",
     "start_time": "2025-09-11T13:14:16.196984Z"
    }
   },
   "source": [
    "import pandas as pd\n",
    "\n",
    "from sympy import lambdify, symbols\n",
    "\n",
    "from architecture_yfinal.node_development import make_ripper_node"
   ],
   "outputs": [],
   "execution_count": 1
  },
  {
   "metadata": {
    "ExecuteTime": {
     "end_time": "2025-09-11T13:15:41.126351Z",
     "start_time": "2025-09-11T13:15:40.982132Z"
    }
   },
   "cell_type": "code",
   "source": [
    "dataset_df = pd.read_csv(\"../data/10_bit_artificial/107.csv\")\n",
    "X = dataset_df.drop(columns=\"class\").to_numpy(bool)\n",
    "y = dataset_df[\"class\"].to_numpy(bool)\n",
    "\n",
    "chosen_columns = [0, 1, 2, 3, 5, 6]  # example chosen columns\n",
    "input_values = X[:, chosen_columns]\n",
    "input_names = [f\"L0N{i}\" for i in chosen_columns]\n",
    "target_values = y\n",
    "\n",
    "node = make_ripper_node(\"L1N0\", input_names, input_values, target_values, seed=42)\n",
    "\n",
    "print(node.input_names)\n",
    "print(node.get_expression())\n",
    "node.reduce_expression()\n",
    "print(node.get_expression())"
   ],
   "id": "5a2a8380db40107b",
   "outputs": [
    {
     "name": "stdout",
     "output_type": "stream",
     "text": [
      "['L0N0', 'L0N1', 'L0N2', 'L0N3', 'L0N5', 'L0N6']\n",
      "(L0N3 & ~L0N1) | (L0N6 & ~L0N1) | (L0N2 & ~L0N1 & ~L0N3) | (L0N6 & ~L0N0 & ~L0N3 & ~L0N5) | (L0N6 & ~L0N2 & ~L0N3 & ~L0N5)\n",
      "(L0N2 & ~L0N1) | (L0N3 & ~L0N1) | (L0N6 & ~L0N1) | (L0N6 & ~L0N0 & ~L0N3 & ~L0N5) | (L0N6 & ~L0N2 & ~L0N3 & ~L0N5)\n"
     ]
    }
   ],
   "execution_count": 6
  },
  {
   "metadata": {
    "ExecuteTime": {
     "end_time": "2025-09-11T13:15:43.997505Z",
     "start_time": "2025-09-11T13:15:43.984836Z"
    }
   },
   "cell_type": "code",
   "source": [
    "# get truth table and name each column\n",
    "\n",
    "truth_table, column_names = node.get_truth_table()\n",
    "truth_table_df = pd.DataFrame(truth_table, columns=column_names)\n",
    "\n",
    "# specifically access table columns and use them to verify the expression\n",
    "input_arrays = [truth_table_df[n].values for n in node.input_names]\n",
    "\n",
    "expression_symbols = [symbols(n) for n in node.input_names]\n",
    "expression_function = lambdify(expression_symbols, node.get_expression(), \"numpy\")\n",
    "expression_output = expression_function(*input_arrays)\n",
    "\n",
    "comparison_df = truth_table_df.copy()\n",
    "comparison_df = comparison_df.rename(columns={column_names[-1]: \"truth_table\"})\n",
    "comparison_df[\"expression\"] = expression_output.astype(bool)\n",
    "\n",
    "all_match = (comparison_df[\"truth_table\"] == comparison_df[\"expression\"]).all()\n",
    "print(\"Truth table matches expression evaluation:\", all_match)\n",
    "\n",
    "comparison_df"
   ],
   "id": "10239da3d22e3a51",
   "outputs": [
    {
     "name": "stdout",
     "output_type": "stream",
     "text": [
      "Truth table matches expression evaluation: True\n"
     ]
    },
    {
     "data": {
      "text/plain": [
       "     L0N0   L0N1   L0N2   L0N3   L0N5   L0N6  truth_table  expression\n",
       "0    True   True   True   True   True   True        False       False\n",
       "1    True   True   True   True   True  False        False       False\n",
       "2    True   True   True   True  False   True        False       False\n",
       "3    True   True   True   True  False  False        False       False\n",
       "4    True   True   True  False   True   True        False       False\n",
       "..    ...    ...    ...    ...    ...    ...          ...         ...\n",
       "59  False  False  False   True  False  False         True        True\n",
       "60  False  False  False  False   True   True         True        True\n",
       "61  False  False  False  False   True  False        False       False\n",
       "62  False  False  False  False  False   True         True        True\n",
       "63  False  False  False  False  False  False        False       False\n",
       "\n",
       "[64 rows x 8 columns]"
      ],
      "text/html": [
       "<div>\n",
       "<style scoped>\n",
       "    .dataframe tbody tr th:only-of-type {\n",
       "        vertical-align: middle;\n",
       "    }\n",
       "\n",
       "    .dataframe tbody tr th {\n",
       "        vertical-align: top;\n",
       "    }\n",
       "\n",
       "    .dataframe thead th {\n",
       "        text-align: right;\n",
       "    }\n",
       "</style>\n",
       "<table border=\"1\" class=\"dataframe\">\n",
       "  <thead>\n",
       "    <tr style=\"text-align: right;\">\n",
       "      <th></th>\n",
       "      <th>L0N0</th>\n",
       "      <th>L0N1</th>\n",
       "      <th>L0N2</th>\n",
       "      <th>L0N3</th>\n",
       "      <th>L0N5</th>\n",
       "      <th>L0N6</th>\n",
       "      <th>truth_table</th>\n",
       "      <th>expression</th>\n",
       "    </tr>\n",
       "  </thead>\n",
       "  <tbody>\n",
       "    <tr>\n",
       "      <th>0</th>\n",
       "      <td>True</td>\n",
       "      <td>True</td>\n",
       "      <td>True</td>\n",
       "      <td>True</td>\n",
       "      <td>True</td>\n",
       "      <td>True</td>\n",
       "      <td>False</td>\n",
       "      <td>False</td>\n",
       "    </tr>\n",
       "    <tr>\n",
       "      <th>1</th>\n",
       "      <td>True</td>\n",
       "      <td>True</td>\n",
       "      <td>True</td>\n",
       "      <td>True</td>\n",
       "      <td>True</td>\n",
       "      <td>False</td>\n",
       "      <td>False</td>\n",
       "      <td>False</td>\n",
       "    </tr>\n",
       "    <tr>\n",
       "      <th>2</th>\n",
       "      <td>True</td>\n",
       "      <td>True</td>\n",
       "      <td>True</td>\n",
       "      <td>True</td>\n",
       "      <td>False</td>\n",
       "      <td>True</td>\n",
       "      <td>False</td>\n",
       "      <td>False</td>\n",
       "    </tr>\n",
       "    <tr>\n",
       "      <th>3</th>\n",
       "      <td>True</td>\n",
       "      <td>True</td>\n",
       "      <td>True</td>\n",
       "      <td>True</td>\n",
       "      <td>False</td>\n",
       "      <td>False</td>\n",
       "      <td>False</td>\n",
       "      <td>False</td>\n",
       "    </tr>\n",
       "    <tr>\n",
       "      <th>4</th>\n",
       "      <td>True</td>\n",
       "      <td>True</td>\n",
       "      <td>True</td>\n",
       "      <td>False</td>\n",
       "      <td>True</td>\n",
       "      <td>True</td>\n",
       "      <td>False</td>\n",
       "      <td>False</td>\n",
       "    </tr>\n",
       "    <tr>\n",
       "      <th>...</th>\n",
       "      <td>...</td>\n",
       "      <td>...</td>\n",
       "      <td>...</td>\n",
       "      <td>...</td>\n",
       "      <td>...</td>\n",
       "      <td>...</td>\n",
       "      <td>...</td>\n",
       "      <td>...</td>\n",
       "    </tr>\n",
       "    <tr>\n",
       "      <th>59</th>\n",
       "      <td>False</td>\n",
       "      <td>False</td>\n",
       "      <td>False</td>\n",
       "      <td>True</td>\n",
       "      <td>False</td>\n",
       "      <td>False</td>\n",
       "      <td>True</td>\n",
       "      <td>True</td>\n",
       "    </tr>\n",
       "    <tr>\n",
       "      <th>60</th>\n",
       "      <td>False</td>\n",
       "      <td>False</td>\n",
       "      <td>False</td>\n",
       "      <td>False</td>\n",
       "      <td>True</td>\n",
       "      <td>True</td>\n",
       "      <td>True</td>\n",
       "      <td>True</td>\n",
       "    </tr>\n",
       "    <tr>\n",
       "      <th>61</th>\n",
       "      <td>False</td>\n",
       "      <td>False</td>\n",
       "      <td>False</td>\n",
       "      <td>False</td>\n",
       "      <td>True</td>\n",
       "      <td>False</td>\n",
       "      <td>False</td>\n",
       "      <td>False</td>\n",
       "    </tr>\n",
       "    <tr>\n",
       "      <th>62</th>\n",
       "      <td>False</td>\n",
       "      <td>False</td>\n",
       "      <td>False</td>\n",
       "      <td>False</td>\n",
       "      <td>False</td>\n",
       "      <td>True</td>\n",
       "      <td>True</td>\n",
       "      <td>True</td>\n",
       "    </tr>\n",
       "    <tr>\n",
       "      <th>63</th>\n",
       "      <td>False</td>\n",
       "      <td>False</td>\n",
       "      <td>False</td>\n",
       "      <td>False</td>\n",
       "      <td>False</td>\n",
       "      <td>False</td>\n",
       "      <td>False</td>\n",
       "      <td>False</td>\n",
       "    </tr>\n",
       "  </tbody>\n",
       "</table>\n",
       "<p>64 rows × 8 columns</p>\n",
       "</div>"
      ]
     },
     "execution_count": 7,
     "metadata": {},
     "output_type": "execute_result"
    }
   ],
   "execution_count": 7
  },
  {
   "metadata": {
    "ExecuteTime": {
     "end_time": "2025-09-11T13:15:46.199382Z",
     "start_time": "2025-09-11T13:15:46.188896Z"
    }
   },
   "cell_type": "code",
   "source": [
    "#### test the node with homogeneous data\n",
    "\n",
    "import numpy as np\n",
    "\n",
    "input_names = [\"A\", \"B\", \"C\"]\n",
    "\n",
    "\n",
    "homogenous_input = np.zeros((100, 3), dtype=bool)\n",
    "homogenous_target = [True]*100\n",
    "\n",
    "# train the node with homogenous input\n",
    "homogenous_node = make_ripper_node(\"L1N0\", input_names, homogenous_input, homogenous_target, seed=42)\n",
    "\n",
    "print(homogenous_node.get_truth_table())"
   ],
   "id": "985784c87fc34b07",
   "outputs": [
    {
     "name": "stdout",
     "output_type": "stream",
     "text": [
      "(array([[False]]), ['L1N0 (output)'])\n"
     ]
    },
    {
     "name": "stderr",
     "output_type": "stream",
     "text": [
      "ripper.py: .fit: RuntimeWarning: \n",
      "No negative samples. Existing target labels=[True].\n",
      "\n",
      "ripper.py: .fit | base.py: ._check_allpos_allneg: RuntimeWarning: \n",
      "Ruleset is empty. All predictions it makes with method .predict will be negative. It may be untrained or was trained on a dataset split lacking positive examples.\n",
      "\n"
     ]
    }
   ],
   "execution_count": 8
  },
  {
   "metadata": {},
   "cell_type": "code",
   "outputs": [],
   "execution_count": null,
   "source": "",
   "id": "a0d1d21a9d2652ae"
  }
 ],
 "metadata": {
  "kernelspec": {
   "display_name": "Python 3",
   "language": "python",
   "name": "python3"
  },
  "language_info": {
   "codemirror_mode": {
    "name": "ipython",
    "version": 2
   },
   "file_extension": ".py",
   "mimetype": "text/x-python",
   "name": "python",
   "nbconvert_exporter": "python",
   "pygments_lexer": "ipython2",
   "version": "2.7.6"
  }
 },
 "nbformat": 4,
 "nbformat_minor": 5
}
