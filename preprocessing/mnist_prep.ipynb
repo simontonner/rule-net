{
 "cells": [
  {
   "metadata": {},
   "cell_type": "markdown",
   "source": [
    "# MNIST Dataset Preparation\n",
    "\n",
    "We first need to download the MNIST dataset. Since the classical link from Yann LeCun is no longer available, we will use the gzipped files from the Google Cloud Storage bucket.\n",
    "\n",
    "- [Google MNIST Train Images](https://storage.googleapis.com/cvdf-datasets/mnist/train-images-idx3-ubyte.gz)\n",
    "- [Google MNIST Train Labels](https://storage.googleapis.com/cvdf-datasets/mnist/train-labels-idx1-ubyte.gz)\n",
    "- [Google MNIST Test Images](https://storage.googleapis.com/cvdf-datasets/mnist/t10k-images-idx3-ubyte.gz)\n",
    "- [Google MNIST Test Labels](https://storage.googleapis.com/cvdf-datasets/mnist/t10k-labels-idx1-ubyte.gz)\n",
    "\n",
    "Since each image consists of 784 pixels, we will scale it down first with the Lanczos filter to 14x14 pixels. The Lanczos filter is chosen because it preserves fine details such as thin strokes and holes (e.g., in the digit 8) without making already thick digits appear even fatter.\n",
    "\n",
    "After downscaling, the images are binarized with a global threshold of 0.5. The labels are binarized in a way such that the digits 0-4 are labelled as 0 and the digits 5-9 are labelled as 1.\n",
    "\n",
    "Since the training takes long in some instances, the training set is limited to 10,000 samples and the test set to 1,500 samples. Since we are dealing only with 196 features, everything can be stored in a single CSV file with 197 columns."
   ],
   "id": "c03732051af3a8ef"
  },
  {
   "metadata": {
    "ExecuteTime": {
     "end_time": "2025-04-30T18:11:28.799435Z",
     "start_time": "2025-04-30T18:11:28.795993Z"
    }
   },
   "cell_type": "code",
   "source": [
    "import os\n",
    "import requests\n",
    "import gzip\n",
    "\n",
    "import numpy as np\n",
    "import pandas as pd\n",
    "from tqdm import tqdm\n",
    "import matplotlib.pyplot as plt\n",
    "from PIL import Image"
   ],
   "id": "d9db986de5c138ee",
   "outputs": [],
   "execution_count": 3
  },
  {
   "metadata": {
    "collapsed": true,
    "ExecuteTime": {
     "end_time": "2025-04-30T18:11:29.356959Z",
     "start_time": "2025-04-30T18:11:29.341173Z"
    }
   },
   "cell_type": "code",
   "source": [
    "# download the raw MNIST dataset if not already present\n",
    "\n",
    "data_dir = \"../data/mnist\"\n",
    "\n",
    "base_url = \"https://storage.googleapis.com/cvdf-datasets/mnist/\"\n",
    "\n",
    "files = {\n",
    "    \"train_images\": \"train-images-idx3-ubyte.gz\",\n",
    "    \"train_labels\": \"train-labels-idx1-ubyte.gz\",\n",
    "    \"test_images\": \"t10k-images-idx3-ubyte.gz\",\n",
    "    \"test_labels\": \"t10k-labels-idx1-ubyte.gz\",\n",
    "}\n",
    "\n",
    "for key, filename in files.items():\n",
    "    path = os.path.join(data_dir, filename)\n",
    "\n",
    "    if os.path.exists(path):\n",
    "        print(f\"{filename} already downloaded.\")\n",
    "        continue\n",
    "\n",
    "    url = base_url + filename\n",
    "    response = requests.get(url, stream=True)\n",
    "\n",
    "    if response.status_code != 200:\n",
    "        raise RuntimeError(f\"Failed to download {filename}, error: {response.status_code}\")\n",
    "\n",
    "    download_desc = f\"Downloading {filename}\"\n",
    "    size = int(response.headers.get('content-length', 0))\n",
    "    tqdm_bar = tqdm(desc=download_desc, total=size, unit='B', unit_scale=True)\n",
    "    with open(path, \"wb\") as f, tqdm_bar:\n",
    "        for chunk in response.iter_content(chunk_size=1024):\n",
    "            f.write(chunk)\n",
    "            tqdm_bar.update(len(chunk))"
   ],
   "id": "initial_id",
   "outputs": [
    {
     "name": "stdout",
     "output_type": "stream",
     "text": [
      "train-images-idx3-ubyte.gz already downloaded.\n",
      "train-labels-idx1-ubyte.gz already downloaded.\n",
      "t10k-images-idx3-ubyte.gz already downloaded.\n",
      "t10k-labels-idx1-ubyte.gz already downloaded.\n"
     ]
    }
   ],
   "execution_count": 4
  },
  {
   "metadata": {
    "ExecuteTime": {
     "end_time": "2025-04-30T18:11:30.939111Z",
     "start_time": "2025-04-30T18:11:30.748382Z"
    }
   },
   "cell_type": "code",
   "source": [
    "def load_mnist(img_path, label_path):\n",
    "    with gzip.open(img_path, 'rb') as f:\n",
    "        f.read(16)  # skip header\n",
    "        image_data = f.read()\n",
    "        images = np.frombuffer(image_data, dtype=np.uint8).reshape(-1, 28, 28)\n",
    "\n",
    "    with gzip.open(label_path, 'rb') as f:\n",
    "        f.read(8)  # skip header\n",
    "        labels = np.frombuffer(f.read(), dtype=np.uint8)\n",
    "\n",
    "    assert len(images) == len(labels), \"Mismatch between image and label count\"\n",
    "    return images, labels\n",
    "\n",
    "\n",
    "def sample_mnist(images, labels, num_samples=10000, shuffle=True):\n",
    "    if shuffle:\n",
    "        idx = np.random.permutation(len(images))\n",
    "        images = images[idx]\n",
    "        labels = labels[idx]\n",
    "    return images[:num_samples], labels[:num_samples]\n",
    "\n",
    "\n",
    "# loading a subset of MNIST\n",
    "\n",
    "test_img_path = os.path.join(data_dir, files[\"test_images\"])\n",
    "test_label_path = os.path.join(data_dir, files[\"test_labels\"])\n",
    "test_images, test_labels = load_mnist(test_img_path, test_label_path)\n",
    "\n",
    "test_images, test_labels = sample_mnist(test_images, test_labels, num_samples=1_500)\n",
    "\n",
    "train_img_path = os.path.join(data_dir, files[\"train_images\"])\n",
    "train_label_path = os.path.join(data_dir, files[\"train_labels\"])\n",
    "train_images, train_labels = load_mnist(train_img_path, train_label_path)\n",
    "train_images, train_labels = sample_mnist(train_images, train_labels, num_samples=10_000)"
   ],
   "id": "96a18620401d0caa",
   "outputs": [],
   "execution_count": 5
  },
  {
   "metadata": {
    "ExecuteTime": {
     "end_time": "2025-04-30T18:11:31.863205Z",
     "start_time": "2025-04-30T18:11:31.610170Z"
    }
   },
   "cell_type": "code",
   "source": [
    "# downscale and binarize\n",
    "\n",
    "def downscale(images, new_size=(14, 14)):\n",
    "    for image in images:\n",
    "        pil_img = Image.fromarray(image)\n",
    "        small_img = pil_img.resize(new_size, Image.Resampling.LANCZOS)\n",
    "        yield np.array(small_img)\n",
    "\n",
    "def binarize(images, threshold=0.5):\n",
    "    for image in images:\n",
    "        yield (image / 255.0 > threshold).astype(np.uint8)\n",
    "\n",
    "# downscale images and binarize everything\n",
    "test_images_down = np.array(list(downscale(test_images)))\n",
    "test_images_bin = np.array(list(binarize(test_images_down)))\n",
    "test_labels_bin = np.array([1 if label >= 5 else 0 for label in test_labels])\n",
    "\n",
    "train_images_down = np.array(list(downscale(train_images)))\n",
    "train_images_bin = np.array(list(binarize(train_images_down)))\n",
    "train_labels_bin = np.array([1 if label >= 5 else 0 for label in train_labels])"
   ],
   "id": "4b19f3a559151de6",
   "outputs": [],
   "execution_count": 6
  },
  {
   "metadata": {
    "ExecuteTime": {
     "end_time": "2025-04-30T18:11:33.565670Z",
     "start_time": "2025-04-30T18:11:33.249223Z"
    }
   },
   "cell_type": "code",
   "source": [
    "def print_samples(images, labels, elements_per_row=10, fig_width=10, cmap=\"binary\", show_titles=True):\n",
    "    num_digits = len(images)\n",
    "    num_rows = (num_digits + elements_per_row - 1) // elements_per_row\n",
    "\n",
    "    fig_height = fig_width / elements_per_row * num_rows\n",
    "    fig, axes = plt.subplots(num_rows, elements_per_row, figsize=(fig_width, fig_height))\n",
    "\n",
    "    axes = axes.flatten() if num_rows > 1 else axes\n",
    "\n",
    "    for idx in range(len(axes)):\n",
    "        ax = axes[idx]\n",
    "        ax.axis('off')\n",
    "        if idx < num_digits:\n",
    "            ax.imshow(images[idx].squeeze(), cmap=cmap)\n",
    "            if show_titles:\n",
    "                ax.set_title(str(labels[idx]), fontsize=10, pad=2)\n",
    "            ax.set_aspect('equal')  # force square aspect\n",
    "\n",
    "    plt.subplots_adjust(wspace=0.1, hspace=0.3 if show_titles else 0.1)\n",
    "    plt.show()\n",
    "\n",
    "\n",
    "\n",
    "# use the same demo_indices for raw and binarized images\n",
    "demo_labels = [0, 1, 2, 3, 4, 5, 6, 7, 8, 9]\n",
    "demo_indices = [np.where(train_labels == label)[0][0] for label in demo_labels]\n",
    "\n",
    "demo_images = train_images[demo_indices]\n",
    "demo_images_bin = train_images_bin[demo_indices]\n",
    "demo_labels_bin = train_labels_bin[demo_indices]\n",
    "print_samples(demo_images, demo_labels, elements_per_row=10, fig_width=10, cmap=\"gray_r\", show_titles=True)\n",
    "print_samples(demo_images_bin, demo_labels_bin, elements_per_row=10, fig_width=10, cmap=\"gray_r\", show_titles=True)"
   ],
   "id": "3076b18e69fec253",
   "outputs": [
    {
     "data": {
      "text/plain": [
       "<Figure size 1000x100 with 10 Axes>"
      ],
      "image/png": "[encoded data removed]"
     },
     "metadata": {},
     "output_type": "display_data"
    },
    {
     "data": {
      "text/plain": [
       "<Figure size 1000x100 with 10 Axes>"
      ],
      "image/png": "[encoded data removed]"
     },
     "metadata": {},
     "output_type": "display_data"
    }
   ],
   "execution_count": 7
  },
  {
   "metadata": {
    "ExecuteTime": {
     "end_time": "2025-04-30T18:11:37.376714Z",
     "start_time": "2025-04-30T18:11:37.334446Z"
    }
   },
   "cell_type": "code",
   "source": [
    "num_pixels = 196\n",
    "pixel_labels = [f\"p{i}\" for i in range(num_pixels)]\n",
    "\n",
    "test_df = pd.DataFrame(test_images_bin.reshape(-1, num_pixels), columns=pixel_labels)\n",
    "test_df['label'] = test_labels_bin\n",
    "test_df = test_df.astype({col: 'bool' for col in pixel_labels + ['label']})\n",
    "\n",
    "train_df = pd.DataFrame(train_images_bin.reshape(-1, num_pixels), columns=pixel_labels)\n",
    "train_df['label'] = train_labels_bin\n",
    "train_df = train_df.astype({col: 'bool' for col in pixel_labels + ['label']})\n",
    "\n",
    "train_df.head()"
   ],
   "id": "ca0510e16cef01e0",
   "outputs": [
    {
     "data": {
      "text/plain": [
       "      p0     p1     p2     p3     p4     p5     p6     p7     p8     p9  ...  \\\n",
       "0  False  False  False  False  False  False  False  False  False  False  ...   \n",
       "1  False  False  False  False  False  False  False  False  False  False  ...   \n",
       "2  False  False  False  False  False  False  False  False  False  False  ...   \n",
       "3  False  False  False  False  False  False  False  False  False  False  ...   \n",
       "4  False  False  False  False  False  False  False  False  False  False  ...   \n",
       "\n",
       "    p187   p188   p189   p190   p191   p192   p193   p194   p195  label  \n",
       "0  False  False  False  False  False  False  False  False  False   True  \n",
       "1  False  False  False  False  False  False  False  False  False  False  \n",
       "2  False  False  False  False  False  False  False  False  False  False  \n",
       "3  False  False  False  False  False  False  False  False  False  False  \n",
       "4  False  False  False  False  False  False  False  False  False   True  \n",
       "\n",
       "[5 rows x 197 columns]"
      ],
      "text/html": [
       "<div>\n",
       "<style scoped>\n",
       "    .dataframe tbody tr th:only-of-type {\n",
       "        vertical-align: middle;\n",
       "    }\n",
       "\n",
       "    .dataframe tbody tr th {\n",
       "        vertical-align: top;\n",
       "    }\n",
       "\n",
       "    .dataframe thead th {\n",
       "        text-align: right;\n",
       "    }\n",
       "</style>\n",
       "<table border=\"1\" class=\"dataframe\">\n",
       "  <thead>\n",
       "    <tr style=\"text-align: right;\">\n",
       "      <th></th>\n",
       "      <th>p0</th>\n",
       "      <th>p1</th>\n",
       "      <th>p2</th>\n",
       "      <th>p3</th>\n",
       "      <th>p4</th>\n",
       "      <th>p5</th>\n",
       "      <th>p6</th>\n",
       "      <th>p7</th>\n",
       "      <th>p8</th>\n",
       "      <th>p9</th>\n",
       "      <th>...</th>\n",
       "      <th>p187</th>\n",
       "      <th>p188</th>\n",
       "      <th>p189</th>\n",
       "      <th>p190</th>\n",
       "      <th>p191</th>\n",
       "      <th>p192</th>\n",
       "      <th>p193</th>\n",
       "      <th>p194</th>\n",
       "      <th>p195</th>\n",
       "      <th>label</th>\n",
       "    </tr>\n",
       "  </thead>\n",
       "  <tbody>\n",
       "    <tr>\n",
       "      <th>0</th>\n",
       "      <td>False</td>\n",
       "      <td>False</td>\n",
       "      <td>False</td>\n",
       "      <td>False</td>\n",
       "      <td>False</td>\n",
       "      <td>False</td>\n",
       "      <td>False</td>\n",
       "      <td>False</td>\n",
       "      <td>False</td>\n",
       "      <td>False</td>\n",
       "      <td>...</td>\n",
       "      <td>False</td>\n",
       "      <td>False</td>\n",
       "      <td>False</td>\n",
       "      <td>False</td>\n",
       "      <td>False</td>\n",
       "      <td>False</td>\n",
       "      <td>False</td>\n",
       "      <td>False</td>\n",
       "      <td>False</td>\n",
       "      <td>True</td>\n",
       "    </tr>\n",
       "    <tr>\n",
       "      <th>1</th>\n",
       "      <td>False</td>\n",
       "      <td>False</td>\n",
       "      <td>False</td>\n",
       "      <td>False</td>\n",
       "      <td>False</td>\n",
       "      <td>False</td>\n",
       "      <td>False</td>\n",
       "      <td>False</td>\n",
       "      <td>False</td>\n",
       "      <td>False</td>\n",
       "      <td>...</td>\n",
       "      <td>False</td>\n",
       "      <td>False</td>\n",
       "      <td>False</td>\n",
       "      <td>False</td>\n",
       "      <td>False</td>\n",
       "      <td>False</td>\n",
       "      <td>False</td>\n",
       "      <td>False</td>\n",
       "      <td>False</td>\n",
       "      <td>False</td>\n",
       "    </tr>\n",
       "    <tr>\n",
       "      <th>2</th>\n",
       "      <td>False</td>\n",
       "      <td>False</td>\n",
       "      <td>False</td>\n",
       "      <td>False</td>\n",
       "      <td>False</td>\n",
       "      <td>False</td>\n",
       "      <td>False</td>\n",
       "      <td>False</td>\n",
       "      <td>False</td>\n",
       "      <td>False</td>\n",
       "      <td>...</td>\n",
       "      <td>False</td>\n",
       "      <td>False</td>\n",
       "      <td>False</td>\n",
       "      <td>False</td>\n",
       "      <td>False</td>\n",
       "      <td>False</td>\n",
       "      <td>False</td>\n",
       "      <td>False</td>\n",
       "      <td>False</td>\n",
       "      <td>False</td>\n",
       "    </tr>\n",
       "    <tr>\n",
       "      <th>3</th>\n",
       "      <td>False</td>\n",
       "      <td>False</td>\n",
       "      <td>False</td>\n",
       "      <td>False</td>\n",
       "      <td>False</td>\n",
       "      <td>False</td>\n",
       "      <td>False</td>\n",
       "      <td>False</td>\n",
       "      <td>False</td>\n",
       "      <td>False</td>\n",
       "      <td>...</td>\n",
       "      <td>False</td>\n",
       "      <td>False</td>\n",
       "      <td>False</td>\n",
       "      <td>False</td>\n",
       "      <td>False</td>\n",
       "      <td>False</td>\n",
       "      <td>False</td>\n",
       "      <td>False</td>\n",
       "      <td>False</td>\n",
       "      <td>False</td>\n",
       "    </tr>\n",
       "    <tr>\n",
       "      <th>4</th>\n",
       "      <td>False</td>\n",
       "      <td>False</td>\n",
       "      <td>False</td>\n",
       "      <td>False</td>\n",
       "      <td>False</td>\n",
       "      <td>False</td>\n",
       "      <td>False</td>\n",
       "      <td>False</td>\n",
       "      <td>False</td>\n",
       "      <td>False</td>\n",
       "      <td>...</td>\n",
       "      <td>False</td>\n",
       "      <td>False</td>\n",
       "      <td>False</td>\n",
       "      <td>False</td>\n",
       "      <td>False</td>\n",
       "      <td>False</td>\n",
       "      <td>False</td>\n",
       "      <td>False</td>\n",
       "      <td>False</td>\n",
       "      <td>True</td>\n",
       "    </tr>\n",
       "  </tbody>\n",
       "</table>\n",
       "<p>5 rows × 197 columns</p>\n",
       "</div>"
      ]
     },
     "execution_count": 8,
     "metadata": {},
     "output_type": "execute_result"
    }
   ],
   "execution_count": 8
  },
  {
   "metadata": {
    "ExecuteTime": {
     "end_time": "2025-04-30T18:11:38.704901Z",
     "start_time": "2025-04-30T18:11:38.397933Z"
    }
   },
   "cell_type": "code",
   "source": [
    "# save both as mnist_train.csv and mnist_test.csv\n",
    "\n",
    "train_df.to_csv(os.path.join(data_dir, \"mnist_train.csv\"), index=False)\n",
    "test_df.to_csv(os.path.join(data_dir, \"mnist_test.csv\"), index=False)"
   ],
   "id": "dd1d2305b4b4c6ff",
   "outputs": [],
   "execution_count": 9
  },
  {
   "metadata": {
    "ExecuteTime": {
     "end_time": "2025-04-30T18:18:47.626389Z",
     "start_time": "2025-04-30T18:18:47.622146Z"
    }
   },
   "cell_type": "code",
   "source": [
    "# after preprocessing check how many labels true and false out of size for each dataset\n",
    "\n",
    "train_true_perc = train_df['label'].value_counts()[True] / len(train_df) * 100\n",
    "test_true_perc = test_df['label'].value_counts()[True] / len(test_df) * 100\n",
    "\n",
    "print(f\"Train set true labels: {train_true_perc:.2f}%\")\n",
    "print(f\"Test set true labels: {test_true_perc:.2f}%\")"
   ],
   "id": "ebedb979adef0e40",
   "outputs": [
    {
     "name": "stdout",
     "output_type": "stream",
     "text": [
      "Train set true labels: 48.64%\n",
      "Test set true labels: 49.67%\n"
     ]
    }
   ],
   "execution_count": 26
  },
  {
   "metadata": {},
   "cell_type": "code",
   "outputs": [],
   "execution_count": null,
   "source": "",
   "id": "a38b3f683b7ca9f8"
  }
 ],
 "metadata": {
  "kernelspec": {
   "display_name": "Python 3",
   "language": "python",
   "name": "python3"
  },
  "language_info": {
   "codemirror_mode": {
    "name": "ipython",
    "version": 2
   },
   "file_extension": ".py",
   "mimetype": "text/x-python",
   "name": "python",
   "nbconvert_exporter": "python",
   "pygments_lexer": "ipython2",
   "version": "2.7.6"
  }
 },
 "nbformat": 4,
 "nbformat_minor": 5
}
